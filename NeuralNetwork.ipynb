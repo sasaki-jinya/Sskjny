{
 "cells": [
  {
   "cell_type": "code",
   "execution_count": 1,
   "metadata": {},
   "outputs": [],
   "source": [
    "import numpy as np\n",
    "from sklearn import datasets, model_selection, svm, metrics\n",
    "from sklearn.datasets import fetch_mldata\n",
    "from sklearn.neural_network import MLPClassifier\n",
    "# URL:https://qiita.com/nvtomo1029/items/200dbfe5928c4a0cd625"
   ]
  },
  {
   "cell_type": "code",
   "execution_count": 2,
   "metadata": {},
   "outputs": [
    {
     "name": "stderr",
     "output_type": "stream",
     "text": [
      "C:\\Users\\Owner\\Anaconda3\\lib\\site-packages\\sklearn\\utils\\deprecation.py:85: DeprecationWarning: Function fetch_mldata is deprecated; fetch_mldata was deprecated in version 0.20 and will be removed in version 0.22. Please use fetch_openml.\n",
      "  warnings.warn(msg, category=DeprecationWarning)\n",
      "C:\\Users\\Owner\\Anaconda3\\lib\\site-packages\\sklearn\\utils\\deprecation.py:85: DeprecationWarning: Function mldata_filename is deprecated; mldata_filename was deprecated in version 0.20 and will be removed in version 0.22. Please use fetch_openml.\n",
      "  warnings.warn(msg, category=DeprecationWarning)\n"
     ]
    },
    {
     "name": "stdout",
     "output_type": "stream",
     "text": [
      "<class 'sklearn.utils.Bunch'>\n",
      "dict_keys(['DESCR', 'COL_NAMES', 'target', 'data'])\n"
     ]
    }
   ],
   "source": [
    "mnist = datasets.fetch_mldata('MNIST original', data_home='data/src/download/')\n",
    "\n",
    "print(type(mnist))\n",
    "print(mnist.keys())"
   ]
  },
  {
   "cell_type": "code",
   "execution_count": 3,
   "metadata": {},
   "outputs": [],
   "source": [
    "mnist_data = mnist.data / 255 # 8bitのデータを0.0～1.0に正規化\n",
    "mnist_label = mnist.target"
   ]
  },
  {
   "cell_type": "markdown",
   "metadata": {},
   "source": [
    "## Data split"
   ]
  },
  {
   "cell_type": "code",
   "execution_count": 4,
   "metadata": {},
   "outputs": [
    {
     "name": "stdout",
     "output_type": "stream",
     "text": [
      "train_size: 21000\n",
      "test_size: 3500\n"
     ]
    }
   ],
   "source": [
    "data_train, data_test, label_train, label_test = model_selection.train_test_split(mnist_data, mnist_label, test_size=0.05, train_size=0.3) # 学習用は全データの30%、テスト用は5%に設定\n",
    "print('train_size:', data_train.shape[0]) # 学習データ数\n",
    "print('test_size:', data_test.shape[0]) # テストデータ数"
   ]
  },
  {
   "cell_type": "code",
   "execution_count": 5,
   "metadata": {},
   "outputs": [],
   "source": [
    "classifiers = [\n",
    "    (('Adam_1layer', MLPClassifier(solver=\"adam\", early_stopping=True))), \n",
    "    (('Adam_2layer)', MLPClassifier(solver=\"adam\", early_stopping=True, hidden_layer_sizes=(100, 10)))), \n",
    "    (('Adam_3layer)', MLPClassifier(solver=\"adam\",  early_stopping=True, hidden_layer_sizes=(100, 100, 10)))), \n",
    "    (('Adam_4layer)', MLPClassifier(solver=\"adam\",  early_stopping=True, hidden_layer_sizes=(100, 100, 100, 10)))) \n",
    "]"
   ]
  },
  {
   "cell_type": "code",
   "execution_count": 6,
   "metadata": {},
   "outputs": [],
   "source": [
    "classifier_names = [\n",
    "    'Adam', \n",
    "    'Adam_2layer', \n",
    "    'Adam_3layer', \n",
    "    'Adam_4layer' \n",
    "]"
   ]
  },
  {
   "cell_type": "code",
   "execution_count": 8,
   "metadata": {},
   "outputs": [
    {
     "name": "stdout",
     "output_type": "stream",
     "text": [
      "Adam_1layer start\n",
      "AC Score: 0.9617142857142857\n",
      "confusion matrix:\n",
      "[[339   0   1   0   1   0   2   0   6   0]\n",
      " [  0 408   3   1   0   0   1   2   1   0]\n",
      " [  2   0 342   1   3   0   1   3   2   0]\n",
      " [  0   1   6 328   0   2   2   2   4   0]\n",
      " [  0   2   1   0 303   0   2   1   3   6]\n",
      " [  1   1   1   6   2 318   1   1   2   1]\n",
      " [  0   0   1   0   2   3 328   0   1   0]\n",
      " [  0   3   4   0   2   2   0 346   0   6]\n",
      " [  0   2   2   1   1   5   0   0 333   1]\n",
      " [  1   1   1   2   6   2   0   5   2 321]]\n",
      "classification report:\n",
      "              precision    recall  f1-score   support\n",
      "\n",
      "         0.0       0.99      0.97      0.98       349\n",
      "         1.0       0.98      0.98      0.98       416\n",
      "         2.0       0.94      0.97      0.96       354\n",
      "         3.0       0.97      0.95      0.96       345\n",
      "         4.0       0.95      0.95      0.95       318\n",
      "         5.0       0.96      0.95      0.95       334\n",
      "         6.0       0.97      0.98      0.98       335\n",
      "         7.0       0.96      0.95      0.96       363\n",
      "         8.0       0.94      0.97      0.95       345\n",
      "         9.0       0.96      0.94      0.95       341\n",
      "\n",
      "    accuracy                           0.96      3500\n",
      "   macro avg       0.96      0.96      0.96      3500\n",
      "weighted avg       0.96      0.96      0.96      3500\n",
      "\n",
      "Adam_1layer end\n",
      "Adam_2layer) start\n",
      "AC Score: 0.9614285714285714\n",
      "confusion matrix:\n",
      "[[340   0   0   1   0   0   2   0   5   1]\n",
      " [  0 410   3   1   0   0   0   2   0   0]\n",
      " [  2   0 342   4   2   0   0   2   2   0]\n",
      " [  0   1   8 328   1   3   0   3   0   1]\n",
      " [  0   1   1   1 301   0   2   2   3   7]\n",
      " [  0   0   0   9   1 318   2   1   2   1]\n",
      " [  0   0   2   0   2   5 325   0   1   0]\n",
      " [  0   3   5   0   4   0   0 345   0   6]\n",
      " [  0   3   2   2   1   4   1   0 331   1]\n",
      " [  1   1   1   3   5   1   0   4   0 325]]\n",
      "classification report:\n",
      "              precision    recall  f1-score   support\n",
      "\n",
      "         0.0       0.99      0.97      0.98       349\n",
      "         1.0       0.98      0.99      0.98       416\n",
      "         2.0       0.94      0.97      0.95       354\n",
      "         3.0       0.94      0.95      0.95       345\n",
      "         4.0       0.95      0.95      0.95       318\n",
      "         5.0       0.96      0.95      0.96       334\n",
      "         6.0       0.98      0.97      0.97       335\n",
      "         7.0       0.96      0.95      0.96       363\n",
      "         8.0       0.96      0.96      0.96       345\n",
      "         9.0       0.95      0.95      0.95       341\n",
      "\n",
      "    accuracy                           0.96      3500\n",
      "   macro avg       0.96      0.96      0.96      3500\n",
      "weighted avg       0.96      0.96      0.96      3500\n",
      "\n",
      "Adam_2layer) end\n",
      "Adam_3layer) start\n",
      "AC Score: 0.9537142857142857\n",
      "confusion matrix:\n",
      "[[341   0   0   0   1   0   2   0   3   2]\n",
      " [  0 406   3   1   2   1   0   1   2   0]\n",
      " [  2   1 339   4   0   1   1   2   2   2]\n",
      " [  1   2   8 321   0   5   2   4   2   0]\n",
      " [  0   1   1   0 302   1   0   2   1  10]\n",
      " [  2   1   2   4   0 315   2   2   2   4]\n",
      " [  2   0   1   0   4   5 321   0   2   0]\n",
      " [  0   3   4   0   3   1   0 341   1  10]\n",
      " [  0   2   1   4   1   6   1   0 327   3]\n",
      " [  1   0   0   2   4   1   0   5   3 325]]\n",
      "classification report:\n",
      "              precision    recall  f1-score   support\n",
      "\n",
      "         0.0       0.98      0.98      0.98       349\n",
      "         1.0       0.98      0.98      0.98       416\n",
      "         2.0       0.94      0.96      0.95       354\n",
      "         3.0       0.96      0.93      0.94       345\n",
      "         4.0       0.95      0.95      0.95       318\n",
      "         5.0       0.94      0.94      0.94       334\n",
      "         6.0       0.98      0.96      0.97       335\n",
      "         7.0       0.96      0.94      0.95       363\n",
      "         8.0       0.95      0.95      0.95       345\n",
      "         9.0       0.91      0.95      0.93       341\n",
      "\n",
      "    accuracy                           0.95      3500\n",
      "   macro avg       0.95      0.95      0.95      3500\n",
      "weighted avg       0.95      0.95      0.95      3500\n",
      "\n",
      "Adam_3layer) end\n",
      "Adam_4layer) start\n",
      "AC Score: 0.9571428571428572\n",
      "confusion matrix:\n",
      "[[340   0   0   0   2   1   1   0   4   1]\n",
      " [  0 405   3   2   1   0   1   3   0   1]\n",
      " [  4   0 339   2   0   0   2   4   3   0]\n",
      " [  0   1   5 324   0   5   0   4   6   0]\n",
      " [  1   1   1   0 303   0   1   1   1   9]\n",
      " [  1   0   0   3   1 317   1   2   5   4]\n",
      " [  1   0   1   0   8   5 320   0   0   0]\n",
      " [  0   2   2   0   1   0   1 351   0   6]\n",
      " [  0   2   1   1   0   5   1   1 331   3]\n",
      " [  0   0   0   1   8   2   0  10   0 320]]\n",
      "classification report:\n",
      "              precision    recall  f1-score   support\n",
      "\n",
      "         0.0       0.98      0.97      0.98       349\n",
      "         1.0       0.99      0.97      0.98       416\n",
      "         2.0       0.96      0.96      0.96       354\n",
      "         3.0       0.97      0.94      0.96       345\n",
      "         4.0       0.94      0.95      0.94       318\n",
      "         5.0       0.95      0.95      0.95       334\n",
      "         6.0       0.98      0.96      0.97       335\n",
      "         7.0       0.93      0.97      0.95       363\n",
      "         8.0       0.95      0.96      0.95       345\n",
      "         9.0       0.93      0.94      0.93       341\n",
      "\n",
      "    accuracy                           0.96      3500\n",
      "   macro avg       0.96      0.96      0.96      3500\n",
      "weighted avg       0.96      0.96      0.96      3500\n",
      "\n",
      "Adam_4layer) end\n"
     ]
    }
   ],
   "source": [
    "for name, clf in classifiers:\n",
    "    print(name, 'start')\n",
    "    # 予測\n",
    "    clf.fit(data_train, label_train)\n",
    "    pre = clf.predict(data_test)\n",
    "    ### 評価 ###\n",
    "    # accuracy\n",
    "    ac_score = metrics.accuracy_score(label_test, pre)\n",
    "    \n",
    "    # confusion_matrix\n",
    "    co_mat = metrics.confusion_matrix(label_test, pre)\n",
    "    \n",
    "    # precision, recall, f1-score の評価\n",
    "    cl_repo = metrics.classification_report(label_test, pre)\n",
    "    \n",
    "    print('AC Score:', ac_score)\n",
    "    print('confusion matrix:')\n",
    "    print(co_mat)\n",
    "    print('classification report:')\n",
    "    print(cl_repo)\n",
    "    \n",
    "    print(name, 'end')"
   ]
  },
  {
   "cell_type": "markdown",
   "metadata": {},
   "source": [
    "## parameter"
   ]
  },
  {
   "cell_type": "code",
   "execution_count": 9,
   "metadata": {},
   "outputs": [],
   "source": [
    "# ハイパーパラメータのリスト\n",
    "tuned_parameters = [\n",
    "    {\n",
    "        # 最適化手法\n",
    "        \"solver\":[\"lbfgs\", \"sgd\", \"adam\"], \n",
    "        # 隠れ層の層の数と、各層のニューロンの数\n",
    "        \"hidden_layer_sizes\":[(100,), (100, 10), (100, 100, 10), (100, 100, 100, 10)], \n",
    "    }\n",
    "]\n",
    "\n",
    "# ニューラルネットワークの分類器とハイパーパラメータのリストを定義\n",
    "licv=model_selection.GridSearchCV(MLPClassifier(early_stopping=True), param_grid=tuned_parameters, scoring=\"accuracy\")"
   ]
  },
  {
   "cell_type": "code",
   "execution_count": 10,
   "metadata": {},
   "outputs": [
    {
     "name": "stderr",
     "output_type": "stream",
     "text": [
      "C:\\Users\\Owner\\Anaconda3\\lib\\site-packages\\sklearn\\model_selection\\_split.py:1978: FutureWarning: The default value of cv will change from 3 to 5 in version 0.22. Specify it explicitly to silence this warning.\n",
      "  warnings.warn(CV_WARNING, FutureWarning)\n"
     ]
    },
    {
     "name": "stdout",
     "output_type": "stream",
     "text": [
      "licv.best_params_ :  {'hidden_layer_sizes': (100,), 'solver': 'lbfgs'}\n",
      "licv.best_estimator_ :  MLPClassifier(activation='relu', alpha=0.0001, batch_size='auto', beta_1=0.9,\n",
      "              beta_2=0.999, early_stopping=True, epsilon=1e-08,\n",
      "              hidden_layer_sizes=(100,), learning_rate='constant',\n",
      "              learning_rate_init=0.001, max_iter=200, momentum=0.9,\n",
      "              n_iter_no_change=10, nesterovs_momentum=True, power_t=0.5,\n",
      "              random_state=None, shuffle=True, solver='lbfgs', tol=0.0001,\n",
      "              validation_fraction=0.1, verbose=False, warm_start=False)\n",
      "licv.best_score_ :  0.9570952380952381\n"
     ]
    }
   ],
   "source": [
    "# 最適なハイパーパラメータを探索する\n",
    "licv.fit(data_train, label_train)\n",
    "\n",
    "# 最適なパラメータを表示(リストで指定している項目のみ)\n",
    "print('licv.best_params_ : ', licv.best_params_)\n",
    "\n",
    "# 最適なパラメータを表示(リストで指定していない項目も含め全項目表示)\n",
    "print('licv.best_estimator_ : ', licv.best_estimator_)\n",
    "\n",
    "# 最適なパラメータ指定時の評価値\n",
    "print('licv.best_score_ : ', licv.best_score_)"
   ]
  },
  {
   "cell_type": "code",
   "execution_count": 11,
   "metadata": {},
   "outputs": [
    {
     "name": "stdout",
     "output_type": "stream",
     "text": [
      "AC Score: 0.9571428571428572\n",
      "confusion matrix:\n",
      "[[342   0   0   0   1   0   2   0   3   1]\n",
      " [  0 408   3   1   1   0   1   1   0   1]\n",
      " [  2   0 335   6   1   1   1   2   4   2]\n",
      " [  1   0   9 323   0   2   1   3   4   2]\n",
      " [  0   0   1   1 304   0   1   3   3   5]\n",
      " [  1   1   1   6   1 313   4   1   2   4]\n",
      " [  1   0   2   0   2   3 325   0   2   0]\n",
      " [  0   3   4   1   1   0   0 346   0   8]\n",
      " [  1   2   2   5   0   3   0   0 332   0]\n",
      " [  1   1   1   3   2   2   0   9   0 322]]\n",
      "classification report:\n",
      "              precision    recall  f1-score   support\n",
      "\n",
      "         0.0       0.98      0.98      0.98       349\n",
      "         1.0       0.98      0.98      0.98       416\n",
      "         2.0       0.94      0.95      0.94       354\n",
      "         3.0       0.93      0.94      0.93       345\n",
      "         4.0       0.97      0.96      0.96       318\n",
      "         5.0       0.97      0.94      0.95       334\n",
      "         6.0       0.97      0.97      0.97       335\n",
      "         7.0       0.95      0.95      0.95       363\n",
      "         8.0       0.95      0.96      0.96       345\n",
      "         9.0       0.93      0.94      0.94       341\n",
      "\n",
      "    accuracy                           0.96      3500\n",
      "   macro avg       0.96      0.96      0.96      3500\n",
      "weighted avg       0.96      0.96      0.96      3500\n",
      "\n"
     ]
    }
   ],
   "source": [
    "# 求められた最適なパラメータで予測、評価\n",
    "pre = licv.predict(data_test)\n",
    "# 正解率取得\n",
    "ac_score = metrics.accuracy_score(label_test, pre)\n",
    "print('AC Score:', ac_score)\n",
    "# 混同行列の出力\n",
    "co_mat = metrics.confusion_matrix(label_test, pre)\n",
    "print('confusion matrix:')\n",
    "print(co_mat)\n",
    "# precision, recall, f1-score の評価\n",
    "cl_repo = metrics.classification_report(label_test, pre)\n",
    "print('classification report:')\n",
    "print(cl_repo)"
   ]
  },
  {
   "cell_type": "code",
   "execution_count": null,
   "metadata": {},
   "outputs": [],
   "source": []
  }
 ],
 "metadata": {
  "kernelspec": {
   "display_name": "Python 3",
   "language": "python",
   "name": "python3"
  },
  "language_info": {
   "codemirror_mode": {
    "name": "ipython",
    "version": 3
   },
   "file_extension": ".py",
   "mimetype": "text/x-python",
   "name": "python",
   "nbconvert_exporter": "python",
   "pygments_lexer": "ipython3",
   "version": "3.7.3"
  }
 },
 "nbformat": 4,
 "nbformat_minor": 2
}
