{
 "cells": [
  {
   "cell_type": "code",
   "execution_count": 1,
   "metadata": {},
   "outputs": [],
   "source": [
    "import numpy as np\n",
    "from sklearn import datasets, model_selection, svm, metrics\n",
    "from sklearn.datasets import fetch_mldata\n",
    "from sklearn.neural_network import MLPClassifier\n",
    "# URL:https://qiita.com/nvtomo1029/items/200dbfe5928c4a0cd625"
   ]
  },
  {
   "cell_type": "code",
   "execution_count": 2,
   "metadata": {},
   "outputs": [
    {
     "name": "stdout",
     "output_type": "stream",
     "text": [
      "<class 'sklearn.utils.Bunch'>\n",
      "dict_keys(['DESCR', 'COL_NAMES', 'target', 'data'])\n"
     ]
    },
    {
     "name": "stderr",
     "output_type": "stream",
     "text": [
      "C:\\Users\\Owner\\Anaconda3\\lib\\site-packages\\sklearn\\utils\\deprecation.py:85: DeprecationWarning: Function fetch_mldata is deprecated; fetch_mldata was deprecated in version 0.20 and will be removed in version 0.22. Please use fetch_openml.\n",
      "  warnings.warn(msg, category=DeprecationWarning)\n",
      "C:\\Users\\Owner\\Anaconda3\\lib\\site-packages\\sklearn\\utils\\deprecation.py:85: DeprecationWarning: Function mldata_filename is deprecated; mldata_filename was deprecated in version 0.20 and will be removed in version 0.22. Please use fetch_openml.\n",
      "  warnings.warn(msg, category=DeprecationWarning)\n"
     ]
    }
   ],
   "source": [
    "mnist = datasets.fetch_mldata('MNIST original', data_home='data/src/download/')\n",
    "\n",
    "print(type(mnist))\n",
    "print(mnist.keys())"
   ]
  },
  {
   "cell_type": "code",
   "execution_count": 3,
   "metadata": {},
   "outputs": [],
   "source": [
    "mnist_data = mnist.data / 255 # 8bitのデータを0.0～1.0に正規化\n",
    "mnist_label = mnist.target"
   ]
  },
  {
   "cell_type": "markdown",
   "metadata": {},
   "source": [
    "## Data split"
   ]
  },
  {
   "cell_type": "code",
   "execution_count": 4,
   "metadata": {},
   "outputs": [
    {
     "name": "stdout",
     "output_type": "stream",
     "text": [
      "train_size: 21000\n",
      "test_size: 3500\n"
     ]
    }
   ],
   "source": [
    "data_train, data_test, label_train, label_test = model_selection.train_test_split(mnist_data, mnist_label, test_size=0.05, train_size=0.3) # 学習用は全データの30%、テスト用は5%に設定\n",
    "print('train_size:', data_train.shape[0]) # 学習データ数\n",
    "print('test_size:', data_test.shape[0]) # テストデータ数"
   ]
  },
  {
   "cell_type": "code",
   "execution_count": 5,
   "metadata": {},
   "outputs": [],
   "source": [
    "classifiers = [\n",
    "    (('Adam_1layer', MLPClassifier(solver=\"adam\", early_stopping=True))), \n",
    "    (('Adam_2layer)', MLPClassifier(solver=\"adam\", early_stopping=True, hidden_layer_sizes=(100, 10)))), \n",
    "    (('Adam_3layer)', MLPClassifier(solver=\"adam\",  early_stopping=True, hidden_layer_sizes=(100, 100, 10)))), \n",
    "    (('Adam_4layer)', MLPClassifier(solver=\"adam\",  early_stopping=True, hidden_layer_sizes=(100, 100, 100, 10)))) \n",
    "]"
   ]
  },
  {
   "cell_type": "code",
   "execution_count": 6,
   "metadata": {},
   "outputs": [],
   "source": [
    "classifier_names = [\n",
    "    'Adam', \n",
    "    'Adam_2layer', \n",
    "    'Adam_3layer', \n",
    "    'Adam_4layer' \n",
    "]"
   ]
  },
  {
   "cell_type": "code",
   "execution_count": null,
   "metadata": {},
   "outputs": [],
   "source": [
    "for name, clf in classifiers:\n",
    "    print(name, 'start')\n",
    "    # 予測\n",
    "    pre = clf.predict(data_test)\n",
    "    ### 評価 ###\n",
    "    # accuracy\n",
    "    ac_score = metrics.accuracy_score(label_test, pre)\n",
    "    \n",
    "    # confusion_matrix\n",
    "    co_mat = metrics.confusion_matrix(label_test, pre)\n",
    "    \n",
    "    # precision, recall, f1-score の評価\n",
    "    cl_repo = metrics.classification_report(label_test, pre)\n",
    "    \n",
    "    print('AC Score:', ac_score)\n",
    "    print('confusion matrix:')\n",
    "    print(co_mat)\n",
    "    print('classification report:')\n",
    "    print(cl_repo)\n",
    "    \n",
    "    print(name, 'end')"
   ]
  },
  {
   "cell_type": "markdown",
   "metadata": {},
   "source": [
    "## parameter"
   ]
  },
  {
   "cell_type": "code",
   "execution_count": 8,
   "metadata": {},
   "outputs": [],
   "source": [
    "# ハイパーパラメータのリスト\n",
    "tuned_parameters = [\n",
    "    {\n",
    "        # 最適化手法\n",
    "        \"solver\":[\"lbfgs\", \"sgd\", \"adam\"], \n",
    "        # 隠れ層の層の数と、各層のニューロンの数\n",
    "        \"hidden_layer_sizes\":[(100,), (100, 10), (100, 100, 10), (100, 100, 100, 10)], \n",
    "    }\n",
    "]\n",
    "\n",
    "# ニューラルネットワークの分類器とハイパーパラメータのリストを定義\n",
    "licv=model_selection.GridSearchCV(MLPClassifier(early_stopping=True), param_grid=tuned_parameters, scoring=\"accuracy\")"
   ]
  },
  {
   "cell_type": "code",
   "execution_count": null,
   "metadata": {},
   "outputs": [
    {
     "name": "stderr",
     "output_type": "stream",
     "text": [
      "C:\\Users\\Owner\\Anaconda3\\lib\\site-packages\\sklearn\\model_selection\\_split.py:1978: FutureWarning: The default value of cv will change from 3 to 5 in version 0.22. Specify it explicitly to silence this warning.\n",
      "  warnings.warn(CV_WARNING, FutureWarning)\n"
     ]
    }
   ],
   "source": [
    "# 最適なハイパーパラメータを探索する\n",
    "licv.fit(data_train, label_train)\n",
    "\n",
    "# 最適なパラメータを表示(リストで指定している項目のみ)\n",
    "print('licv.best_params_ : ', licv.best_params_)\n",
    "\n",
    "# 最適なパラメータを表示(リストで指定していない項目も含め全項目表示)\n",
    "print('licv.best_estimator_ : ', licv.best_estimator_)\n",
    "\n",
    "# 最適なパラメータ指定時の評価値\n",
    "print('licv.best_score_ : ', licv.best_score_)"
   ]
  },
  {
   "cell_type": "code",
   "execution_count": null,
   "metadata": {},
   "outputs": [],
   "source": [
    "# 求められた最適なパラメータで予測、評価\n",
    "pre = licv.predict(data_test)\n",
    "# 正解率取得\n",
    "ac_score = metrics.accuracy_score(label_test, pre)\n",
    "print('AC Score:', ac_score)\n",
    "# 混同行列の出力\n",
    "co_mat = metrics.confusion_matrix(label_test, pre)\n",
    "print('confusion matrix:')\n",
    "print(co_mat)\n",
    "# precision, recall, f1-score の評価\n",
    "cl_repo = metrics.classification_report(label_test, pre)\n",
    "print('classification report:')\n",
    "print(cl_repo)"
   ]
  },
  {
   "cell_type": "code",
   "execution_count": null,
   "metadata": {},
   "outputs": [],
   "source": []
  }
 ],
 "metadata": {
  "kernelspec": {
   "display_name": "Python 3",
   "language": "python",
   "name": "python3"
  },
  "language_info": {
   "codemirror_mode": {
    "name": "ipython",
    "version": 3
   },
   "file_extension": ".py",
   "mimetype": "text/x-python",
   "name": "python",
   "nbconvert_exporter": "python",
   "pygments_lexer": "ipython3",
   "version": "3.7.3"
  }
 },
 "nbformat": 4,
 "nbformat_minor": 2
}
