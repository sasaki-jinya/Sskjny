{
 "cells": [
  {
   "cell_type": "code",
   "execution_count": null,
   "metadata": {},
   "outputs": [],
   "source": [
    "from skmultiflow.data.file_stream import FileStream\n",
    "\n",
    "stream = FileStream('skmultiflow/data/datasets/sea_stream.csv')\n",
    "stream.prepare_for_use()\n",
    "stream.next_sample()\n",
    "\n",
    "\n",
    "stream.next_sample(10)\n",
    "\n",
    "stream.n_remaining_samples()\n",
    "\n",
    "stream.has_more_samples()\n"
   ]
  },
  {
   "cell_type": "code",
   "execution_count": 1,
   "metadata": {},
   "outputs": [],
   "source": [
    "from skmultiflow.data.file_stream import FileStream"
   ]
  },
  {
   "cell_type": "code",
   "execution_count": 3,
   "metadata": {},
   "outputs": [],
   "source": [
    "stream = FileStream('/home/program/sea_stream.csv')\n",
    "stream.prepare_for_use()"
   ]
  },
  {
   "cell_type": "code",
   "execution_count": 4,
   "metadata": {},
   "outputs": [
    {
     "data": {
      "text/plain": [
       "(array([[0.080429, 8.397187, 7.074928]]), array([0], dtype=int64))"
      ]
     },
     "execution_count": 4,
     "metadata": {},
     "output_type": "execute_result"
    }
   ],
   "source": [
    "stream.next_sample()"
   ]
  },
  {
   "cell_type": "code",
   "execution_count": 5,
   "metadata": {},
   "outputs": [
    {
     "data": {
      "text/plain": [
       "(array([[1.42074 , 7.504724, 6.764101],\n",
       "        [0.960543, 5.168416, 8.298959],\n",
       "        [3.367279, 6.797711, 4.857875],\n",
       "        [9.265933, 8.548432, 2.460325],\n",
       "        [7.295862, 2.373183, 3.427656],\n",
       "        [9.289001, 3.280215, 3.154171],\n",
       "        [0.279599, 7.340643, 3.729721],\n",
       "        [4.387696, 1.97443 , 6.447183],\n",
       "        [2.933823, 7.150514, 2.566901],\n",
       "        [4.303049, 1.471813, 9.078151]]),\n",
       " array([0, 0, 1, 1, 1, 1, 0, 0, 1, 0], dtype=int64))"
      ]
     },
     "execution_count": 5,
     "metadata": {},
     "output_type": "execute_result"
    }
   ],
   "source": [
    "stream.next_sample(10)"
   ]
  },
  {
   "cell_type": "code",
   "execution_count": 6,
   "metadata": {},
   "outputs": [
    {
     "data": {
      "text/plain": [
       "39989"
      ]
     },
     "execution_count": 6,
     "metadata": {},
     "output_type": "execute_result"
    }
   ],
   "source": [
    "stream.n_remaining_samples()"
   ]
  },
  {
   "cell_type": "code",
   "execution_count": 7,
   "metadata": {},
   "outputs": [
    {
     "data": {
      "text/plain": [
       "True"
      ]
     },
     "execution_count": 7,
     "metadata": {},
     "output_type": "execute_result"
    }
   ],
   "source": [
    "stream.has_more_samples()"
   ]
  },
  {
   "cell_type": "code",
   "execution_count": null,
   "metadata": {},
   "outputs": [],
   "source": []
  }
 ],
 "metadata": {
  "kernelspec": {
   "display_name": "Python 3",
   "language": "python",
   "name": "python3"
  },
  "language_info": {
   "codemirror_mode": {
    "name": "ipython",
    "version": 3
   },
   "file_extension": ".py",
   "mimetype": "text/x-python",
   "name": "python",
   "nbconvert_exporter": "python",
   "pygments_lexer": "ipython3",
   "version": "3.7.4"
  }
 },
 "nbformat": 4,
 "nbformat_minor": 4
}
