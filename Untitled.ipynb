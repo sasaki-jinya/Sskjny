{
 "cells": [
  {
   "cell_type": "code",
   "execution_count": 1,
   "metadata": {},
   "outputs": [],
   "source": [
    "import datetime as dt\n",
    "\n",
    "import pandas_datareader.data as web\n",
    "\n",
    "from arch import arch_model\n",
    "\n",
    "start = dt.datetime(2000, 1, 1)\n",
    "end = dt.datetime(2014, 1, 1)\n",
    "sp500 = web.DataReader('^GSPC', 'yahoo', start=start, end=end)\n",
    "returns = 100 * sp500['Adj Close'].pct_change().dropna()\n",
    "am = arch_model(returns)"
   ]
  },
  {
   "cell_type": "code",
   "execution_count": 3,
   "metadata": {},
   "outputs": [
    {
     "name": "stdout",
     "output_type": "stream",
     "text": [
      "Iteration:      1,   Func. Count:      6,   Neg. LLF: 5161.390142603925\n",
      "Iteration:      2,   Func. Count:     16,   Neg. LLF: 5157.873236659235\n",
      "Iteration:      3,   Func. Count:     24,   Neg. LLF: 5154.1249434441015\n",
      "Iteration:      4,   Func. Count:     31,   Neg. LLF: 5148.269395211604\n",
      "Iteration:      5,   Func. Count:     38,   Neg. LLF: 5145.644814808684\n",
      "Iteration:      6,   Func. Count:     45,   Neg. LLF: 5144.79433294904\n",
      "Iteration:      7,   Func. Count:     52,   Neg. LLF: 5144.004588792091\n",
      "Iteration:      8,   Func. Count:     60,   Neg. LLF: 5143.831021958759\n",
      "Iteration:      9,   Func. Count:     67,   Neg. LLF: 5143.170895489035\n",
      "Iteration:     10,   Func. Count:     73,   Neg. LLF: 5143.145840400939\n",
      "Iteration:     11,   Func. Count:     79,   Neg. LLF: 5143.143908613383\n",
      "Iteration:     12,   Func. Count:     85,   Neg. LLF: 5143.143903073253\n",
      "Optimization terminated successfully.    (Exit mode 0)\n",
      "            Current function value: 5143.143903071979\n",
      "            Iterations: 12\n",
      "            Function evaluations: 85\n",
      "            Gradient evaluations: 12\n"
     ]
    }
   ],
   "source": [
    "res = am.fit()"
   ]
  },
  {
   "cell_type": "code",
   "execution_count": 4,
   "metadata": {},
   "outputs": [
    {
     "name": "stdout",
     "output_type": "stream",
     "text": [
      "                     Constant Mean - GARCH Model Results                      \n",
      "==============================================================================\n",
      "Dep. Variable:              Adj Close   R-squared:                      -0.001\n",
      "Mean Model:             Constant Mean   Adj. R-squared:                 -0.001\n",
      "Vol Model:                      GARCH   Log-Likelihood:               -5143.14\n",
      "Distribution:                  Normal   AIC:                           10294.3\n",
      "Method:            Maximum Likelihood   BIC:                           10319.0\n",
      "                                        No. Observations:                 3521\n",
      "Date:                Sun, Jul 12 2020   Df Residuals:                     3517\n",
      "Time:                        19:33:58   Df Model:                            4\n",
      "                                 Mean Model                                 \n",
      "============================================================================\n",
      "                 coef    std err          t      P>|t|      95.0% Conf. Int.\n",
      "----------------------------------------------------------------------------\n",
      "mu             0.0530  1.487e-02      3.562  3.680e-04 [2.382e-02,8.210e-02]\n",
      "                              Volatility Model                              \n",
      "============================================================================\n",
      "                 coef    std err          t      P>|t|      95.0% Conf. Int.\n",
      "----------------------------------------------------------------------------\n",
      "omega          0.0155  4.921e-03      3.152  1.624e-03 [5.864e-03,2.516e-02]\n",
      "alpha[1]       0.0878  1.137e-02      7.715  1.211e-14   [6.546e-02,  0.110]\n",
      "beta[1]        0.9016  1.180e-02     76.384      0.000     [  0.878,  0.925]\n",
      "============================================================================\n",
      "\n",
      "Covariance estimator: robust\n"
     ]
    }
   ],
   "source": [
    "print(res.summary())"
   ]
  },
  {
   "cell_type": "code",
   "execution_count": 5,
   "metadata": {},
   "outputs": [
    {
     "name": "stdout",
     "output_type": "stream",
     "text": [
      "Date\n",
      "2000-01-03   -0.954911\n",
      "2000-01-04   -3.834467\n",
      "2000-01-05    0.192218\n",
      "2000-01-06    0.095568\n",
      "2000-01-07    2.709040\n",
      "                ...   \n",
      "2013-12-24    0.291575\n",
      "2013-12-26    0.474553\n",
      "2013-12-27   -0.033658\n",
      "2013-12-30   -0.017925\n",
      "2013-12-31    0.395968\n",
      "Name: Adj Close, Length: 3521, dtype: float64\n"
     ]
    }
   ],
   "source": [
    "print(returns)"
   ]
  },
  {
   "cell_type": "code",
   "execution_count": 6,
   "metadata": {},
   "outputs": [],
   "source": [
    "am = arch_model(returns, mean='AR', lags=2, vol='harch', p=[1, 5, 22])"
   ]
  },
  {
   "cell_type": "code",
   "execution_count": 7,
   "metadata": {},
   "outputs": [],
   "source": [
    "am = arch_model(returns, mean='zero', p=1, o=1, q=1,power=1.0, dist='StudentsT')"
   ]
  },
  {
   "cell_type": "code",
   "execution_count": 8,
   "metadata": {},
   "outputs": [],
   "source": [
    "split_date = dt.datetime(2010,1,1)"
   ]
  },
  {
   "cell_type": "code",
   "execution_count": 9,
   "metadata": {},
   "outputs": [
    {
     "data": {
      "text/plain": [
       "<matplotlib.axes._subplots.AxesSubplot at 0x3789f59c50>"
      ]
     },
     "execution_count": 9,
     "metadata": {},
     "output_type": "execute_result"
    },
    {
     "data": {
      "image/png": "[encoded data removed]",
      "text/plain": [
       "<Figure size 432x288 with 1 Axes>"
      ]
     },
     "metadata": {
      "needs_background": "light"
     },
     "output_type": "display_data"
    }
   ],
   "source": [
    "forecasts = res.forecast(horizon=5, start=split_date)\n",
    "forecasts.variance[split_date:].plot()"
   ]
  },
  {
   "cell_type": "markdown",
   "metadata": {},
   "source": []
  },
  {
   "cell_type": "code",
   "execution_count": 10,
   "metadata": {},
   "outputs": [
    {
     "name": "stderr",
     "output_type": "stream",
     "text": [
      "Using TensorFlow backend.\n"
     ]
    }
   ],
   "source": [
    "import sys\n",
    "import os\n",
    "import numpy\n",
    "import pandas\n",
    "from sklearn import preprocessing\n",
    "\n",
    "from keras.models import Sequential\n",
    "from keras.layers import Convolution2D, MaxPooling2D\n",
    "from keras.layers import Activation, Dropout, Flatten, Dense\n",
    "from keras.utils import np_utils"
   ]
  },
  {
   "cell_type": "code",
   "execution_count": 11,
   "metadata": {},
   "outputs": [],
   "source": [
    "class StockCNN : \n",
    "    def __init__(self):\n",
    "        self.length_of_sequences = 100\n",
    "    \n",
    "    def load_data(self, date, data, n_prev=100):\n",
    "        label = []\n",
    "        X, Y = [], []\n",
    "        for i in range(len(data) - n_prev):\n",
    "            label.append(date.iloc[i+n_prev].as_matrix())\n",
    "            X.append(data['close'].iloc[i:(i+n_prev)].as_matrix())\n",
    "            array = data.iloc[i:(i+n_prev)].as_matrix()\n",
    "            if (float(array[-1]) > float(data.iloc[i+n_prev].as_matrix())) :\n",
    "                Y.append([0])\n",
    "            else :\n",
    "                Y.append([1])\n",
    "        ret_label = numpy.array(label)\n",
    "        retX = numpy.array(X)\n",
    "        retY = numpy.array(Y)\n",
    "        return ret_label, retX, retY\n",
    "\n",
    "    def create_model(self) :\n",
    "        model = Sequential()\n",
    "        model.add(Dense(64, input_dim=self.length_of_sequences, activation='sigmoid'))\n",
    "        model.add(Dense(128, activation='sigmoid'))\n",
    "        model.add(Dense(64, activation='sigmoid'))\n",
    "        model.add(Dense(1, activation='sigmoid'))\n",
    "\n",
    "        model.compile(loss='binary_crossentropy',optimizer='rmsprop',metrics=['accuracy'])\n",
    "        \n",
    "        return model"
   ]
  },
  {
   "cell_type": "code",
   "execution_count": 61,
   "metadata": {},
   "outputs": [
    {
     "name": "stderr",
     "output_type": "stream",
     "text": [
      "C:\\home\\anaconda\\envs\\TF\\lib\\site-packages\\ipykernel_launcher.py:9: FutureWarning: Method .as_matrix will be removed in a future version. Use .values instead.\n",
      "  if __name__ == '__main__':\n",
      "C:\\home\\anaconda\\envs\\TF\\lib\\site-packages\\ipykernel_launcher.py:10: FutureWarning: Method .as_matrix will be removed in a future version. Use .values instead.\n",
      "  # Remove the CWD from sys.path while we load stuff.\n",
      "C:\\home\\anaconda\\envs\\TF\\lib\\site-packages\\ipykernel_launcher.py:11: FutureWarning: Method .as_matrix will be removed in a future version. Use .values instead.\n",
      "  # This is added back by InteractiveShellApp.init_path()\n",
      "C:\\home\\anaconda\\envs\\TF\\lib\\site-packages\\ipykernel_launcher.py:12: FutureWarning: Method .as_matrix will be removed in a future version. Use .values instead.\n",
      "  if sys.path[0] == '':\n",
      "C:\\home\\anaconda\\envs\\TF\\lib\\site-packages\\ipykernel_launcher.py:27: UserWarning: The `nb_epoch` argument in `fit` has been renamed `epochs`.\n"
     ]
    },
    {
     "name": "stdout",
     "output_type": "stream",
     "text": [
      "Epoch 1/10\n",
      "7513/7513 [==============================] - 1s 132us/step - loss: 0.1993 - accuracy: 0.9496\n",
      "Epoch 2/10\n",
      "7513/7513 [==============================] - 1s 118us/step - loss: 0.1916 - accuracy: 0.9530\n",
      "Epoch 3/10\n",
      "7513/7513 [==============================] - 1s 117us/step - loss: 0.1914 - accuracy: 0.9530\n",
      "Epoch 4/10\n",
      "7513/7513 [==============================] - 1s 119us/step - loss: 0.1909 - accuracy: 0.9530\n",
      "Epoch 5/10\n",
      "7513/7513 [==============================] - 1s 119us/step - loss: 0.1908 - accuracy: 0.9530\n",
      "Epoch 6/10\n",
      "7513/7513 [==============================] - 1s 116us/step - loss: 0.1904 - accuracy: 0.9530\n",
      "Epoch 7/10\n",
      "7513/7513 [==============================] - 1s 119us/step - loss: 0.1903 - accuracy: 0.9530\n",
      "Epoch 8/10\n",
      "7513/7513 [==============================] - 1s 117us/step - loss: 0.1902 - accuracy: 0.9530\n",
      "Epoch 9/10\n",
      "7513/7513 [==============================] - 1s 119us/step - loss: 0.1902 - accuracy: 0.9530\n",
      "Epoch 10/10\n",
      "7513/7513 [==============================] - 1s 127us/step - loss: 0.1903 - accuracy: 0.9530\n",
      "2020-02-17T00:00:00.000000000\n",
      "1\n",
      "0.9587086\n",
      "accuracy = 0.00\n"
     ]
    }
   ],
   "source": [
    "if __name__ == \"__main__\":\n",
    "    stock = StockCNN()\n",
    "    data = None\n",
    "    for year in range(2007, 2018):\n",
    "        data_ = pandas.read_csv('stock2.csv', encoding=\"shift-jis\")\n",
    "        data = data_ if (data is None) else pandas.concat([data, data_])\n",
    "    data = data.set_index('day', drop=False)\n",
    "    data.columns = ['date', 'open', 'high', 'low', 'close']\n",
    "    data1 = pandas.read_csv('stock2.csv', encoding=\"shift-jis\",index_col='day')\n",
    "    data4 = data1.drop(['low','hight','start'], axis=1)\n",
    "    scaler = preprocessing.StandardScaler().fit(data4)\n",
    "    scaler.transform(data1)\n",
    "    data['date'] = pandas.to_datetime(data['date'], format='%Y-%m-%d')\n",
    "    data['close'] = preprocessing.scale(data['close'])\n",
    "    data = data.sort_values(by='date')\n",
    "    data = data.reset_index(drop=True)\n",
    "    data = data.loc[:, ['date', 'close']]\n",
    "\n",
    "  # データ準備\n",
    "    split_pos = int(len(data) * 0.9)\n",
    "    x_label, x_train, y_train  = stock.load_data(data[['date']].iloc[0:split_pos],\\\n",
    "                                          data[['close']].iloc[0:split_pos], stock.length_of_sequences)\n",
    "    x_tlabel, x_test,  y_test  = stock.load_data(data[['date']].iloc[split_pos:], \\\n",
    "                                          data[['close']].iloc[split_pos:], stock.length_of_sequences)\n",
    "    model = stock.create_model()\n",
    "    \n",
    "    model.fit(x_train, y_train, nb_epoch=10, batch_size=10)\n",
    "    \n",
    "    good = 0\n",
    "    index = 0\n",
    "    for values in x_test : \n",
    "        y = y_test[index][0]\n",
    "    predict = model.predict(numpy.array([values]))[0][0]\n",
    "    print(x_tlabel[index][0])\n",
    "    print(y)\n",
    "    print(predict)\n",
    "    if predict < 0.5 :\n",
    "        if y == 0 :\n",
    "            good += 1\n",
    "        else : \n",
    "            if y == 1 :\n",
    "                good += 1\n",
    "                index += 1\n",
    "    print (\"accuracy = {0:.2f}\".format(float(good) / len(x_test)))"
   ]
  },
  {
   "cell_type": "code",
   "execution_count": 78,
   "metadata": {},
   "outputs": [
    {
     "ename": "ValueError",
     "evalue": "Error when checking input: expected dense_9_input to have shape (100,) but got array with shape (1,)",
     "output_type": "error",
     "traceback": [
      "\u001b[1;31m---------------------------------------------------------------------------\u001b[0m",
      "\u001b[1;31mValueError\u001b[0m                                Traceback (most recent call last)",
      "\u001b[1;32m<ipython-input-78-4784ad550949>\u001b[0m in \u001b[0;36m<module>\u001b[1;34m\u001b[0m\n\u001b[1;32m----> 1\u001b[1;33m \u001b[0mforecast\u001b[0m \u001b[1;33m=\u001b[0m \u001b[0mmodel\u001b[0m\u001b[1;33m.\u001b[0m\u001b[0mpredict\u001b[0m\u001b[1;33m(\u001b[0m\u001b[0mdata1\u001b[0m\u001b[1;33m[\u001b[0m\u001b[1;34m'end'\u001b[0m\u001b[1;33m]\u001b[0m\u001b[1;33m)\u001b[0m\u001b[1;33m\u001b[0m\u001b[1;33m\u001b[0m\u001b[0m\n\u001b[0m",
      "\u001b[1;32m~\\anaconda\\envs\\TF\\lib\\site-packages\\keras\\engine\\training.py\u001b[0m in \u001b[0;36mpredict\u001b[1;34m(self, x, batch_size, verbose, steps, callbacks, max_queue_size, workers, use_multiprocessing)\u001b[0m\n\u001b[0;32m   1439\u001b[0m \u001b[1;33m\u001b[0m\u001b[0m\n\u001b[0;32m   1440\u001b[0m         \u001b[1;31m# Case 2: Symbolic tensors or Numpy array-like.\u001b[0m\u001b[1;33m\u001b[0m\u001b[1;33m\u001b[0m\u001b[1;33m\u001b[0m\u001b[0m\n\u001b[1;32m-> 1441\u001b[1;33m         \u001b[0mx\u001b[0m\u001b[1;33m,\u001b[0m \u001b[0m_\u001b[0m\u001b[1;33m,\u001b[0m \u001b[0m_\u001b[0m \u001b[1;33m=\u001b[0m \u001b[0mself\u001b[0m\u001b[1;33m.\u001b[0m\u001b[0m_standardize_user_data\u001b[0m\u001b[1;33m(\u001b[0m\u001b[0mx\u001b[0m\u001b[1;33m)\u001b[0m\u001b[1;33m\u001b[0m\u001b[1;33m\u001b[0m\u001b[0m\n\u001b[0m\u001b[0;32m   1442\u001b[0m         \u001b[1;32mif\u001b[0m \u001b[0mself\u001b[0m\u001b[1;33m.\u001b[0m\u001b[0mstateful\u001b[0m\u001b[1;33m:\u001b[0m\u001b[1;33m\u001b[0m\u001b[1;33m\u001b[0m\u001b[0m\n\u001b[0;32m   1443\u001b[0m             \u001b[1;32mif\u001b[0m \u001b[0mx\u001b[0m\u001b[1;33m[\u001b[0m\u001b[1;36m0\u001b[0m\u001b[1;33m]\u001b[0m\u001b[1;33m.\u001b[0m\u001b[0mshape\u001b[0m\u001b[1;33m[\u001b[0m\u001b[1;36m0\u001b[0m\u001b[1;33m]\u001b[0m \u001b[1;33m>\u001b[0m \u001b[0mbatch_size\u001b[0m \u001b[1;32mand\u001b[0m \u001b[0mx\u001b[0m\u001b[1;33m[\u001b[0m\u001b[1;36m0\u001b[0m\u001b[1;33m]\u001b[0m\u001b[1;33m.\u001b[0m\u001b[0mshape\u001b[0m\u001b[1;33m[\u001b[0m\u001b[1;36m0\u001b[0m\u001b[1;33m]\u001b[0m \u001b[1;33m%\u001b[0m \u001b[0mbatch_size\u001b[0m \u001b[1;33m!=\u001b[0m \u001b[1;36m0\u001b[0m\u001b[1;33m:\u001b[0m\u001b[1;33m\u001b[0m\u001b[1;33m\u001b[0m\u001b[0m\n",
      "\u001b[1;32m~\\anaconda\\envs\\TF\\lib\\site-packages\\keras\\engine\\training.py\u001b[0m in \u001b[0;36m_standardize_user_data\u001b[1;34m(self, x, y, sample_weight, class_weight, check_array_lengths, batch_size)\u001b[0m\n\u001b[0;32m    577\u001b[0m             \u001b[0mfeed_input_shapes\u001b[0m\u001b[1;33m,\u001b[0m\u001b[1;33m\u001b[0m\u001b[1;33m\u001b[0m\u001b[0m\n\u001b[0;32m    578\u001b[0m             \u001b[0mcheck_batch_axis\u001b[0m\u001b[1;33m=\u001b[0m\u001b[1;32mFalse\u001b[0m\u001b[1;33m,\u001b[0m  \u001b[1;31m# Don't enforce the batch size.\u001b[0m\u001b[1;33m\u001b[0m\u001b[1;33m\u001b[0m\u001b[0m\n\u001b[1;32m--> 579\u001b[1;33m             exception_prefix='input')\n\u001b[0m\u001b[0;32m    580\u001b[0m \u001b[1;33m\u001b[0m\u001b[0m\n\u001b[0;32m    581\u001b[0m         \u001b[1;32mif\u001b[0m \u001b[0my\u001b[0m \u001b[1;32mis\u001b[0m \u001b[1;32mnot\u001b[0m \u001b[1;32mNone\u001b[0m\u001b[1;33m:\u001b[0m\u001b[1;33m\u001b[0m\u001b[1;33m\u001b[0m\u001b[0m\n",
      "\u001b[1;32m~\\anaconda\\envs\\TF\\lib\\site-packages\\keras\\engine\\training_utils.py\u001b[0m in \u001b[0;36mstandardize_input_data\u001b[1;34m(data, names, shapes, check_batch_axis, exception_prefix)\u001b[0m\n\u001b[0;32m    143\u001b[0m                             \u001b[1;34m': expected '\u001b[0m \u001b[1;33m+\u001b[0m \u001b[0mnames\u001b[0m\u001b[1;33m[\u001b[0m\u001b[0mi\u001b[0m\u001b[1;33m]\u001b[0m \u001b[1;33m+\u001b[0m \u001b[1;34m' to have shape '\u001b[0m \u001b[1;33m+\u001b[0m\u001b[1;33m\u001b[0m\u001b[1;33m\u001b[0m\u001b[0m\n\u001b[0;32m    144\u001b[0m                             \u001b[0mstr\u001b[0m\u001b[1;33m(\u001b[0m\u001b[0mshape\u001b[0m\u001b[1;33m)\u001b[0m \u001b[1;33m+\u001b[0m \u001b[1;34m' but got array with shape '\u001b[0m \u001b[1;33m+\u001b[0m\u001b[1;33m\u001b[0m\u001b[1;33m\u001b[0m\u001b[0m\n\u001b[1;32m--> 145\u001b[1;33m                             str(data_shape))\n\u001b[0m\u001b[0;32m    146\u001b[0m     \u001b[1;32mreturn\u001b[0m \u001b[0mdata\u001b[0m\u001b[1;33m\u001b[0m\u001b[1;33m\u001b[0m\u001b[0m\n\u001b[0;32m    147\u001b[0m \u001b[1;33m\u001b[0m\u001b[0m\n",
      "\u001b[1;31mValueError\u001b[0m: Error when checking input: expected dense_9_input to have shape (100,) but got array with shape (1,)"
     ]
    }
   ],
   "source": [
    "forecast =model.predict(x_test)"
   ]
  },
  {
   "cell_type": "code",
   "execution_count": 72,
   "metadata": {},
   "outputs": [],
   "source": [
    "import pandas as pd\n",
    "\n",
    "forecast = scaler.transform(forecast)\n",
    "forecast = pd.DataFrame(forecast)"
   ]
  },
  {
   "cell_type": "code",
   "execution_count": 74,
   "metadata": {},
   "outputs": [
    {
     "data": {
      "text/plain": [
       "array([[-1.17478159, -1.17478159, -1.17478159, ..., -1.3619427 ,\n",
       "        -1.39775748, -1.39775748],\n",
       "       [-1.17478159, -1.17478159, -1.17478159, ..., -1.39775748,\n",
       "        -1.39775748, -1.39775748],\n",
       "       [-1.17478159, -1.17478159, -1.17478159, ..., -1.39775748,\n",
       "        -1.39775748, -1.39775748],\n",
       "       ...,\n",
       "       [-1.66116941, -1.66116941, -1.66116941, ..., -1.29608971,\n",
       "        -1.29608971, -1.29608971],\n",
       "       [-1.66116941, -1.66116941, -1.66116941, ..., -1.29608971,\n",
       "        -1.29608971, -1.29608971],\n",
       "       [-1.66116941, -1.66116941, -1.59531643, ..., -1.29608971,\n",
       "        -1.29608971, -1.29608971]])"
      ]
     },
     "execution_count": 74,
     "metadata": {},
     "output_type": "execute_result"
    }
   ],
   "source": [
    "x_test"
   ]
  },
  {
   "cell_type": "code",
   "execution_count": 69,
   "metadata": {},
   "outputs": [
    {
     "data": {
      "image/png": "[encoded data removed]",
      "text/plain": [
       "<Figure size 1584x720 with 1 Axes>"
      ]
     },
     "metadata": {
      "needs_background": "light"
     },
     "output_type": "display_data"
    }
   ],
   "source": [
    "import matplotlib.pyplot as plt\n",
    "\n",
    "plt.figure(figsize=(22,10))\n",
    "plt.plot(forecast, label = 'Prediction')\n",
    "plt.legend(loc='best')\n",
    "plt.show()"
   ]
  },
  {
   "cell_type": "code",
   "execution_count": 48,
   "metadata": {},
   "outputs": [],
   "source": [
    "data1 = pandas.read_csv('stock2.csv', encoding=\"shift-jis\",index_col='day')\n",
    "data4 = data1.drop(['low','hight','start'], axis=1)\n",
    "scaler = preprocessing.StandardScaler().fit(data4)"
   ]
  },
  {
   "cell_type": "code",
   "execution_count": 51,
   "metadata": {},
   "outputs": [
    {
     "data": {
      "text/plain": [
       "array([[ 1.12083031,  1.23058528,  1.07461769,  1.17859608],\n",
       "       [ 1.14393662,  1.14971319,  1.01107533,  1.03995822],\n",
       "       [ 0.9937456 ,  1.00529876,  0.90132036,  0.90132036],\n",
       "       ...,\n",
       "       [-1.49942524, -1.39429153, -1.50520182, -1.39429153],\n",
       "       [-1.40815532, -1.37002991, -1.46938704, -1.3919809 ],\n",
       "       [-1.3919809 , -1.24872178, -1.41739784, -1.29608971]])"
      ]
     },
     "execution_count": 51,
     "metadata": {},
     "output_type": "execute_result"
    }
   ],
   "source": [
    "scaler.transform(data1)"
   ]
  },
  {
   "cell_type": "code",
   "execution_count": 59,
   "metadata": {},
   "outputs": [
    {
     "ename": "KeyError",
     "evalue": "\"None of ['day'] are in the columns\"",
     "output_type": "error",
     "traceback": [
      "\u001b[1;31m---------------------------------------------------------------------------\u001b[0m",
      "\u001b[1;31mKeyError\u001b[0m                                  Traceback (most recent call last)",
      "\u001b[1;32m<ipython-input-59-ace5931cd2e1>\u001b[0m in \u001b[0;36m<module>\u001b[1;34m\u001b[0m\n\u001b[0;32m      8\u001b[0m \u001b[0mscaler\u001b[0m\u001b[1;33m.\u001b[0m\u001b[0mtransform\u001b[0m\u001b[1;33m(\u001b[0m\u001b[0mdata\u001b[0m\u001b[1;33m)\u001b[0m\u001b[1;33m\u001b[0m\u001b[1;33m\u001b[0m\u001b[0m\n\u001b[0;32m      9\u001b[0m \u001b[0mdata\u001b[0m\u001b[1;33m.\u001b[0m\u001b[0mcolumns\u001b[0m \u001b[1;33m=\u001b[0m \u001b[1;33m[\u001b[0m\u001b[1;34m'open'\u001b[0m\u001b[1;33m,\u001b[0m \u001b[1;34m'high'\u001b[0m\u001b[1;33m,\u001b[0m \u001b[1;34m'low'\u001b[0m\u001b[1;33m,\u001b[0m \u001b[1;34m'close'\u001b[0m\u001b[1;33m]\u001b[0m\u001b[1;33m\u001b[0m\u001b[1;33m\u001b[0m\u001b[0m\n\u001b[1;32m---> 10\u001b[1;33m \u001b[0mdata\u001b[0m \u001b[1;33m=\u001b[0m \u001b[0mdata\u001b[0m\u001b[1;33m.\u001b[0m\u001b[0mset_index\u001b[0m\u001b[1;33m(\u001b[0m\u001b[1;34m'day'\u001b[0m\u001b[1;33m,\u001b[0m \u001b[0mdrop\u001b[0m\u001b[1;33m=\u001b[0m\u001b[1;32mFalse\u001b[0m\u001b[1;33m)\u001b[0m\u001b[1;33m\u001b[0m\u001b[1;33m\u001b[0m\u001b[0m\n\u001b[0m\u001b[0;32m     11\u001b[0m \u001b[1;31m#data = data.sort_values(by='day')\u001b[0m\u001b[1;33m\u001b[0m\u001b[1;33m\u001b[0m\u001b[1;33m\u001b[0m\u001b[0m\n\u001b[0;32m     12\u001b[0m \u001b[1;31m#data = data.reset_index(drop=True)\u001b[0m\u001b[1;33m\u001b[0m\u001b[1;33m\u001b[0m\u001b[1;33m\u001b[0m\u001b[0m\n",
      "\u001b[1;32m~\\anaconda\\envs\\TF\\lib\\site-packages\\pandas\\core\\frame.py\u001b[0m in \u001b[0;36mset_index\u001b[1;34m(self, keys, drop, append, inplace, verify_integrity)\u001b[0m\n\u001b[0;32m   4409\u001b[0m \u001b[1;33m\u001b[0m\u001b[0m\n\u001b[0;32m   4410\u001b[0m         \u001b[1;32mif\u001b[0m \u001b[0mmissing\u001b[0m\u001b[1;33m:\u001b[0m\u001b[1;33m\u001b[0m\u001b[1;33m\u001b[0m\u001b[0m\n\u001b[1;32m-> 4411\u001b[1;33m             \u001b[1;32mraise\u001b[0m \u001b[0mKeyError\u001b[0m\u001b[1;33m(\u001b[0m\u001b[1;34m\"None of {} are in the columns\"\u001b[0m\u001b[1;33m.\u001b[0m\u001b[0mformat\u001b[0m\u001b[1;33m(\u001b[0m\u001b[0mmissing\u001b[0m\u001b[1;33m)\u001b[0m\u001b[1;33m)\u001b[0m\u001b[1;33m\u001b[0m\u001b[1;33m\u001b[0m\u001b[0m\n\u001b[0m\u001b[0;32m   4412\u001b[0m \u001b[1;33m\u001b[0m\u001b[0m\n\u001b[0;32m   4413\u001b[0m         \u001b[1;32mif\u001b[0m \u001b[0minplace\u001b[0m\u001b[1;33m:\u001b[0m\u001b[1;33m\u001b[0m\u001b[1;33m\u001b[0m\u001b[0m\n",
      "\u001b[1;31mKeyError\u001b[0m: \"None of ['day'] are in the columns\""
     ]
    }
   ],
   "source": [
    "data = None\n",
    "for year in range(2007, 2018):\n",
    "    data_ = pandas.read_csv('stock2.csv', encoding=\"shift-jis\",index_col='day')\n",
    "    data = data_ if (data is None) else pandas.concat([data, data_])\n",
    "data1 = pandas.read_csv('stock2.csv', encoding=\"shift-jis\",index_col='day')\n",
    "data4 = data1.drop(['low','hight','start'], axis=1)\n",
    "scaler = preprocessing.StandardScaler().fit(data4)\n",
    "scaler.transform(data)\n",
    "data.columns = ['open', 'high', 'low', 'close']\n",
    "data = data.set_index('day', drop=False)\n",
    "#data = data.sort_values(by='day')\n",
    "#data = data.reset_index(drop=True)\n",
    "#data = data.loc[:, ['day', 'close']]"
   ]
  },
  {
   "cell_type": "code",
   "execution_count": 58,
   "metadata": {},
   "outputs": [
    {
     "data": {
      "text/html": [
       "<div>\n",
       "<style scoped>\n",
       "    .dataframe tbody tr th:only-of-type {\n",
       "        vertical-align: middle;\n",
       "    }\n",
       "\n",
       "    .dataframe tbody tr th {\n",
       "        vertical-align: top;\n",
       "    }\n",
       "\n",
       "    .dataframe thead th {\n",
       "        text-align: right;\n",
       "    }\n",
       "</style>\n",
       "<table border=\"1\" class=\"dataframe\">\n",
       "  <thead>\n",
       "    <tr style=\"text-align: right;\">\n",
       "      <th></th>\n",
       "      <th>open</th>\n",
       "      <th>high</th>\n",
       "      <th>low</th>\n",
       "      <th>close</th>\n",
       "    </tr>\n",
       "    <tr>\n",
       "      <th>day</th>\n",
       "      <th></th>\n",
       "      <th></th>\n",
       "      <th></th>\n",
       "      <th></th>\n",
       "    </tr>\n",
       "  </thead>\n",
       "  <tbody>\n",
       "    <tr>\n",
       "      <th>2017/4/3</th>\n",
       "      <td>4695.0</td>\n",
       "      <td>4790.0</td>\n",
       "      <td>4655.0</td>\n",
       "      <td>4745.0</td>\n",
       "    </tr>\n",
       "    <tr>\n",
       "      <th>2017/4/4</th>\n",
       "      <td>4715.0</td>\n",
       "      <td>4720.0</td>\n",
       "      <td>4600.0</td>\n",
       "      <td>4625.0</td>\n",
       "    </tr>\n",
       "    <tr>\n",
       "      <th>2017/4/5</th>\n",
       "      <td>4585.0</td>\n",
       "      <td>4595.0</td>\n",
       "      <td>4505.0</td>\n",
       "      <td>4505.0</td>\n",
       "    </tr>\n",
       "    <tr>\n",
       "      <th>2017/4/6</th>\n",
       "      <td>4500.0</td>\n",
       "      <td>4505.0</td>\n",
       "      <td>4440.0</td>\n",
       "      <td>4445.0</td>\n",
       "    </tr>\n",
       "    <tr>\n",
       "      <th>2017/4/7</th>\n",
       "      <td>4510.0</td>\n",
       "      <td>4550.0</td>\n",
       "      <td>4490.0</td>\n",
       "      <td>4495.0</td>\n",
       "    </tr>\n",
       "    <tr>\n",
       "      <th>...</th>\n",
       "      <td>...</td>\n",
       "      <td>...</td>\n",
       "      <td>...</td>\n",
       "      <td>...</td>\n",
       "    </tr>\n",
       "    <tr>\n",
       "      <th>2020/5/22</th>\n",
       "      <td>2403.0</td>\n",
       "      <td>2426.0</td>\n",
       "      <td>2348.0</td>\n",
       "      <td>2377.0</td>\n",
       "    </tr>\n",
       "    <tr>\n",
       "      <th>2020/5/25</th>\n",
       "      <td>2401.0</td>\n",
       "      <td>2453.0</td>\n",
       "      <td>2401.0</td>\n",
       "      <td>2427.0</td>\n",
       "    </tr>\n",
       "    <tr>\n",
       "      <th>2020/5/26</th>\n",
       "      <td>2427.0</td>\n",
       "      <td>2518.0</td>\n",
       "      <td>2422.0</td>\n",
       "      <td>2518.0</td>\n",
       "    </tr>\n",
       "    <tr>\n",
       "      <th>2020/5/27</th>\n",
       "      <td>2506.0</td>\n",
       "      <td>2539.0</td>\n",
       "      <td>2453.0</td>\n",
       "      <td>2520.0</td>\n",
       "    </tr>\n",
       "    <tr>\n",
       "      <th>2020/5/28</th>\n",
       "      <td>2520.0</td>\n",
       "      <td>2644.0</td>\n",
       "      <td>2498.0</td>\n",
       "      <td>2603.0</td>\n",
       "    </tr>\n",
       "  </tbody>\n",
       "</table>\n",
       "<p>8459 rows × 4 columns</p>\n",
       "</div>"
      ],
      "text/plain": [
       "             open    high     low   close\n",
       "day                                      \n",
       "2017/4/3   4695.0  4790.0  4655.0  4745.0\n",
       "2017/4/4   4715.0  4720.0  4600.0  4625.0\n",
       "2017/4/5   4585.0  4595.0  4505.0  4505.0\n",
       "2017/4/6   4500.0  4505.0  4440.0  4445.0\n",
       "2017/4/7   4510.0  4550.0  4490.0  4495.0\n",
       "...           ...     ...     ...     ...\n",
       "2020/5/22  2403.0  2426.0  2348.0  2377.0\n",
       "2020/5/25  2401.0  2453.0  2401.0  2427.0\n",
       "2020/5/26  2427.0  2518.0  2422.0  2518.0\n",
       "2020/5/27  2506.0  2539.0  2453.0  2520.0\n",
       "2020/5/28  2520.0  2644.0  2498.0  2603.0\n",
       "\n",
       "[8459 rows x 4 columns]"
      ]
     },
     "execution_count": 58,
     "metadata": {},
     "output_type": "execute_result"
    }
   ],
   "source": [
    "data"
   ]
  },
  {
   "cell_type": "code",
   "execution_count": null,
   "metadata": {},
   "outputs": [],
   "source": []
  }
 ],
 "metadata": {
  "kernelspec": {
   "display_name": "Python 3",
   "language": "python",
   "name": "python3"
  },
  "language_info": {
   "codemirror_mode": {
    "name": "ipython",
    "version": 3
   },
   "file_extension": ".py",
   "mimetype": "text/x-python",
   "name": "python",
   "nbconvert_exporter": "python",
   "pygments_lexer": "ipython3",
   "version": "3.6.9"
  }
 },
 "nbformat": 4,
 "nbformat_minor": 4
}
