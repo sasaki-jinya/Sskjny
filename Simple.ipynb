{
 "cells": [
  {
   "cell_type": "code",
   "execution_count": 1,
   "metadata": {},
   "outputs": [],
   "source": [
    "import numpy as np\n",
    "import pandas as pd\n",
    "import random\n",
    "import matplotlib.pyplot as plt"
   ]
  },
  {
   "cell_type": "code",
   "execution_count": 2,
   "metadata": {},
   "outputs": [],
   "source": [
    "data = np.array([[0, 0], [0, 1], [1, 0], [1, 1]])\n",
    "At = np.array([0,0,0,1])     #AND\n",
    "w = np.random.rand(3)        #重み\n",
    "alpha = 0.01                 #学習係数\n",
    "Ot = np.array([0, 1, 1, 1])  #OR\n",
    "Xt = np.array([0, 1, 1, 0])  #XOR\n",
    "np.random.seed(seed=32)"
   ]
  },
  {
   "cell_type": "markdown",
   "metadata": {},
   "source": [
    "##  関数定義"
   ]
  },
  {
   "cell_type": "code",
   "execution_count": 3,
   "metadata": {},
   "outputs": [],
   "source": [
    "# Evaluate\n",
    "def mean_squared_error(y, t):      #平均二条誤差\n",
    "    return 0.5 * np.sum((y-t)**2)"
   ]
  },
  {
   "cell_type": "code",
   "execution_count": 4,
   "metadata": {},
   "outputs": [],
   "source": [
    "def train(x, w, y, t):\n",
    "    # update weights\n",
    "    for i in range(len(w)-1):\n",
    "        w[i] += alpha * (t - y) * x[i]\n",
    "    \n",
    "    w[-1] += alpha * (t -y)"
   ]
  },
  {
   "cell_type": "code",
   "execution_count": 5,
   "metadata": {},
   "outputs": [],
   "source": [
    "def forward(x, w):\n",
    "      \n",
    "    theta = 0                     #step関数\n",
    "    out = np.sum(x*w[:-1])+w[-1]\n",
    "    if out <= theta:\n",
    "        return 0\n",
    "    elif out > theta:\n",
    "        return 1"
   ]
  },
  {
   "cell_type": "markdown",
   "metadata": {},
   "source": [
    "## Learning"
   ]
  },
  {
   "cell_type": "code",
   "execution_count": 6,
   "metadata": {},
   "outputs": [
    {
     "name": "stdout",
     "output_type": "stream",
     "text": [
      "Epoch0:, Pred:[1, 1, 1, 1], T:[0 1 1 0]\n",
      "Epoch1:, Pred:[1, 1, 1, 1], T:[0 1 1 0]\n",
      "Epoch2:, Pred:[1, 1, 1, 1], T:[0 1 1 0]\n",
      "Epoch3:, Pred:[1, 1, 1, 1], T:[0 1 1 0]\n",
      "Epoch4:, Pred:[0, 1, 1, 1], T:[0 1 1 0]\n",
      "Epoch5:, Pred:[0, 1, 1, 1], T:[0 1 1 0]\n",
      "Epoch6:, Pred:[0, 1, 1, 1], T:[0 1 1 0]\n",
      "Epoch7:, Pred:[0, 1, 1, 1], T:[0 1 1 0]\n",
      "Epoch8:, Pred:[0, 1, 1, 1], T:[0 1 1 0]\n",
      "Epoch9:, Pred:[0, 1, 1, 1], T:[0 1 1 0]\n",
      "Epoch10:, Pred:[0, 1, 1, 1], T:[0 1 1 0]\n",
      "Epoch11:, Pred:[0, 1, 1, 1], T:[0 1 1 0]\n",
      "Epoch12:, Pred:[0, 1, 1, 1], T:[0 1 1 0]\n",
      "Epoch13:, Pred:[0, 1, 1, 1], T:[0 1 1 0]\n",
      "Epoch14:, Pred:[0, 1, 1, 1], T:[0 1 1 0]\n",
      "Epoch15:, Pred:[0, 1, 1, 1], T:[0 1 1 0]\n",
      "Epoch16:, Pred:[0, 1, 1, 1], T:[0 1 1 0]\n",
      "Epoch17:, Pred:[0, 1, 1, 1], T:[0 1 1 0]\n",
      "Epoch18:, Pred:[0, 1, 1, 1], T:[0 1 1 0]\n",
      "Epoch19:, Pred:[0, 1, 1, 1], T:[0 1 1 0]\n",
      "Epoch20:, Pred:[0, 1, 1, 1], T:[0 1 1 0]\n",
      "Epoch21:, Pred:[0, 1, 1, 1], T:[0 1 1 0]\n",
      "Epoch22:, Pred:[0, 1, 1, 1], T:[0 1 1 0]\n",
      "Epoch23:, Pred:[0, 1, 1, 1], T:[0 1 1 0]\n",
      "Epoch24:, Pred:[0, 1, 1, 1], T:[0 1 1 0]\n",
      "Epoch25:, Pred:[0, 1, 1, 1], T:[0 1 1 0]\n",
      "Epoch26:, Pred:[0, 1, 1, 1], T:[0 1 1 0]\n",
      "Epoch27:, Pred:[0, 1, 1, 1], T:[0 1 1 0]\n",
      "Epoch28:, Pred:[0, 1, 1, 1], T:[0 1 1 0]\n",
      "Epoch29:, Pred:[0, 1, 1, 1], T:[0 1 1 0]\n",
      "Epoch30:, Pred:[0, 1, 1, 1], T:[0 1 1 0]\n",
      "Epoch31:, Pred:[0, 1, 1, 1], T:[0 1 1 0]\n",
      "Epoch32:, Pred:[0, 1, 1, 1], T:[0 1 1 0]\n",
      "Epoch33:, Pred:[0, 1, 1, 1], T:[0 1 1 0]\n",
      "Epoch34:, Pred:[0, 1, 1, 1], T:[0 1 1 0]\n",
      "Epoch35:, Pred:[0, 1, 1, 1], T:[0 1 1 0]\n",
      "Epoch36:, Pred:[0, 1, 0, 1], T:[0 1 1 0]\n",
      "Epoch37:, Pred:[0, 1, 0, 1], T:[0 1 1 0]\n",
      "Epoch38:, Pred:[0, 1, 0, 1], T:[0 1 1 0]\n",
      "Epoch39:, Pred:[0, 1, 0, 1], T:[0 1 1 0]\n",
      "Epoch40:, Pred:[0, 1, 0, 1], T:[0 1 1 0]\n",
      "Epoch41:, Pred:[0, 1, 0, 1], T:[0 1 1 0]\n",
      "Epoch42:, Pred:[0, 1, 0, 1], T:[0 1 1 0]\n",
      "Epoch43:, Pred:[0, 1, 0, 1], T:[0 1 1 0]\n",
      "Epoch44:, Pred:[0, 1, 0, 1], T:[0 1 1 0]\n",
      "Epoch45:, Pred:[0, 1, 0, 1], T:[0 1 1 0]\n",
      "Epoch46:, Pred:[0, 1, 0, 1], T:[0 1 1 0]\n",
      "Epoch47:, Pred:[0, 1, 0, 1], T:[0 1 1 0]\n",
      "Epoch48:, Pred:[0, 1, 0, 1], T:[0 1 1 0]\n",
      "Epoch49:, Pred:[0, 1, 0, 1], T:[0 1 1 0]\n",
      "Epoch50:, Pred:[0, 1, 0, 1], T:[0 1 1 0]\n",
      "Epoch51:, Pred:[0, 1, 0, 1], T:[0 1 1 0]\n",
      "Epoch52:, Pred:[0, 1, 0, 1], T:[0 1 1 0]\n",
      "Epoch53:, Pred:[0, 1, 0, 1], T:[0 1 1 0]\n",
      "Epoch54:, Pred:[0, 1, 0, 1], T:[0 1 1 0]\n",
      "Epoch55:, Pred:[0, 1, 0, 1], T:[0 1 1 0]\n",
      "Epoch56:, Pred:[0, 0, 1, 1], T:[0 1 1 0]\n",
      "Epoch57:, Pred:[0, 0, 0, 1], T:[0 1 1 0]\n",
      "Epoch58:, Pred:[0, 1, 0, 1], T:[0 1 1 0]\n",
      "Epoch59:, Pred:[0, 0, 1, 1], T:[0 1 1 0]\n",
      "Epoch60:, Pred:[0, 0, 0, 1], T:[0 1 1 0]\n",
      "Epoch61:, Pred:[0, 1, 0, 1], T:[0 1 1 0]\n",
      "Epoch62:, Pred:[0, 0, 1, 1], T:[0 1 1 0]\n",
      "Epoch63:, Pred:[0, 0, 0, 1], T:[0 1 1 0]\n",
      "Epoch64:, Pred:[0, 1, 0, 1], T:[0 1 1 0]\n",
      "Epoch65:, Pred:[0, 0, 1, 1], T:[0 1 1 0]\n",
      "Epoch66:, Pred:[0, 0, 0, 1], T:[0 1 1 0]\n",
      "Epoch67:, Pred:[0, 1, 0, 1], T:[0 1 1 0]\n",
      "Epoch68:, Pred:[0, 0, 1, 1], T:[0 1 1 0]\n",
      "Epoch69:, Pred:[0, 0, 0, 1], T:[0 1 1 0]\n",
      "Epoch70:, Pred:[0, 1, 0, 1], T:[0 1 1 0]\n",
      "Epoch71:, Pred:[0, 0, 1, 1], T:[0 1 1 0]\n",
      "Epoch72:, Pred:[0, 0, 0, 1], T:[0 1 1 0]\n",
      "Epoch73:, Pred:[0, 1, 0, 1], T:[0 1 1 0]\n",
      "Epoch74:, Pred:[0, 0, 1, 1], T:[0 1 1 0]\n",
      "Epoch75:, Pred:[0, 0, 0, 1], T:[0 1 1 0]\n",
      "Epoch76:, Pred:[0, 1, 0, 1], T:[0 1 1 0]\n",
      "Epoch77:, Pred:[0, 0, 1, 1], T:[0 1 1 0]\n",
      "Epoch78:, Pred:[0, 0, 0, 1], T:[0 1 1 0]\n",
      "Epoch79:, Pred:[0, 1, 0, 1], T:[0 1 1 0]\n",
      "Epoch80:, Pred:[0, 0, 1, 1], T:[0 1 1 0]\n",
      "Epoch81:, Pred:[0, 0, 0, 1], T:[0 1 1 0]\n",
      "Epoch82:, Pred:[0, 1, 0, 1], T:[0 1 1 0]\n",
      "Epoch83:, Pred:[0, 0, 1, 1], T:[0 1 1 0]\n",
      "Epoch84:, Pred:[0, 0, 0, 1], T:[0 1 1 0]\n",
      "Epoch85:, Pred:[0, 1, 0, 1], T:[0 1 1 0]\n",
      "Epoch86:, Pred:[0, 0, 1, 1], T:[0 1 1 0]\n",
      "Epoch87:, Pred:[0, 0, 0, 1], T:[0 1 1 0]\n",
      "Epoch88:, Pred:[0, 1, 0, 1], T:[0 1 1 0]\n",
      "Epoch89:, Pred:[0, 0, 1, 1], T:[0 1 1 0]\n",
      "Epoch90:, Pred:[0, 0, 0, 1], T:[0 1 1 0]\n",
      "Epoch91:, Pred:[0, 1, 0, 1], T:[0 1 1 0]\n",
      "Epoch92:, Pred:[0, 0, 1, 1], T:[0 1 1 0]\n",
      "Epoch93:, Pred:[0, 0, 0, 1], T:[0 1 1 0]\n",
      "Epoch94:, Pred:[0, 1, 0, 1], T:[0 1 1 0]\n",
      "Epoch95:, Pred:[0, 0, 1, 1], T:[0 1 1 0]\n",
      "Epoch96:, Pred:[0, 0, 0, 1], T:[0 1 1 0]\n",
      "Epoch97:, Pred:[0, 1, 0, 1], T:[0 1 1 0]\n",
      "Epoch98:, Pred:[0, 0, 1, 1], T:[0 1 1 0]\n",
      "Epoch99:, Pred:[0, 0, 0, 1], T:[0 1 1 0]\n"
     ]
    }
   ],
   "source": [
    "if __name__ == '__main__':                    #XOR_predict\n",
    "    \n",
    "    X_err = []\n",
    "    for X_epoch in range(100):\n",
    "        # training\n",
    "        y_pred = []\n",
    "        for i in range(len(data)):\n",
    "            y = forward(data[i], w)\n",
    "            train(data[i], w, y, Xt[i])\n",
    "            y_pred.append(y)\n",
    "        \n",
    "        X_err.append(mean_squared_error(np.array(y_pred), Xt))\n",
    "        print('Epoch{}:, Pred:{}, T:{}'.format(X_epoch, y_pred, Xt))"
   ]
  },
  {
   "cell_type": "code",
   "execution_count": 7,
   "metadata": {},
   "outputs": [
    {
     "name": "stdout",
     "output_type": "stream",
     "text": [
      "Epoch0:, Pred:[0, 1, 0, 1], T:[0 1 1 1]\n",
      "Epoch1:, Pred:[0, 1, 1, 1], T:[0 1 1 1]\n",
      "Epoch2:, Pred:[0, 1, 1, 1], T:[0 1 1 1]\n",
      "Epoch3:, Pred:[0, 1, 1, 1], T:[0 1 1 1]\n",
      "Epoch4:, Pred:[0, 1, 1, 1], T:[0 1 1 1]\n",
      "Epoch5:, Pred:[0, 1, 1, 1], T:[0 1 1 1]\n",
      "Epoch6:, Pred:[0, 1, 1, 1], T:[0 1 1 1]\n",
      "Epoch7:, Pred:[0, 1, 1, 1], T:[0 1 1 1]\n",
      "Epoch8:, Pred:[0, 1, 1, 1], T:[0 1 1 1]\n",
      "Epoch9:, Pred:[0, 1, 1, 1], T:[0 1 1 1]\n",
      "Epoch10:, Pred:[0, 1, 1, 1], T:[0 1 1 1]\n",
      "Epoch11:, Pred:[0, 1, 1, 1], T:[0 1 1 1]\n",
      "Epoch12:, Pred:[0, 1, 1, 1], T:[0 1 1 1]\n",
      "Epoch13:, Pred:[0, 1, 1, 1], T:[0 1 1 1]\n",
      "Epoch14:, Pred:[0, 1, 1, 1], T:[0 1 1 1]\n",
      "Epoch15:, Pred:[0, 1, 1, 1], T:[0 1 1 1]\n",
      "Epoch16:, Pred:[0, 1, 1, 1], T:[0 1 1 1]\n",
      "Epoch17:, Pred:[0, 1, 1, 1], T:[0 1 1 1]\n",
      "Epoch18:, Pred:[0, 1, 1, 1], T:[0 1 1 1]\n",
      "Epoch19:, Pred:[0, 1, 1, 1], T:[0 1 1 1]\n",
      "Epoch20:, Pred:[0, 1, 1, 1], T:[0 1 1 1]\n",
      "Epoch21:, Pred:[0, 1, 1, 1], T:[0 1 1 1]\n",
      "Epoch22:, Pred:[0, 1, 1, 1], T:[0 1 1 1]\n",
      "Epoch23:, Pred:[0, 1, 1, 1], T:[0 1 1 1]\n",
      "Epoch24:, Pred:[0, 1, 1, 1], T:[0 1 1 1]\n",
      "Epoch25:, Pred:[0, 1, 1, 1], T:[0 1 1 1]\n",
      "Epoch26:, Pred:[0, 1, 1, 1], T:[0 1 1 1]\n",
      "Epoch27:, Pred:[0, 1, 1, 1], T:[0 1 1 1]\n",
      "Epoch28:, Pred:[0, 1, 1, 1], T:[0 1 1 1]\n",
      "Epoch29:, Pred:[0, 1, 1, 1], T:[0 1 1 1]\n",
      "Epoch30:, Pred:[0, 1, 1, 1], T:[0 1 1 1]\n",
      "Epoch31:, Pred:[0, 1, 1, 1], T:[0 1 1 1]\n",
      "Epoch32:, Pred:[0, 1, 1, 1], T:[0 1 1 1]\n",
      "Epoch33:, Pred:[0, 1, 1, 1], T:[0 1 1 1]\n",
      "Epoch34:, Pred:[0, 1, 1, 1], T:[0 1 1 1]\n",
      "Epoch35:, Pred:[0, 1, 1, 1], T:[0 1 1 1]\n",
      "Epoch36:, Pred:[0, 1, 1, 1], T:[0 1 1 1]\n",
      "Epoch37:, Pred:[0, 1, 1, 1], T:[0 1 1 1]\n",
      "Epoch38:, Pred:[0, 1, 1, 1], T:[0 1 1 1]\n",
      "Epoch39:, Pred:[0, 1, 1, 1], T:[0 1 1 1]\n",
      "Epoch40:, Pred:[0, 1, 1, 1], T:[0 1 1 1]\n",
      "Epoch41:, Pred:[0, 1, 1, 1], T:[0 1 1 1]\n",
      "Epoch42:, Pred:[0, 1, 1, 1], T:[0 1 1 1]\n",
      "Epoch43:, Pred:[0, 1, 1, 1], T:[0 1 1 1]\n",
      "Epoch44:, Pred:[0, 1, 1, 1], T:[0 1 1 1]\n",
      "Epoch45:, Pred:[0, 1, 1, 1], T:[0 1 1 1]\n",
      "Epoch46:, Pred:[0, 1, 1, 1], T:[0 1 1 1]\n",
      "Epoch47:, Pred:[0, 1, 1, 1], T:[0 1 1 1]\n",
      "Epoch48:, Pred:[0, 1, 1, 1], T:[0 1 1 1]\n",
      "Epoch49:, Pred:[0, 1, 1, 1], T:[0 1 1 1]\n",
      "Epoch50:, Pred:[0, 1, 1, 1], T:[0 1 1 1]\n",
      "Epoch51:, Pred:[0, 1, 1, 1], T:[0 1 1 1]\n",
      "Epoch52:, Pred:[0, 1, 1, 1], T:[0 1 1 1]\n",
      "Epoch53:, Pred:[0, 1, 1, 1], T:[0 1 1 1]\n",
      "Epoch54:, Pred:[0, 1, 1, 1], T:[0 1 1 1]\n",
      "Epoch55:, Pred:[0, 1, 1, 1], T:[0 1 1 1]\n",
      "Epoch56:, Pred:[0, 1, 1, 1], T:[0 1 1 1]\n",
      "Epoch57:, Pred:[0, 1, 1, 1], T:[0 1 1 1]\n",
      "Epoch58:, Pred:[0, 1, 1, 1], T:[0 1 1 1]\n",
      "Epoch59:, Pred:[0, 1, 1, 1], T:[0 1 1 1]\n",
      "Epoch60:, Pred:[0, 1, 1, 1], T:[0 1 1 1]\n",
      "Epoch61:, Pred:[0, 1, 1, 1], T:[0 1 1 1]\n",
      "Epoch62:, Pred:[0, 1, 1, 1], T:[0 1 1 1]\n",
      "Epoch63:, Pred:[0, 1, 1, 1], T:[0 1 1 1]\n",
      "Epoch64:, Pred:[0, 1, 1, 1], T:[0 1 1 1]\n",
      "Epoch65:, Pred:[0, 1, 1, 1], T:[0 1 1 1]\n",
      "Epoch66:, Pred:[0, 1, 1, 1], T:[0 1 1 1]\n",
      "Epoch67:, Pred:[0, 1, 1, 1], T:[0 1 1 1]\n",
      "Epoch68:, Pred:[0, 1, 1, 1], T:[0 1 1 1]\n",
      "Epoch69:, Pred:[0, 1, 1, 1], T:[0 1 1 1]\n",
      "Epoch70:, Pred:[0, 1, 1, 1], T:[0 1 1 1]\n",
      "Epoch71:, Pred:[0, 1, 1, 1], T:[0 1 1 1]\n",
      "Epoch72:, Pred:[0, 1, 1, 1], T:[0 1 1 1]\n",
      "Epoch73:, Pred:[0, 1, 1, 1], T:[0 1 1 1]\n",
      "Epoch74:, Pred:[0, 1, 1, 1], T:[0 1 1 1]\n",
      "Epoch75:, Pred:[0, 1, 1, 1], T:[0 1 1 1]\n",
      "Epoch76:, Pred:[0, 1, 1, 1], T:[0 1 1 1]\n",
      "Epoch77:, Pred:[0, 1, 1, 1], T:[0 1 1 1]\n",
      "Epoch78:, Pred:[0, 1, 1, 1], T:[0 1 1 1]\n",
      "Epoch79:, Pred:[0, 1, 1, 1], T:[0 1 1 1]\n",
      "Epoch80:, Pred:[0, 1, 1, 1], T:[0 1 1 1]\n",
      "Epoch81:, Pred:[0, 1, 1, 1], T:[0 1 1 1]\n",
      "Epoch82:, Pred:[0, 1, 1, 1], T:[0 1 1 1]\n",
      "Epoch83:, Pred:[0, 1, 1, 1], T:[0 1 1 1]\n",
      "Epoch84:, Pred:[0, 1, 1, 1], T:[0 1 1 1]\n",
      "Epoch85:, Pred:[0, 1, 1, 1], T:[0 1 1 1]\n",
      "Epoch86:, Pred:[0, 1, 1, 1], T:[0 1 1 1]\n",
      "Epoch87:, Pred:[0, 1, 1, 1], T:[0 1 1 1]\n",
      "Epoch88:, Pred:[0, 1, 1, 1], T:[0 1 1 1]\n",
      "Epoch89:, Pred:[0, 1, 1, 1], T:[0 1 1 1]\n",
      "Epoch90:, Pred:[0, 1, 1, 1], T:[0 1 1 1]\n",
      "Epoch91:, Pred:[0, 1, 1, 1], T:[0 1 1 1]\n",
      "Epoch92:, Pred:[0, 1, 1, 1], T:[0 1 1 1]\n",
      "Epoch93:, Pred:[0, 1, 1, 1], T:[0 1 1 1]\n",
      "Epoch94:, Pred:[0, 1, 1, 1], T:[0 1 1 1]\n",
      "Epoch95:, Pred:[0, 1, 1, 1], T:[0 1 1 1]\n",
      "Epoch96:, Pred:[0, 1, 1, 1], T:[0 1 1 1]\n",
      "Epoch97:, Pred:[0, 1, 1, 1], T:[0 1 1 1]\n",
      "Epoch98:, Pred:[0, 1, 1, 1], T:[0 1 1 1]\n",
      "Epoch99:, Pred:[0, 1, 1, 1], T:[0 1 1 1]\n"
     ]
    }
   ],
   "source": [
    "if __name__ == '__main__':                   #OR_predict\n",
    "    \n",
    "    O_err = []\n",
    "    for O_epoch in range(100):\n",
    "        # training\n",
    "        y_pred = []\n",
    "        for i in range(len(data)):\n",
    "            y = forward(data[i], w)\n",
    "            train(data[i], w, y, Ot[i])\n",
    "            y_pred.append(y)\n",
    "        \n",
    "        O_err.append(mean_squared_error(np.array(y_pred), Ot))\n",
    "        print('Epoch{}:, Pred:{}, T:{}'.format(O_epoch, y_pred, Ot)) "
   ]
  },
  {
   "cell_type": "code",
   "execution_count": 8,
   "metadata": {},
   "outputs": [
    {
     "name": "stdout",
     "output_type": "stream",
     "text": [
      "Epoch0:, Pred:[0, 1, 1, 1], T:[0 0 0 1]\n",
      "Epoch1:, Pred:[0, 0, 0, 1], T:[0 0 0 1]\n",
      "Epoch2:, Pred:[0, 0, 0, 1], T:[0 0 0 1]\n",
      "Epoch3:, Pred:[0, 0, 0, 1], T:[0 0 0 1]\n",
      "Epoch4:, Pred:[0, 0, 0, 1], T:[0 0 0 1]\n",
      "Epoch5:, Pred:[0, 0, 0, 1], T:[0 0 0 1]\n",
      "Epoch6:, Pred:[0, 0, 0, 1], T:[0 0 0 1]\n",
      "Epoch7:, Pred:[0, 0, 0, 1], T:[0 0 0 1]\n",
      "Epoch8:, Pred:[0, 0, 0, 1], T:[0 0 0 1]\n",
      "Epoch9:, Pred:[0, 0, 0, 1], T:[0 0 0 1]\n",
      "Epoch10:, Pred:[0, 0, 0, 1], T:[0 0 0 1]\n",
      "Epoch11:, Pred:[0, 0, 0, 1], T:[0 0 0 1]\n",
      "Epoch12:, Pred:[0, 0, 0, 1], T:[0 0 0 1]\n",
      "Epoch13:, Pred:[0, 0, 0, 1], T:[0 0 0 1]\n",
      "Epoch14:, Pred:[0, 0, 0, 1], T:[0 0 0 1]\n",
      "Epoch15:, Pred:[0, 0, 0, 1], T:[0 0 0 1]\n",
      "Epoch16:, Pred:[0, 0, 0, 1], T:[0 0 0 1]\n",
      "Epoch17:, Pred:[0, 0, 0, 1], T:[0 0 0 1]\n",
      "Epoch18:, Pred:[0, 0, 0, 1], T:[0 0 0 1]\n",
      "Epoch19:, Pred:[0, 0, 0, 1], T:[0 0 0 1]\n",
      "Epoch20:, Pred:[0, 0, 0, 1], T:[0 0 0 1]\n",
      "Epoch21:, Pred:[0, 0, 0, 1], T:[0 0 0 1]\n",
      "Epoch22:, Pred:[0, 0, 0, 1], T:[0 0 0 1]\n",
      "Epoch23:, Pred:[0, 0, 0, 1], T:[0 0 0 1]\n",
      "Epoch24:, Pred:[0, 0, 0, 1], T:[0 0 0 1]\n",
      "Epoch25:, Pred:[0, 0, 0, 1], T:[0 0 0 1]\n",
      "Epoch26:, Pred:[0, 0, 0, 1], T:[0 0 0 1]\n",
      "Epoch27:, Pred:[0, 0, 0, 1], T:[0 0 0 1]\n",
      "Epoch28:, Pred:[0, 0, 0, 1], T:[0 0 0 1]\n",
      "Epoch29:, Pred:[0, 0, 0, 1], T:[0 0 0 1]\n",
      "Epoch30:, Pred:[0, 0, 0, 1], T:[0 0 0 1]\n",
      "Epoch31:, Pred:[0, 0, 0, 1], T:[0 0 0 1]\n",
      "Epoch32:, Pred:[0, 0, 0, 1], T:[0 0 0 1]\n",
      "Epoch33:, Pred:[0, 0, 0, 1], T:[0 0 0 1]\n",
      "Epoch34:, Pred:[0, 0, 0, 1], T:[0 0 0 1]\n",
      "Epoch35:, Pred:[0, 0, 0, 1], T:[0 0 0 1]\n",
      "Epoch36:, Pred:[0, 0, 0, 1], T:[0 0 0 1]\n",
      "Epoch37:, Pred:[0, 0, 0, 1], T:[0 0 0 1]\n",
      "Epoch38:, Pred:[0, 0, 0, 1], T:[0 0 0 1]\n",
      "Epoch39:, Pred:[0, 0, 0, 1], T:[0 0 0 1]\n",
      "Epoch40:, Pred:[0, 0, 0, 1], T:[0 0 0 1]\n",
      "Epoch41:, Pred:[0, 0, 0, 1], T:[0 0 0 1]\n",
      "Epoch42:, Pred:[0, 0, 0, 1], T:[0 0 0 1]\n",
      "Epoch43:, Pred:[0, 0, 0, 1], T:[0 0 0 1]\n",
      "Epoch44:, Pred:[0, 0, 0, 1], T:[0 0 0 1]\n",
      "Epoch45:, Pred:[0, 0, 0, 1], T:[0 0 0 1]\n",
      "Epoch46:, Pred:[0, 0, 0, 1], T:[0 0 0 1]\n",
      "Epoch47:, Pred:[0, 0, 0, 1], T:[0 0 0 1]\n",
      "Epoch48:, Pred:[0, 0, 0, 1], T:[0 0 0 1]\n",
      "Epoch49:, Pred:[0, 0, 0, 1], T:[0 0 0 1]\n",
      "Epoch50:, Pred:[0, 0, 0, 1], T:[0 0 0 1]\n",
      "Epoch51:, Pred:[0, 0, 0, 1], T:[0 0 0 1]\n",
      "Epoch52:, Pred:[0, 0, 0, 1], T:[0 0 0 1]\n",
      "Epoch53:, Pred:[0, 0, 0, 1], T:[0 0 0 1]\n",
      "Epoch54:, Pred:[0, 0, 0, 1], T:[0 0 0 1]\n",
      "Epoch55:, Pred:[0, 0, 0, 1], T:[0 0 0 1]\n",
      "Epoch56:, Pred:[0, 0, 0, 1], T:[0 0 0 1]\n",
      "Epoch57:, Pred:[0, 0, 0, 1], T:[0 0 0 1]\n",
      "Epoch58:, Pred:[0, 0, 0, 1], T:[0 0 0 1]\n",
      "Epoch59:, Pred:[0, 0, 0, 1], T:[0 0 0 1]\n",
      "Epoch60:, Pred:[0, 0, 0, 1], T:[0 0 0 1]\n",
      "Epoch61:, Pred:[0, 0, 0, 1], T:[0 0 0 1]\n",
      "Epoch62:, Pred:[0, 0, 0, 1], T:[0 0 0 1]\n",
      "Epoch63:, Pred:[0, 0, 0, 1], T:[0 0 0 1]\n",
      "Epoch64:, Pred:[0, 0, 0, 1], T:[0 0 0 1]\n",
      "Epoch65:, Pred:[0, 0, 0, 1], T:[0 0 0 1]\n",
      "Epoch66:, Pred:[0, 0, 0, 1], T:[0 0 0 1]\n",
      "Epoch67:, Pred:[0, 0, 0, 1], T:[0 0 0 1]\n",
      "Epoch68:, Pred:[0, 0, 0, 1], T:[0 0 0 1]\n",
      "Epoch69:, Pred:[0, 0, 0, 1], T:[0 0 0 1]\n",
      "Epoch70:, Pred:[0, 0, 0, 1], T:[0 0 0 1]\n",
      "Epoch71:, Pred:[0, 0, 0, 1], T:[0 0 0 1]\n",
      "Epoch72:, Pred:[0, 0, 0, 1], T:[0 0 0 1]\n",
      "Epoch73:, Pred:[0, 0, 0, 1], T:[0 0 0 1]\n",
      "Epoch74:, Pred:[0, 0, 0, 1], T:[0 0 0 1]\n",
      "Epoch75:, Pred:[0, 0, 0, 1], T:[0 0 0 1]\n",
      "Epoch76:, Pred:[0, 0, 0, 1], T:[0 0 0 1]\n",
      "Epoch77:, Pred:[0, 0, 0, 1], T:[0 0 0 1]\n",
      "Epoch78:, Pred:[0, 0, 0, 1], T:[0 0 0 1]\n",
      "Epoch79:, Pred:[0, 0, 0, 1], T:[0 0 0 1]\n",
      "Epoch80:, Pred:[0, 0, 0, 1], T:[0 0 0 1]\n",
      "Epoch81:, Pred:[0, 0, 0, 1], T:[0 0 0 1]\n",
      "Epoch82:, Pred:[0, 0, 0, 1], T:[0 0 0 1]\n",
      "Epoch83:, Pred:[0, 0, 0, 1], T:[0 0 0 1]\n",
      "Epoch84:, Pred:[0, 0, 0, 1], T:[0 0 0 1]\n",
      "Epoch85:, Pred:[0, 0, 0, 1], T:[0 0 0 1]\n",
      "Epoch86:, Pred:[0, 0, 0, 1], T:[0 0 0 1]\n",
      "Epoch87:, Pred:[0, 0, 0, 1], T:[0 0 0 1]\n",
      "Epoch88:, Pred:[0, 0, 0, 1], T:[0 0 0 1]\n",
      "Epoch89:, Pred:[0, 0, 0, 1], T:[0 0 0 1]\n",
      "Epoch90:, Pred:[0, 0, 0, 1], T:[0 0 0 1]\n",
      "Epoch91:, Pred:[0, 0, 0, 1], T:[0 0 0 1]\n",
      "Epoch92:, Pred:[0, 0, 0, 1], T:[0 0 0 1]\n",
      "Epoch93:, Pred:[0, 0, 0, 1], T:[0 0 0 1]\n",
      "Epoch94:, Pred:[0, 0, 0, 1], T:[0 0 0 1]\n",
      "Epoch95:, Pred:[0, 0, 0, 1], T:[0 0 0 1]\n",
      "Epoch96:, Pred:[0, 0, 0, 1], T:[0 0 0 1]\n",
      "Epoch97:, Pred:[0, 0, 0, 1], T:[0 0 0 1]\n",
      "Epoch98:, Pred:[0, 0, 0, 1], T:[0 0 0 1]\n",
      "Epoch99:, Pred:[0, 0, 0, 1], T:[0 0 0 1]\n"
     ]
    }
   ],
   "source": [
    "if __name__ == '__main__':                   #AND_predict\n",
    "    \n",
    "    A_err = []\n",
    "    for A_epoch in range(100):\n",
    "        # training\n",
    "        y_pred = []\n",
    "        for i in range(len(data)):\n",
    "            y = forward(data[i], w)\n",
    "            train(data[i], w, y, At[i])\n",
    "            y_pred.append(y)\n",
    "        \n",
    "        A_err.append(mean_squared_error(np.array(y_pred), At))\n",
    "        print('Epoch{}:, Pred:{}, T:{}'.format(A_epoch, y_pred, At)) "
   ]
  },
  {
   "cell_type": "markdown",
   "metadata": {},
   "source": [
    "## Plot"
   ]
  },
  {
   "cell_type": "code",
   "execution_count": 9,
   "metadata": {},
   "outputs": [
    {
     "data": {
      "image/png": "[encoded data removed]",
      "text/plain": [
       "<Figure size 432x288 with 1 Axes>"
      ]
     },
     "metadata": {
      "needs_background": "light"
     },
     "output_type": "display_data"
    }
   ],
   "source": [
    "plt.plot(A_err)\n",
    "plt.xlabel('A_epoch')\n",
    "plt.ylabel('MSE')\n",
    "plt.show()"
   ]
  },
  {
   "cell_type": "code",
   "execution_count": 10,
   "metadata": {},
   "outputs": [
    {
     "data": {
      "image/png": "[encoded data removed]",
      "text/plain": [
       "<Figure size 432x288 with 1 Axes>"
      ]
     },
     "metadata": {
      "needs_background": "light"
     },
     "output_type": "display_data"
    }
   ],
   "source": [
    "plt.plot(O_err)\n",
    "plt.xlabel('O_epoch')\n",
    "plt.ylabel('MSE')\n",
    "plt.show()"
   ]
  },
  {
   "cell_type": "code",
   "execution_count": 11,
   "metadata": {},
   "outputs": [
    {
     "data": {
      "image/png": "[encoded data removed]",
      "text/plain": [
       "<Figure size 432x288 with 1 Axes>"
      ]
     },
     "metadata": {
      "needs_background": "light"
     },
     "output_type": "display_data"
    }
   ],
   "source": [
    "plt.plot(X_err)\n",
    "plt.xlabel('X_epoch')\n",
    "plt.ylabel('MSE')\n",
    "plt.show()"
   ]
  },
  {
   "cell_type": "code",
   "execution_count": null,
   "metadata": {},
   "outputs": [],
   "source": []
  }
 ],
 "metadata": {
  "kernelspec": {
   "display_name": "Python 3",
   "language": "python",
   "name": "python3"
  },
  "language_info": {
   "codemirror_mode": {
    "name": "ipython",
    "version": 3
   },
   "file_extension": ".py",
   "mimetype": "text/x-python",
   "name": "python",
   "nbconvert_exporter": "python",
   "pygments_lexer": "ipython3",
   "version": "3.7.3"
  }
 },
 "nbformat": 4,
 "nbformat_minor": 2
}
