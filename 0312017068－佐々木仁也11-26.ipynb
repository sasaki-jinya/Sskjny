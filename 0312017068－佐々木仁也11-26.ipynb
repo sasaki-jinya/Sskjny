{
 "cells": [
  {
   "cell_type": "markdown",
   "metadata": {},
   "source": [
    "# 0312017068 佐々木仁也"
   ]
  },
  {
   "cell_type": "markdown",
   "metadata": {},
   "source": [
    "# 課題4: 必修：1),2), 選択:3)\n",
    "# 1)迷路の問題を解けるとき、sからtまでの経路を求める。幅優先探索による解と深さ優先探索の解を求めよ。 その時の探索木OpenList,ClosedListのステップごとに示す。\n",
    "# 2)グラフ１について、A(スタート)、L(ゴール)の時、均一コスト探索の解を求めよ(networkxライブラリを用いて計算を行う)\n",
    "# 3)双方向探索の幅優先探索による、グラフ探索プログラムを作成する。グラフ１について、A(スタート)、L(ゴール)の時、実行結果をす。双方向探索は初期状態から前向きに、そしてゴールから後ろ向きにと同時に探索して、中央で二つの探索が出会うときに止まるというものである。このアルゴリズムの終了条件は Aノードが両方の探索の訪問されたリストにある。"
   ]
  },
  {
   "cell_type": "markdown",
   "metadata": {},
   "source": [
    "# 課題１:迷路の問題を解けるとき、sからtまでの経路を求める。幅優先探索による解と深さ優先探索の解を求めよ。 その時の探索木OpenList,ClosedListのステップごとに示す。"
   ]
  },
  {
   "cell_type": "code",
   "execution_count": 1,
   "metadata": {},
   "outputs": [],
   "source": [
    "def BFS(graph,start,end):\n",
    "    C = [] #olistを空にする\n",
    "    O = [] #clistを空にする\n",
    "    initPath = [start] #startをinitPathに入れる\n",
    "    O.append(start) #それをOに入れる\n",
    "    pathQueue = [initPath]\n",
    "    while len(O) != 0: #openlistが空になるまで続ける\n",
    "        A = O.pop(0) #oの先頭をpopする\n",
    "        tmpPath = pathQueue.pop(0) #経路を記録する\n",
    "        if A == end: #Aがゴールならば、Sからゴールに至る節点のｔｍｐPathを返す\n",
    "            print(\"Goal! BFS Search is over!\")\n",
    "            return tmpPath\n",
    "        else: #Aがゴールでなければ、Aを展開し到達可能な節点のtmppathを求める\n",
    "            P_A = graph[A]\n",
    "            if A not in C:\n",
    "                C.append(A) #AをClosedListの最後に入れる\n",
    "            if P_A == []: #P_Aが空ならばnoneを返す\n",
    "                print(\"NO Solution. Path empty.\")\n",
    "                return None\n",
    "            for node in P_A:\n",
    "                if node not in O and node not in C:\n",
    "                    O.append(node)\n",
    "                    newPath = tmpPath + [node]\n",
    "                    pathQueue.append(newPath)\n",
    "    return none"
   ]
  },
  {
   "cell_type": "code",
   "execution_count": 2,
   "metadata": {},
   "outputs": [],
   "source": [
    "g2 = {'A':{'D','C'},'B':{'A','D'},'C':{'D','E'},'D':{'E'}}"
   ]
  },
  {
   "cell_type": "code",
   "execution_count": 3,
   "metadata": {},
   "outputs": [],
   "source": [
    "g3 = {'S':{'1','6','8'},'1':{'S','2','3'},'2':{'1'},'3':{'1','4'},\n",
    "      '4':{'5'},'5':{'4','6','9'},'6':{'S','5','7'},\n",
    "      '7':{'6','8','9'},'8':{'S','7'},'9':{'T'},'T':{'9'}}"
   ]
  },
  {
   "cell_type": "code",
   "execution_count": 4,
   "metadata": {
    "scrolled": true
   },
   "outputs": [
    {
     "name": "stdout",
     "output_type": "stream",
     "text": [
      "BFS for graph2:\n",
      "Goal! BFS Search is over!\n",
      "['B', 'D', 'E']\n"
     ]
    }
   ],
   "source": [
    "print(\"BFS for graph2:\")\n",
    "print(BFS(g2,\"B\",\"E\"))"
   ]
  },
  {
   "cell_type": "code",
   "execution_count": 5,
   "metadata": {},
   "outputs": [
    {
     "data": {
      "text/plain": [
       "{'S': {'1', '6', '8'},\n",
       " '1': {'2', '3', 'S'},\n",
       " '2': {'1'},\n",
       " '3': {'1', '4'},\n",
       " '4': {'5'},\n",
       " '5': {'4', '6', '9'},\n",
       " '6': {'5', '7', 'S'},\n",
       " '7': {'6', '8', '9'},\n",
       " '8': {'7', 'S'},\n",
       " '9': {'T'},\n",
       " 'T': {'9'}}"
      ]
     },
     "execution_count": 5,
     "metadata": {},
     "output_type": "execute_result"
    }
   ],
   "source": [
    "g3"
   ]
  },
  {
   "cell_type": "code",
   "execution_count": 6,
   "metadata": {},
   "outputs": [
    {
     "name": "stdout",
     "output_type": "stream",
     "text": [
      "BFS for graph2:\n",
      "Goal! BFS Search is over!\n",
      "['S', '8', '7', '9', 'T']\n"
     ]
    }
   ],
   "source": [
    "print(\"BFS for graph2:\")\n",
    "print(BFS(g3,\"S\",\"T\"))"
   ]
  },
  {
   "cell_type": "code",
   "execution_count": 7,
   "metadata": {},
   "outputs": [],
   "source": [
    "def DFS(graph,start,end):\n",
    "    C = []\n",
    "    O = []\n",
    "    initPath = [start]\n",
    "    O.append(start)\n",
    "    pathQueue = [initPath]\n",
    "    while len(O) != 0:\n",
    "        A = O.pop(0)\n",
    "        tmpPath = pathQueue.pop(0)\n",
    "        if A == end:\n",
    "            print(\"Goal! DFS Search is over!\")\n",
    "            print(tmpPath)\n",
    "            return tmpPath\n",
    "        else:\n",
    "            P_A = graph[A]\n",
    "            if A not in C:\n",
    "                C.append(A)\n",
    "            if P_A != []:\n",
    "                for node in P_A:\n",
    "                    if node not in O and node not in C:\n",
    "                        O.append(node)\n",
    "                        O.reverse()\n",
    "                        newPath = tmpPath + [node]\n",
    "                        pathStack.append(newPath)\n",
    "                        pathStackreverse()\n",
    "    return none"
   ]
  },
  {
   "cell_type": "markdown",
   "metadata": {},
   "source": [
    "# 課題２：グラフ１について、A(スタート)、L(ゴール)の時、均一コスト探索の解を求めよ(networkxライブラリを用いて計算を行う)"
   ]
  },
  {
   "cell_type": "code",
   "execution_count": 8,
   "metadata": {},
   "outputs": [],
   "source": [
    "import networkx as nx\n",
    "%matplotlib inline"
   ]
  },
  {
   "cell_type": "code",
   "execution_count": 9,
   "metadata": {},
   "outputs": [],
   "source": [
    "L={'A':{'B':3,'C':2,'E':9},'B':{'D':2,'E':4},'C':{'E':6,'F':9},\n",
    "   'D':{'G':3},'E':{'G':1,'H':2},'F':{'H':1,'I':2},'G':{'J':5},\n",
    "   'H':{'J':5,'L':9,'K':6},'I':{'K':2},'J':{'L':5},'K':{'L':3}}"
   ]
  },
  {
   "cell_type": "code",
   "execution_count": 10,
   "metadata": {},
   "outputs": [
    {
     "data": {
      "text/plain": [
       "{'A': {'B': 3, 'C': 2, 'E': 9},\n",
       " 'B': {'D': 2, 'E': 4},\n",
       " 'C': {'E': 6, 'F': 9},\n",
       " 'D': {'G': 3},\n",
       " 'E': {'G': 1, 'H': 2},\n",
       " 'F': {'H': 1, 'I': 2},\n",
       " 'G': {'J': 5},\n",
       " 'H': {'J': 5, 'L': 9, 'K': 6},\n",
       " 'I': {'K': 2},\n",
       " 'J': {'L': 5},\n",
       " 'K': {'L': 3}}"
      ]
     },
     "execution_count": 10,
     "metadata": {},
     "output_type": "execute_result"
    }
   ],
   "source": [
    "L"
   ]
  },
  {
   "cell_type": "code",
   "execution_count": 11,
   "metadata": {},
   "outputs": [],
   "source": [
    "wg = nx.DiGraph(directed=True)"
   ]
  },
  {
   "cell_type": "code",
   "execution_count": 12,
   "metadata": {},
   "outputs": [],
   "source": [
    "wg.add_edges_from([('A','B')],weight=3)\n",
    "wg.add_edges_from([('A','C')],weight=2)\n",
    "wg.add_edges_from([('A','E')],weight=9)\n",
    "wg.add_edges_from([('B','D')],weight=2)\n",
    "wg.add_edges_from([('B','E')],weight=4)\n",
    "wg.add_edges_from([('C','E')],weight=6)\n",
    "wg.add_edges_from([('C','F')],weight=9)\n",
    "wg.add_edges_from([('D','B')],weight=3)\n",
    "wg.add_edges_from([('E','C')],weight=2)\n",
    "wg.add_edges_from([('E','E')],weight=9)\n",
    "wg.add_edges_from([('F','D')],weight=2)\n",
    "wg.add_edges_from([('F','E')],weight=4)\n",
    "wg.add_edges_from([('G','E')],weight=6)\n",
    "wg.add_edges_from([('H','F')],weight=9)"
   ]
  },
  {
   "cell_type": "code",
   "execution_count": 13,
   "metadata": {},
   "outputs": [],
   "source": [
    "edge_labels=dict([((u,v,),d['weight'])\n",
    "                  for u,v,d in wg.edges(data=True)])"
   ]
  },
  {
   "cell_type": "code",
   "execution_count": 14,
   "metadata": {},
   "outputs": [],
   "source": [
    " options = {\n",
    "     'node_color': 'yellow',\n",
    "     'node_size': 500,\n",
    "     'width': 3\n",
    " }"
   ]
  },
  {
   "cell_type": "code",
   "execution_count": 15,
   "metadata": {},
   "outputs": [
    {
     "name": "stderr",
     "output_type": "stream",
     "text": [
      "C:\\home\\anaconda\\lib\\site-packages\\networkx\\drawing\\nx_pylab.py:579: MatplotlibDeprecationWarning: \n",
      "The iterable function was deprecated in Matplotlib 3.1 and will be removed in 3.3. Use np.iterable instead.\n",
      "  if not cb.iterable(width):\n",
      "C:\\home\\anaconda\\lib\\site-packages\\networkx\\drawing\\nx_pylab.py:676: MatplotlibDeprecationWarning: \n",
      "The iterable function was deprecated in Matplotlib 3.1 and will be removed in 3.3. Use np.iterable instead.\n",
      "  if cb.iterable(node_size):  # many node sizes\n"
     ]
    },
    {
     "data": {
      "image/png": "[encoded data removed]",
      "text/plain": [
       "<Figure size 432x288 with 1 Axes>"
      ]
     },
     "metadata": {},
     "output_type": "display_data"
    }
   ],
   "source": [
    "pos=nx.circular_layout(wg)\n",
    "nx.draw_networkx_edge_labels(wg,pos,edge_labels=edge_labels, **options)\n",
    "nx.draw_networkx(wg, pos, **options)"
   ]
  },
  {
   "cell_type": "code",
   "execution_count": null,
   "metadata": {},
   "outputs": [],
   "source": []
  }
 ],
 "metadata": {
  "kernelspec": {
   "display_name": "Python 3",
   "language": "python",
   "name": "python3"
  },
  "language_info": {
   "codemirror_mode": {
    "name": "ipython",
    "version": 3
   },
   "file_extension": ".py",
   "mimetype": "text/x-python",
   "name": "python",
   "nbconvert_exporter": "python",
   "pygments_lexer": "ipython3",
   "version": "3.6.9"
  }
 },
 "nbformat": 4,
 "nbformat_minor": 4
}
