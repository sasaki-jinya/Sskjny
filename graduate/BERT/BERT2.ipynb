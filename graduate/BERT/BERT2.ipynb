{
 "cells": [
  {
   "cell_type": "code",
   "execution_count": 2,
   "metadata": {},
   "outputs": [],
   "source": [
    "import pandas as pd\n",
    "import os\n",
    "from glob import glob\n",
    "import linecache\n",
    "from sklearn.model_selection import train_test_split\n",
    "import pickle"
   ]
  },
  {
   "cell_type": "code",
   "execution_count": 2,
   "metadata": {},
   "outputs": [
    {
     "name": "stdout",
     "output_type": "stream",
     "text": [
      "C:\\home\\program\\test\n"
     ]
    }
   ],
   "source": [
    "path = os.getcwd()\n",
    "print(path)"
   ]
  },
  {
   "cell_type": "code",
   "execution_count": 3,
   "metadata": {},
   "outputs": [
    {
     "name": "stdout",
     "output_type": "stream",
     "text": [
      "['dokujo-tsushin', 'it-life-hack', 'kaden-channel', 'livedoor-homme', 'movie-enter', 'peachy', 'smax', 'sports-watch', 'topic-news']\n"
     ]
    }
   ],
   "source": [
    "categories = [name for name in os.listdir(\"ldcc-20140209.tar/text\") if os.path.isdir(\"ldcc-20140209.tar/text/\" + name)]\n",
    "print(categories)"
   ]
  },
  {
   "cell_type": "code",
   "execution_count": 4,
   "metadata": {},
   "outputs": [],
   "source": [
    "datasets = pd.DataFrame(columns=[\"title\", \"category\"])\n",
    "for cat in categories:\n",
    "    path = \"ldcc-20140209.tar/text/\" + cat + \"/*.txt\"\n",
    "    files = glob(path)\n",
    "    for text_name in files:\n",
    "        title = linecache.getline(text_name, 3)\n",
    "        s = pd.Series([title, cat], index=datasets.columns)\n",
    "        datasets = datasets.append(s, ignore_index=True)"
   ]
  },
  {
   "cell_type": "code",
   "execution_count": 5,
   "metadata": {},
   "outputs": [
    {
     "data": {
      "text/html": [
       "<div>\n",
       "<style scoped>\n",
       "    .dataframe tbody tr th:only-of-type {\n",
       "        vertical-align: middle;\n",
       "    }\n",
       "\n",
       "    .dataframe tbody tr th {\n",
       "        vertical-align: top;\n",
       "    }\n",
       "\n",
       "    .dataframe thead th {\n",
       "        text-align: right;\n",
       "    }\n",
       "</style>\n",
       "<table border=\"1\" class=\"dataframe\">\n",
       "  <thead>\n",
       "    <tr style=\"text-align: right;\">\n",
       "      <th></th>\n",
       "      <th>title</th>\n",
       "      <th>category</th>\n",
       "    </tr>\n",
       "  </thead>\n",
       "  <tbody>\n",
       "    <tr>\n",
       "      <th>0</th>\n",
       "      <td>二股をする気持ちもわかってしまう映画\\n</td>\n",
       "      <td>movie-enter</td>\n",
       "    </tr>\n",
       "    <tr>\n",
       "      <th>1</th>\n",
       "      <td>【Sports Watch】長友の人生を変えた転機とは？\\n</td>\n",
       "      <td>sports-watch</td>\n",
       "    </tr>\n",
       "    <tr>\n",
       "      <th>2</th>\n",
       "      <td>マット・デイモンの優しい眼差し、『幸せへのキセキ』のポスター公開\\n</td>\n",
       "      <td>movie-enter</td>\n",
       "    </tr>\n",
       "    <tr>\n",
       "      <th>3</th>\n",
       "      <td>女子部必見！Peachyアプリが10万ダウンロードを突破\\n</td>\n",
       "      <td>it-life-hack</td>\n",
       "    </tr>\n",
       "    <tr>\n",
       "      <th>4</th>\n",
       "      <td>ZOZOTOWNが東北地方太平洋沖地震災害支援のチャリティーTシャツを販売！\\n</td>\n",
       "      <td>livedoor-homme</td>\n",
       "    </tr>\n",
       "  </tbody>\n",
       "</table>\n",
       "</div>"
      ],
      "text/plain": [
       "                                      title        category\n",
       "0                      二股をする気持ちもわかってしまう映画\\n     movie-enter\n",
       "1            【Sports Watch】長友の人生を変えた転機とは？\\n    sports-watch\n",
       "2        マット・デイモンの優しい眼差し、『幸せへのキセキ』のポスター公開\\n     movie-enter\n",
       "3            女子部必見！Peachyアプリが10万ダウンロードを突破\\n    it-life-hack\n",
       "4  ZOZOTOWNが東北地方太平洋沖地震災害支援のチャリティーTシャツを販売！\\n  livedoor-homme"
      ]
     },
     "execution_count": 5,
     "metadata": {},
     "output_type": "execute_result"
    }
   ],
   "source": [
    "# データフレームシャッフル\n",
    "datasets = datasets.sample(frac=1).reset_index(drop=True)\n",
    "datasets.head()"
   ]
  },
  {
   "cell_type": "code",
   "execution_count": 3,
   "metadata": {},
   "outputs": [],
   "source": [
    "#datasets = pd.read_csv('Reuter_data/TITLE-category-split0-700.csv')\n",
    "datasets = pd.read_csv('Reuter_data/NEWS-category-split0-700.csv')"
   ]
  },
  {
   "cell_type": "code",
   "execution_count": 4,
   "metadata": {},
   "outputs": [],
   "source": [
    "for i in range(0,len(datasets)):\n",
    "    text = datasets['NEWS'][i]\n",
    "    try:\n",
    "        if len(text) > 500:\n",
    "            text = text[0:500]\n",
    "    except AttributeError as t:\n",
    "        text = 'aaaaaaaaaaaaa'\n",
    "    datasets['NEWS'][i] = text"
   ]
  },
  {
   "cell_type": "code",
   "execution_count": 5,
   "metadata": {},
   "outputs": [],
   "source": [
    "with open(\"Reuter_data/Reuter_NEWS-category.pickle\", 'wb') as f:\n",
    "    pickle.dump(datasets,f)"
   ]
  },
  {
   "cell_type": "code",
   "execution_count": 6,
   "metadata": {},
   "outputs": [],
   "source": [
    "# データセット格納先\n",
    "drive_dir = \"Reuter_data/\""
   ]
  },
  {
   "cell_type": "code",
   "execution_count": 7,
   "metadata": {},
   "outputs": [],
   "source": [
    "with open(drive_dir + \"Reuter_NEWS-category.pickle\", 'rb') as f:\n",
    "    livedoor_data = pickle.load(f)"
   ]
  },
  {
   "cell_type": "code",
   "execution_count": 8,
   "metadata": {},
   "outputs": [
    {
     "name": "stdout",
     "output_type": "stream",
     "text": [
      "['oddlyEnoughNews', 'worldNews', 'technologyNews', 'sportsNews', 'domesticJPNews', 'entertainmentNews', 'business']\n"
     ]
    }
   ],
   "source": [
    "categories = list(set(livedoor_data['category']))\n",
    "print(categories)"
   ]
  },
  {
   "cell_type": "code",
   "execution_count": 9,
   "metadata": {},
   "outputs": [
    {
     "name": "stdout",
     "output_type": "stream",
     "text": [
      "{0: 'oddlyEnoughNews', 1: 'worldNews', 2: 'technologyNews', 3: 'sportsNews', 4: 'domesticJPNews', 5: 'entertainmentNews', 6: 'business'}\n",
      "{'oddlyEnoughNews': 0, 'worldNews': 1, 'technologyNews': 2, 'sportsNews': 3, 'domesticJPNews': 4, 'entertainmentNews': 5, 'business': 6}\n"
     ]
    }
   ],
   "source": [
    "# カテゴリーのID辞書を作成\n",
    "id2cat = dict(zip(list(range(len(categories))), categories))\n",
    "cat2id = dict(zip(categories, list(range(len(categories)))))\n",
    "print(id2cat)\n",
    "print(cat2id)"
   ]
  },
  {
   "cell_type": "code",
   "execution_count": 10,
   "metadata": {},
   "outputs": [],
   "source": [
    "livedoor_data['category_id'] = livedoor_data['category'].map(cat2id)"
   ]
  },
  {
   "cell_type": "code",
   "execution_count": 11,
   "metadata": {},
   "outputs": [],
   "source": [
    "livedoor_data = livedoor_data.sample(frac=1).reset_index(drop=True)"
   ]
  },
  {
   "cell_type": "code",
   "execution_count": 12,
   "metadata": {},
   "outputs": [
    {
     "data": {
      "text/html": [
       "<div>\n",
       "<style scoped>\n",
       "    .dataframe tbody tr th:only-of-type {\n",
       "        vertical-align: middle;\n",
       "    }\n",
       "\n",
       "    .dataframe tbody tr th {\n",
       "        vertical-align: top;\n",
       "    }\n",
       "\n",
       "    .dataframe thead th {\n",
       "        text-align: right;\n",
       "    }\n",
       "</style>\n",
       "<table border=\"1\" class=\"dataframe\">\n",
       "  <thead>\n",
       "    <tr style=\"text-align: right;\">\n",
       "      <th></th>\n",
       "      <th>NEWS</th>\n",
       "      <th>category_id</th>\n",
       "    </tr>\n",
       "  </thead>\n",
       "  <tbody>\n",
       "    <tr>\n",
       "      <th>0</th>\n",
       "      <td>[［ニューヨーク　２５日　ロイター］ - ホンダ7267.Tはタカタ製の欠陥エアバッグ・イン...</td>\n",
       "      <td>6</td>\n",
       "    </tr>\n",
       "    <tr>\n",
       "      <th>1</th>\n",
       "      <td>[［ストックホルム　１７日　ロイター］ - スウェーデンの人気ポップグループＡＢＢＡ（アバ）...</td>\n",
       "      <td>5</td>\n",
       "    </tr>\n",
       "    <tr>\n",
       "      <th>2</th>\n",
       "      <td>[［東京　２１日　ロイター］ - 日銀が２１日の金融政策決定会合で決定した金融緩和のための新...</td>\n",
       "      <td>4</td>\n",
       "    </tr>\n",
       "    <tr>\n",
       "      <th>3</th>\n",
       "      <td>[［東京　２９日　ロイター］ - 政府は２９日夕、経済財政諮問会議（議長：安倍晋三首相）を開...</td>\n",
       "      <td>4</td>\n",
       "    </tr>\n",
       "    <tr>\n",
       "      <th>4</th>\n",
       "      <td>[［東京　４日　ロイター］ - 麻生太郎金融相は４日、かんぽ生命保険7181.Tの不適切販売...</td>\n",
       "      <td>4</td>\n",
       "    </tr>\n",
       "  </tbody>\n",
       "</table>\n",
       "</div>"
      ],
      "text/plain": [
       "                                                NEWS  category_id\n",
       "0  [［ニューヨーク　２５日　ロイター］ - ホンダ7267.Tはタカタ製の欠陥エアバッグ・イン...            6\n",
       "1  [［ストックホルム　１７日　ロイター］ - スウェーデンの人気ポップグループＡＢＢＡ（アバ）...            5\n",
       "2  [［東京　２１日　ロイター］ - 日銀が２１日の金融政策決定会合で決定した金融緩和のための新...            4\n",
       "3  [［東京　２９日　ロイター］ - 政府は２９日夕、経済財政諮問会議（議長：安倍晋三首相）を開...            4\n",
       "4  [［東京　４日　ロイター］ - 麻生太郎金融相は４日、かんぽ生命保険7181.Tの不適切販売...            4"
      ]
     },
     "execution_count": 12,
     "metadata": {},
     "output_type": "execute_result"
    }
   ],
   "source": [
    "livedoor_data = livedoor_data[['NEWS', 'category_id']]\n",
    "livedoor_data.head()"
   ]
  },
  {
   "cell_type": "code",
   "execution_count": 13,
   "metadata": {},
   "outputs": [
    {
     "name": "stdout",
     "output_type": "stream",
     "text": [
      "学習データサイズ 34737\n",
      "テストデータサイズ 8685\n"
     ]
    }
   ],
   "source": [
    "train_df, test_df = train_test_split(livedoor_data, train_size=0.8)\n",
    "print(\"学習データサイズ\", train_df.shape[0])\n",
    "print(\"テストデータサイズ\", test_df.shape[0])"
   ]
  },
  {
   "cell_type": "code",
   "execution_count": 14,
   "metadata": {},
   "outputs": [],
   "source": [
    "train_df.to_csv(drive_dir+'train.tsv', sep='\\t', index=False, header=None)\n",
    "test_df.to_csv(drive_dir+'test.tsv', sep='\\t', index=False, header=None)"
   ]
  },
  {
   "cell_type": "code",
   "execution_count": 15,
   "metadata": {},
   "outputs": [],
   "source": [
    "import torch\n",
    "import torchtext\n",
    "from transformers.modeling_bert import BertModel\n",
    "from transformers.tokenization_bert_japanese import BertJapaneseTokenizer"
   ]
  },
  {
   "cell_type": "code",
   "execution_count": 16,
   "metadata": {},
   "outputs": [],
   "source": [
    "tokenizer = BertJapaneseTokenizer.from_pretrained('cl-tohoku/bert-base-japanese-whole-word-masking')"
   ]
  },
  {
   "cell_type": "code",
   "execution_count": 17,
   "metadata": {
    "collapsed": true,
    "jupyter": {
     "outputs_hidden": true
    }
   },
   "outputs": [
    {
     "name": "stdout",
     "output_type": "stream",
     "text": [
      "['[CLS]', '[[', '東京', '10', '日', 'ロイ', '##ター', ']', '-', '西村', '康', '稔', '経済', '再生', '相', 'は', '10', '日', 'の', '衆院', '予算', '委員', '会', 'で', '、', '引き続き', '政府', '・', '日銀', 'で', '連携', 'し', 'あらゆる', '政策', 'で', 'デフレ', '脱却', 'を', '目指す', 'と', '改めて', '強調', 'し', 'た', '。', '井', '##野', '俊', '##郎', '(', '自民', ')', '委員', 'へ', 'の', '答弁', '。', ',', '西村', '再生', '相', 'は', '「', 'アベ', '##ノミ', '##クス', 'の', '3', '本', 'の', '矢', 'により', 'デフレ', 'で', 'は', 'ない', '状態', 'を', '作り出す', 'こと', 'が', 'でき', 'た', '」', 'と', '述べ', '、', '具体', '例', 'として', '消費', '者', '物価', '指数', 'で', '基調', '的', 'な', '動き', 'を', '表す', 'コア', 'コア', '指数', '(', '生', '##鮮', '食品', 'および', 'エネルギー', 'を', '除く', '総合', '指数', ')', 'が', '26', '年', '連続', 'プラス', 'で', 'ある', 'こと', 'を', '示し', 'た', '。', 'もっとも', 'デフレ', 'から', '脱却', 'し', 'た', 'と', '判断', 'する', 'に', 'は', '「', 'デフレ', 'に', '戻る', '恐れ', 'が', 'ない', 'こと', 'を', '確認', 'する', '必要', 'が', 'ある', '」', 'と', '指摘', 'し', 'た', '。', ']', '[SEP]']\n",
      "tensor([[    2, 11146,   391,   121,    32, 11756,    92,  4118,    61, 12817,\n",
      "          3221, 19136,   994,  4254,   423,     9,   121,    32,     5, 23439,\n",
      "          4764,   813,   136,    12,     6,  4433,   886,    35, 26496,    12,\n",
      "          5274,    15,  5928,  2004,    12, 27831, 23894,    11,  5059,    13,\n",
      "          7656,  6674,    15,    10,     8,  2427, 28737,  3915, 29082,    23,\n",
      "         24328,    24,   813,   118,     5, 22728,     8,   228, 12817,  4254,\n",
      "           423,     9,    36, 10311, 15522,  1715,     5,    48,   108,     5,\n",
      "          3196,   225, 27831,    12,     9,    80,  1080,    11, 18595,    45,\n",
      "            14,   203,    10,    38,    13,  1449,     6,  4163,   709,    50,\n",
      "          3296,   104, 16096, 11102,    12, 12872,    81,    18,  3040,    11,\n",
      "          3605,  6759,  6759, 11102,    23,   128, 29483,  4144,   502,  2755,\n",
      "            11,  3448,  1618, 11102,    24,    14,   928,    19,  1557,  5949,\n",
      "            12,    31,    45,    11,  2374,    10,     8,  4584, 27831,    40,\n",
      "         23894,    15,    10,    13,  2827,    34,     7,     9,    36, 27831,\n",
      "             7,  5513,  5141,    14,    80,    45,    11,  1961,    34,   727,\n",
      "            14,    31,    38,    13,  2353,    15,    10,     8,  4118,     3]])\n",
      "torch.Size([1, 160])\n"
     ]
    }
   ],
   "source": [
    "text = list(train_df['NEWS'])[0]\n",
    "wakati_ids = tokenizer.encode(text, return_tensors='pt')\n",
    "print(tokenizer.convert_ids_to_tokens(wakati_ids[0].tolist()))\n",
    "print(wakati_ids)\n",
    "print(wakati_ids.size())"
   ]
  },
  {
   "cell_type": "code",
   "execution_count": 18,
   "metadata": {},
   "outputs": [
    {
     "name": "stdout",
     "output_type": "stream",
     "text": [
      "375\n"
     ]
    },
    {
     "name": "stderr",
     "output_type": "stream",
     "text": [
      "C:\\home\\anaconda\\envs\\Tensorflow\\lib\\site-packages\\seaborn\\distributions.py:2551: FutureWarning: `distplot` is a deprecated function and will be removed in a future version. Please adapt your code to use either `displot` (a figure-level function with similar flexibility) or `histplot` (an axes-level function for histograms).\n",
      "  warnings.warn(msg, FutureWarning)\n"
     ]
    },
    {
     "data": {
      "text/plain": [
       "<AxesSubplot:xlabel='NEWS', ylabel='Density'>"
      ]
     },
     "execution_count": 18,
     "metadata": {},
     "output_type": "execute_result"
    },
    {
     "data": {
      "image/png": "[encoded data removed]",
      "text/plain": [
       "<Figure size 432x288 with 1 Axes>"
      ]
     },
     "metadata": {
      "needs_background": "light"
     },
     "output_type": "display_data"
    }
   ],
   "source": [
    "# 日本語BERTで扱える文章の長さは512だけど、livedoorニュースのタイトルの長さは最大でもCLS, SEPトークン入れても76\n",
    "import seaborn as sns\n",
    "title_length = livedoor_data['NEWS'].map(tokenizer.encode).map(len)\n",
    "print(max(title_length))\n",
    "\n",
    "sns.distplot(title_length)"
   ]
  },
  {
   "cell_type": "code",
   "execution_count": 19,
   "metadata": {},
   "outputs": [],
   "source": [
    "def bert_tokenizer(text):\n",
    "    return tokenizer.encode(text, return_tensors='pt')[0]"
   ]
  },
  {
   "cell_type": "code",
   "execution_count": 20,
   "metadata": {},
   "outputs": [],
   "source": [
    "TEXT = torchtext.data.Field(sequential=True, tokenize=bert_tokenizer, use_vocab=False, lower=False,\n",
    "                            include_lengths=True, batch_first=True, pad_token=0)\n",
    "LABEL = torchtext.data.Field(sequential=False, use_vocab=False)"
   ]
  },
  {
   "cell_type": "code",
   "execution_count": 21,
   "metadata": {},
   "outputs": [],
   "source": [
    "train_data, test_data = torchtext.data.TabularDataset.splits(\n",
    "    path=drive_dir,train='train.tsv', test='test.tsv', format='tsv', fields=[('Text', TEXT), ('Label', LABEL)])"
   ]
  },
  {
   "cell_type": "code",
   "execution_count": 22,
   "metadata": {},
   "outputs": [],
   "source": [
    "BATCH_SIZE = 32\n",
    "train_iter, test_iter = torchtext.data.Iterator.splits(\n",
    "    (train_data, test_data), batch_sizes=(BATCH_SIZE, BATCH_SIZE), repeat=False, sort=False)"
   ]
  },
  {
   "cell_type": "code",
   "execution_count": 23,
   "metadata": {},
   "outputs": [],
   "source": [
    "model = BertModel.from_pretrained('cl-tohoku/bert-base-japanese-whole-word-masking')"
   ]
  },
  {
   "cell_type": "code",
   "execution_count": 24,
   "metadata": {},
   "outputs": [
    {
     "name": "stdout",
     "output_type": "stream",
     "text": [
      "torch.Size([32, 334])\n"
     ]
    }
   ],
   "source": [
    "# 上で作ったテストデータのイテレータから\n",
    "batch = next(iter(test_iter))\n",
    "print(batch.Text[0].size())"
   ]
  },
  {
   "cell_type": "code",
   "execution_count": null,
   "metadata": {},
   "outputs": [],
   "source": [
    "# BERTの順伝搬時にoutput_attentions=TrueでAttention weightを取得できる\n",
    "last_hidden_state, pooler_output, attentions = model(batch.Text[0], output_attentions=True)\n",
    "print(last_hidden_state.size())\n",
    "print(pooler_output.size())\n",
    "print(len(attentions), attentions[-1].size())"
   ]
  },
  {
   "cell_type": "code",
   "execution_count": null,
   "metadata": {},
   "outputs": [],
   "source": [
    "from torch import nn\n",
    "import torch.nn.functional as F"
   ]
  },
  {
   "cell_type": "code",
   "execution_count": null,
   "metadata": {},
   "outputs": [],
   "source": [
    "class BertClassifier(nn.Module):\n",
    "    def __init__(self):\n",
    "        super(BertClassifier, self).__init__()\n",
    "        self.bert = BertModel.from_pretrained('cl-tohoku/bert-base-japanese-whole-word-masking')\n",
    "        # BERTの隠れ層の次元数は768, livedoorニュースのカテゴリ数が9\n",
    "        self.linear = nn.Linear(768, 7)\n",
    "        # 重み初期化処理\n",
    "        nn.init.normal_(self.linear.weight, std=0.02)\n",
    "        nn.init.normal_(self.linear.bias, 0)\n",
    "    \n",
    "    def forward(self, input_ids):\n",
    "        # last_hidden_stateとattentionsを受け取る\n",
    "        vec, _, attentions = self.bert(input_ids, output_attentions=True)\n",
    "        # 先頭トークンclsのベクトルだけ取得\n",
    "        vec = vec[:,0,:]\n",
    "        vec = vec.view(-1, 768)\n",
    "        # 全結合層でクラス分類用に次元を変換\n",
    "        out = self.linear(vec)\n",
    "        return F.log_softmax(out), attentions\n",
    "\n",
    "classifier = BertClassifier()"
   ]
  },
  {
   "cell_type": "code",
   "execution_count": null,
   "metadata": {},
   "outputs": [],
   "source": [
    "# まずは全部OFF\n",
    "for param in classifier.parameters():\n",
    "    param.requires_grad = False\n",
    "\n",
    "# BERTの最後の層だけ更新ON\n",
    "for param in classifier.bert.encoder.layer[-1].parameters():\n",
    "    param.requires_grad = True\n",
    "\n",
    "# クラス分類のところもON\n",
    "for param in classifier.linear.parameters():\n",
    "    param.requires_grad = True"
   ]
  },
  {
   "cell_type": "code",
   "execution_count": null,
   "metadata": {},
   "outputs": [],
   "source": [
    "import torch.optim as optim\n",
    "\n",
    "# 事前学習済の箇所は学習率小さめ、最後の全結合層は大きめにする。\n",
    "optimizer = optim.Adam([\n",
    "    {'params': classifier.bert.encoder.layer[-1].parameters(), 'lr': 5e-5},\n",
    "    {'params': classifier.linear.parameters(), 'lr': 1e-4}\n",
    "])"
   ]
  },
  {
   "cell_type": "code",
   "execution_count": null,
   "metadata": {},
   "outputs": [],
   "source": [
    "# 損失関数の設定\n",
    "loss_function = nn.NLLLoss()"
   ]
  },
  {
   "cell_type": "code",
   "execution_count": null,
   "metadata": {},
   "outputs": [],
   "source": [
    "for epoch in range(5):\n",
    "    all_loss = 0\n",
    "    for idx, batch in enumerate(train_iter):\n",
    "        batch_loss = 0\n",
    "        classifier.zero_grad()\n",
    "        input_ids = batch.Text[0]\n",
    "        label_ids = batch.Label\n",
    "        out, _ = classifier(input_ids)\n",
    "        batch_loss = loss_function(out, label_ids)\n",
    "        batch_loss.backward()\n",
    "        optimizer.step()\n",
    "        all_loss += batch_loss.item()\n",
    "    print(\"epoch\", epoch, \"\\t\" , \"loss\", all_loss)"
   ]
  },
  {
   "cell_type": "code",
   "execution_count": 31,
   "metadata": {},
   "outputs": [
    {
     "name": "stderr",
     "output_type": "stream",
     "text": [
      "C:\\home\\anaconda\\envs\\Tensorflow\\lib\\site-packages\\ipykernel_launcher.py:19: UserWarning: Implicit dimension choice for log_softmax has been deprecated. Change the call to include dim=X as an argument.\n"
     ]
    },
    {
     "name": "stdout",
     "output_type": "stream",
     "text": [
      "                   precision    recall  f1-score   support\n",
      "\n",
      "   domesticJPNews       1.00      0.89      0.94      1611\n",
      "       sportsNews       1.00      0.99      0.99      1213\n",
      "entertainmentNews       1.00      1.00      1.00      1354\n",
      "   technologyNews       0.88      0.86      0.87      1269\n",
      "  oddlyEnoughNews       1.00      1.00      1.00      1361\n",
      "         business       0.85      0.88      0.87      1270\n",
      "        worldNews       0.87      1.00      0.93      1149\n",
      "\n",
      "         accuracy                           0.94      9227\n",
      "        macro avg       0.94      0.95      0.94      9227\n",
      "     weighted avg       0.95      0.94      0.94      9227\n",
      "\n"
     ]
    }
   ],
   "source": [
    "from sklearn.metrics import classification_report\n",
    "\n",
    "answer = []\n",
    "prediction = []\n",
    "with torch.no_grad():\n",
    "    for batch in test_iter:\n",
    "\n",
    "        text_tensor = batch.Text[0]\n",
    "        label_tensor = batch.Label\n",
    "\n",
    "        score, _ = classifier(text_tensor)\n",
    "        _, pred = torch.max(score, 1)\n",
    "\n",
    "        prediction += list(pred.numpy())\n",
    "        answer += list(label_tensor.numpy())\n",
    "print(classification_report(prediction, answer, target_names=categories))"
   ]
  },
  {
   "cell_type": "code",
   "execution_count": 43,
   "metadata": {},
   "outputs": [
    {
     "data": {
      "text/plain": [
       "tensor([3, 0, 1, 6])"
      ]
     },
     "execution_count": 43,
     "metadata": {},
     "output_type": "execute_result"
    }
   ],
   "source": [
    "batch.Label"
   ]
  },
  {
   "cell_type": "code",
   "execution_count": null,
   "metadata": {},
   "outputs": [],
   "source": []
  }
 ],
 "metadata": {
  "kernelspec": {
   "display_name": "Python 3",
   "language": "python",
   "name": "python3"
  },
  "language_info": {
   "codemirror_mode": {
    "name": "ipython",
    "version": 3
   },
   "file_extension": ".py",
   "mimetype": "text/x-python",
   "name": "python",
   "nbconvert_exporter": "python",
   "pygments_lexer": "ipython3",
   "version": "3.7.9"
  }
 },
 "nbformat": 4,
 "nbformat_minor": 4
}
