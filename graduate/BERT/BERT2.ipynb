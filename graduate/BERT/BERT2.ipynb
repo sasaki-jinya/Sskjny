{
 "cells": [
  {
   "cell_type": "code",
   "execution_count": 1,
   "metadata": {},
   "outputs": [],
   "source": [
    "import pandas as pd\n",
    "import os\n",
    "from glob import glob\n",
    "import linecache\n",
    "from sklearn.model_selection import train_test_split\n",
    "import pickle"
   ]
  },
  {
   "cell_type": "code",
   "execution_count": 55,
   "metadata": {},
   "outputs": [
    {
     "name": "stdout",
     "output_type": "stream",
     "text": [
      "/home/guest/Desktop/BERT\n"
     ]
    }
   ],
   "source": [
    "path = os.getcwd()\n",
    "print(path)"
   ]
  },
  {
   "cell_type": "code",
   "execution_count": 3,
   "metadata": {
    "collapsed": true
   },
   "outputs": [
    {
     "ename": "FileNotFoundError",
     "evalue": "[Errno 2] No such file or directory: 'ldcc-20140209.tar/text'",
     "output_type": "error",
     "traceback": [
      "\u001b[0;31m---------------------------------------------------------------------------\u001b[0m",
      "\u001b[0;31mFileNotFoundError\u001b[0m                         Traceback (most recent call last)",
      "\u001b[0;32m<ipython-input-3-51ee6229c99c>\u001b[0m in \u001b[0;36m<module>\u001b[0;34m\u001b[0m\n\u001b[0;32m----> 1\u001b[0;31m \u001b[0mcategories\u001b[0m \u001b[0;34m=\u001b[0m \u001b[0;34m[\u001b[0m\u001b[0mname\u001b[0m \u001b[0;32mfor\u001b[0m \u001b[0mname\u001b[0m \u001b[0;32min\u001b[0m \u001b[0mos\u001b[0m\u001b[0;34m.\u001b[0m\u001b[0mlistdir\u001b[0m\u001b[0;34m(\u001b[0m\u001b[0;34m\"ldcc-20140209.tar/text\"\u001b[0m\u001b[0;34m)\u001b[0m \u001b[0;32mif\u001b[0m \u001b[0mos\u001b[0m\u001b[0;34m.\u001b[0m\u001b[0mpath\u001b[0m\u001b[0;34m.\u001b[0m\u001b[0misdir\u001b[0m\u001b[0;34m(\u001b[0m\u001b[0;34m\"ldcc-20140209.tar/text/\"\u001b[0m \u001b[0;34m+\u001b[0m \u001b[0mname\u001b[0m\u001b[0;34m)\u001b[0m\u001b[0;34m]\u001b[0m\u001b[0;34m\u001b[0m\u001b[0;34m\u001b[0m\u001b[0m\n\u001b[0m\u001b[1;32m      2\u001b[0m \u001b[0mprint\u001b[0m\u001b[0;34m(\u001b[0m\u001b[0mcategories\u001b[0m\u001b[0;34m)\u001b[0m\u001b[0;34m\u001b[0m\u001b[0;34m\u001b[0m\u001b[0m\n",
      "\u001b[0;31mFileNotFoundError\u001b[0m: [Errno 2] No such file or directory: 'ldcc-20140209.tar/text'"
     ]
    }
   ],
   "source": [
    "categories = [name for name in os.listdir(\"ldcc-20140209.tar/text\") if os.path.isdir(\"ldcc-20140209.tar/text/\" + name)]\n",
    "print(categories)"
   ]
  },
  {
   "cell_type": "code",
   "execution_count": 4,
   "metadata": {
    "collapsed": true
   },
   "outputs": [
    {
     "ename": "NameError",
     "evalue": "name 'categories' is not defined",
     "output_type": "error",
     "traceback": [
      "\u001b[0;31m---------------------------------------------------------------------------\u001b[0m",
      "\u001b[0;31mNameError\u001b[0m                                 Traceback (most recent call last)",
      "\u001b[0;32m<ipython-input-4-25a641564e02>\u001b[0m in \u001b[0;36m<module>\u001b[0;34m\u001b[0m\n\u001b[1;32m      1\u001b[0m \u001b[0mdatasets\u001b[0m \u001b[0;34m=\u001b[0m \u001b[0mpd\u001b[0m\u001b[0;34m.\u001b[0m\u001b[0mDataFrame\u001b[0m\u001b[0;34m(\u001b[0m\u001b[0mcolumns\u001b[0m\u001b[0;34m=\u001b[0m\u001b[0;34m[\u001b[0m\u001b[0;34m\"title\"\u001b[0m\u001b[0;34m,\u001b[0m \u001b[0;34m\"category\"\u001b[0m\u001b[0;34m]\u001b[0m\u001b[0;34m)\u001b[0m\u001b[0;34m\u001b[0m\u001b[0;34m\u001b[0m\u001b[0m\n\u001b[0;32m----> 2\u001b[0;31m \u001b[0;32mfor\u001b[0m \u001b[0mcat\u001b[0m \u001b[0;32min\u001b[0m \u001b[0mcategories\u001b[0m\u001b[0;34m:\u001b[0m\u001b[0;34m\u001b[0m\u001b[0;34m\u001b[0m\u001b[0m\n\u001b[0m\u001b[1;32m      3\u001b[0m     \u001b[0mpath\u001b[0m \u001b[0;34m=\u001b[0m \u001b[0;34m\"ldcc-20140209.tar/text/\"\u001b[0m \u001b[0;34m+\u001b[0m \u001b[0mcat\u001b[0m \u001b[0;34m+\u001b[0m \u001b[0;34m\"/*.txt\"\u001b[0m\u001b[0;34m\u001b[0m\u001b[0;34m\u001b[0m\u001b[0m\n\u001b[1;32m      4\u001b[0m     \u001b[0mfiles\u001b[0m \u001b[0;34m=\u001b[0m \u001b[0mglob\u001b[0m\u001b[0;34m(\u001b[0m\u001b[0mpath\u001b[0m\u001b[0;34m)\u001b[0m\u001b[0;34m\u001b[0m\u001b[0;34m\u001b[0m\u001b[0m\n\u001b[1;32m      5\u001b[0m     \u001b[0;32mfor\u001b[0m \u001b[0mtext_name\u001b[0m \u001b[0;32min\u001b[0m \u001b[0mfiles\u001b[0m\u001b[0;34m:\u001b[0m\u001b[0;34m\u001b[0m\u001b[0;34m\u001b[0m\u001b[0m\n",
      "\u001b[0;31mNameError\u001b[0m: name 'categories' is not defined"
     ]
    }
   ],
   "source": [
    "datasets = pd.DataFrame(columns=[\"title\", \"category\"])\n",
    "for cat in categories:\n",
    "    path = \"ldcc-20140209.tar/text/\" + cat + \"/*.txt\"\n",
    "    files = glob(path)\n",
    "    for text_name in files:\n",
    "        title = linecache.getline(text_name, 3)\n",
    "        s = pd.Series([title, cat], index=datasets.columns)\n",
    "        datasets = datasets.append(s, ignore_index=True)"
   ]
  },
  {
   "cell_type": "code",
   "execution_count": 5,
   "metadata": {},
   "outputs": [
    {
     "data": {
      "text/html": [
       "<div>\n",
       "<style scoped>\n",
       "    .dataframe tbody tr th:only-of-type {\n",
       "        vertical-align: middle;\n",
       "    }\n",
       "\n",
       "    .dataframe tbody tr th {\n",
       "        vertical-align: top;\n",
       "    }\n",
       "\n",
       "    .dataframe thead th {\n",
       "        text-align: right;\n",
       "    }\n",
       "</style>\n",
       "<table border=\"1\" class=\"dataframe\">\n",
       "  <thead>\n",
       "    <tr style=\"text-align: right;\">\n",
       "      <th></th>\n",
       "      <th>title</th>\n",
       "      <th>category</th>\n",
       "    </tr>\n",
       "  </thead>\n",
       "  <tbody>\n",
       "  </tbody>\n",
       "</table>\n",
       "</div>"
      ],
      "text/plain": [
       "Empty DataFrame\n",
       "Columns: [title, category]\n",
       "Index: []"
      ]
     },
     "execution_count": 5,
     "metadata": {},
     "output_type": "execute_result"
    }
   ],
   "source": [
    "# データフレームシャッフル\n",
    "datasets = datasets.sample(frac=1).reset_index(drop=True)\n",
    "datasets.head()"
   ]
  },
  {
   "cell_type": "code",
   "execution_count": 6,
   "metadata": {},
   "outputs": [],
   "source": [
    "#datasets = pd.read_csv('Reuter_data/TITLE-category-split0-700.csv')\n",
    "datasets = pd.read_csv('Reuter_data/NEWS-category-split0-700.csv')"
   ]
  },
  {
   "cell_type": "code",
   "execution_count": 7,
   "metadata": {},
   "outputs": [
    {
     "data": {
      "text/html": [
       "<div>\n",
       "<style scoped>\n",
       "    .dataframe tbody tr th:only-of-type {\n",
       "        vertical-align: middle;\n",
       "    }\n",
       "\n",
       "    .dataframe tbody tr th {\n",
       "        vertical-align: top;\n",
       "    }\n",
       "\n",
       "    .dataframe thead th {\n",
       "        text-align: right;\n",
       "    }\n",
       "</style>\n",
       "<table border=\"1\" class=\"dataframe\">\n",
       "  <thead>\n",
       "    <tr style=\"text-align: right;\">\n",
       "      <th></th>\n",
       "      <th>date</th>\n",
       "      <th>NEWS</th>\n",
       "      <th>category</th>\n",
       "    </tr>\n",
       "  </thead>\n",
       "  <tbody>\n",
       "    <tr>\n",
       "      <td>0</td>\n",
       "      <td>2011-06-14 04:02:17+00:00</td>\n",
       "      <td>[　［パリ　１３日　ロイター］　１９９１年に死去した仏歌手セルジュ・ゲンスブールの曲が、高級...</td>\n",
       "      <td>entertainmentNews</td>\n",
       "    </tr>\n",
       "    <tr>\n",
       "      <td>1</td>\n",
       "      <td>2011-06-15 01:31:32+00:00</td>\n",
       "      <td>[　［ロサンゼルス　１４日　ロイター］　映画「ブラック・スワン」でアカデミー主演女優賞に輝い...</td>\n",
       "      <td>entertainmentNews</td>\n",
       "    </tr>\n",
       "    <tr>\n",
       "      <td>2</td>\n",
       "      <td>2011-06-15 01:37:23+00:00</td>\n",
       "      <td>[　［ロサンゼルス　１４日　ロイター］　米男性娯楽誌「プレイボーイ」の創刊者ヒュー・ヘフナー...</td>\n",
       "      <td>entertainmentNews</td>\n",
       "    </tr>\n",
       "    <tr>\n",
       "      <td>3</td>\n",
       "      <td>2011-06-15 02:27:28+00:00</td>\n",
       "      <td>[　［ニューヨーク　１４日　ロイター］　米シンガーソングライターのキャロル・キングさんが、回...</td>\n",
       "      <td>entertainmentNews</td>\n",
       "    </tr>\n",
       "    <tr>\n",
       "      <td>4</td>\n",
       "      <td>2011-06-16 00:19:46+00:00</td>\n",
       "      <td>[　［ロンドン　１５日　ロイター］　英女優でモデルのエリザベス・ハーレーさん（４６）が１５日...</td>\n",
       "      <td>entertainmentNews</td>\n",
       "    </tr>\n",
       "  </tbody>\n",
       "</table>\n",
       "</div>"
      ],
      "text/plain": [
       "                        date  \\\n",
       "0  2011-06-14 04:02:17+00:00   \n",
       "1  2011-06-15 01:31:32+00:00   \n",
       "2  2011-06-15 01:37:23+00:00   \n",
       "3  2011-06-15 02:27:28+00:00   \n",
       "4  2011-06-16 00:19:46+00:00   \n",
       "\n",
       "                                                NEWS           category  \n",
       "0  [　［パリ　１３日　ロイター］　１９９１年に死去した仏歌手セルジュ・ゲンスブールの曲が、高級...  entertainmentNews  \n",
       "1  [　［ロサンゼルス　１４日　ロイター］　映画「ブラック・スワン」でアカデミー主演女優賞に輝い...  entertainmentNews  \n",
       "2  [　［ロサンゼルス　１４日　ロイター］　米男性娯楽誌「プレイボーイ」の創刊者ヒュー・ヘフナー...  entertainmentNews  \n",
       "3  [　［ニューヨーク　１４日　ロイター］　米シンガーソングライターのキャロル・キングさんが、回...  entertainmentNews  \n",
       "4  [　［ロンドン　１５日　ロイター］　英女優でモデルのエリザベス・ハーレーさん（４６）が１５日...  entertainmentNews  "
      ]
     },
     "execution_count": 7,
     "metadata": {},
     "output_type": "execute_result"
    }
   ],
   "source": [
    "datasets.head()"
   ]
  },
  {
   "cell_type": "code",
   "execution_count": 8,
   "metadata": {},
   "outputs": [],
   "source": [
    "for i in range(0,len(datasets)):\n",
    "    text = datasets['NEWS'][i]\n",
    "    try:\n",
    "        if len(text) > 500:\n",
    "            text = text[0:500]\n",
    "    except AttributeError as t:\n",
    "        text = 'aaaaaaaaaaaaa'\n",
    "    datasets['NEWS'][i] = text"
   ]
  },
  {
   "cell_type": "code",
   "execution_count": 9,
   "metadata": {},
   "outputs": [],
   "source": [
    "with open(\"Reuter_data/Reuter_NEWS-category.pickle\", 'wb') as f:\n",
    "    pickle.dump(datasets,f)"
   ]
  },
  {
   "cell_type": "code",
   "execution_count": 10,
   "metadata": {},
   "outputs": [],
   "source": [
    "# データセット格納先\n",
    "drive_dir = \"Reuter_data/\""
   ]
  },
  {
   "cell_type": "code",
   "execution_count": 11,
   "metadata": {},
   "outputs": [],
   "source": [
    "with open(drive_dir + \"Reuter_NEWS-category.pickle\", 'rb') as f:\n",
    "    livedoor_data = pickle.load(f)"
   ]
  },
  {
   "cell_type": "code",
   "execution_count": 12,
   "metadata": {},
   "outputs": [
    {
     "name": "stdout",
     "output_type": "stream",
     "text": [
      "['entertainmentNews', 'sportsNews', 'technologyNews', 'domesticJPNews', 'oddlyEnoughNews', 'business', 'worldNews']\n"
     ]
    }
   ],
   "source": [
    "categories = list(set(livedoor_data['category']))\n",
    "print(categories)"
   ]
  },
  {
   "cell_type": "code",
   "execution_count": 13,
   "metadata": {},
   "outputs": [
    {
     "name": "stdout",
     "output_type": "stream",
     "text": [
      "{0: 'entertainmentNews', 1: 'sportsNews', 2: 'technologyNews', 3: 'domesticJPNews', 4: 'oddlyEnoughNews', 5: 'business', 6: 'worldNews'}\n",
      "{'entertainmentNews': 0, 'sportsNews': 1, 'technologyNews': 2, 'domesticJPNews': 3, 'oddlyEnoughNews': 4, 'business': 5, 'worldNews': 6}\n"
     ]
    }
   ],
   "source": [
    "# カテゴリーのID辞書を作成\n",
    "id2cat = dict(zip(list(range(len(categories))), categories))\n",
    "cat2id = dict(zip(categories, list(range(len(categories)))))\n",
    "print(id2cat)\n",
    "print(cat2id)"
   ]
  },
  {
   "cell_type": "code",
   "execution_count": 14,
   "metadata": {},
   "outputs": [],
   "source": [
    "livedoor_data['category_id'] = livedoor_data['category'].map(cat2id)"
   ]
  },
  {
   "cell_type": "code",
   "execution_count": 15,
   "metadata": {},
   "outputs": [],
   "source": [
    "livedoor_data = livedoor_data.sample(frac=1).reset_index(drop=True)"
   ]
  },
  {
   "cell_type": "code",
   "execution_count": 16,
   "metadata": {},
   "outputs": [
    {
     "data": {
      "text/html": [
       "<div>\n",
       "<style scoped>\n",
       "    .dataframe tbody tr th:only-of-type {\n",
       "        vertical-align: middle;\n",
       "    }\n",
       "\n",
       "    .dataframe tbody tr th {\n",
       "        vertical-align: top;\n",
       "    }\n",
       "\n",
       "    .dataframe thead th {\n",
       "        text-align: right;\n",
       "    }\n",
       "</style>\n",
       "<table border=\"1\" class=\"dataframe\">\n",
       "  <thead>\n",
       "    <tr style=\"text-align: right;\">\n",
       "      <th></th>\n",
       "      <th>NEWS</th>\n",
       "      <th>category_id</th>\n",
       "    </tr>\n",
       "  </thead>\n",
       "  <tbody>\n",
       "    <tr>\n",
       "      <td>0</td>\n",
       "      <td>[［モンペリエ（フランス）　１３日　ロイター］ - サッカー女子のブラジル代表マルタ（３３）...</td>\n",
       "      <td>1</td>\n",
       "    </tr>\n",
       "    <tr>\n",
       "      <td>1</td>\n",
       "      <td>[［ロサンゼルス　１４日　ロイター］ - 昨年１２月に６０歳で死去した米女優キャリー・フィッ...</td>\n",
       "      <td>0</td>\n",
       "    </tr>\n",
       "    <tr>\n",
       "      <td>2</td>\n",
       "      <td>[［ブエノスアイレス　２０日　ロイター］ - 経済危機が続く南米のアルゼンチンで、避妊具の売...</td>\n",
       "      <td>4</td>\n",
       "    </tr>\n",
       "    <tr>\n",
       "      <td>3</td>\n",
       "      <td>[［東京　２０日　ロイター］ - 安倍晋三首相は２０日、米政府による自動車関税措置などの貿易...</td>\n",
       "      <td>3</td>\n",
       "    </tr>\n",
       "    <tr>\n",
       "      <td>4</td>\n",
       "      <td>[［東京　２６日　ロイター］ - ＮＴＴドコモ9437.Tは２６日、料金プラン「ギガホ」「ギ...</td>\n",
       "      <td>2</td>\n",
       "    </tr>\n",
       "  </tbody>\n",
       "</table>\n",
       "</div>"
      ],
      "text/plain": [
       "                                                NEWS  category_id\n",
       "0  [［モンペリエ（フランス）　１３日　ロイター］ - サッカー女子のブラジル代表マルタ（３３）...            1\n",
       "1  [［ロサンゼルス　１４日　ロイター］ - 昨年１２月に６０歳で死去した米女優キャリー・フィッ...            0\n",
       "2  [［ブエノスアイレス　２０日　ロイター］ - 経済危機が続く南米のアルゼンチンで、避妊具の売...            4\n",
       "3  [［東京　２０日　ロイター］ - 安倍晋三首相は２０日、米政府による自動車関税措置などの貿易...            3\n",
       "4  [［東京　２６日　ロイター］ - ＮＴＴドコモ9437.Tは２６日、料金プラン「ギガホ」「ギ...            2"
      ]
     },
     "execution_count": 16,
     "metadata": {},
     "output_type": "execute_result"
    }
   ],
   "source": [
    "livedoor_data = livedoor_data[['NEWS', 'category_id']]\n",
    "livedoor_data.head()"
   ]
  },
  {
   "cell_type": "code",
   "execution_count": 17,
   "metadata": {},
   "outputs": [
    {
     "name": "stdout",
     "output_type": "stream",
     "text": [
      "学習データサイズ 34737\n",
      "テストデータサイズ 8685\n"
     ]
    }
   ],
   "source": [
    "train_df, test_df = train_test_split(livedoor_data, train_size=0.8)\n",
    "print(\"学習データサイズ\", train_df.shape[0])\n",
    "print(\"テストデータサイズ\", test_df.shape[0])"
   ]
  },
  {
   "cell_type": "code",
   "execution_count": 18,
   "metadata": {},
   "outputs": [],
   "source": [
    "train_df.to_csv(drive_dir+'train.tsv', sep='\\t', index=False, header=None)\n",
    "test_df.to_csv(drive_dir+'test.tsv', sep='\\t', index=False, header=None)"
   ]
  },
  {
   "cell_type": "code",
   "execution_count": 19,
   "metadata": {
    "collapsed": true
   },
   "outputs": [
    {
     "name": "stderr",
     "output_type": "stream",
     "text": [
      "/home/guest/anaconda3/lib/python3.7/site-packages/tensorflow/python/framework/dtypes.py:516: FutureWarning: Passing (type, 1) or '1type' as a synonym of type is deprecated; in a future version of numpy, it will be understood as (type, (1,)) / '(1,)type'.\n",
      "  _np_qint8 = np.dtype([(\"qint8\", np.int8, 1)])\n",
      "/home/guest/anaconda3/lib/python3.7/site-packages/tensorflow/python/framework/dtypes.py:517: FutureWarning: Passing (type, 1) or '1type' as a synonym of type is deprecated; in a future version of numpy, it will be understood as (type, (1,)) / '(1,)type'.\n",
      "  _np_quint8 = np.dtype([(\"quint8\", np.uint8, 1)])\n",
      "/home/guest/anaconda3/lib/python3.7/site-packages/tensorflow/python/framework/dtypes.py:518: FutureWarning: Passing (type, 1) or '1type' as a synonym of type is deprecated; in a future version of numpy, it will be understood as (type, (1,)) / '(1,)type'.\n",
      "  _np_qint16 = np.dtype([(\"qint16\", np.int16, 1)])\n",
      "/home/guest/anaconda3/lib/python3.7/site-packages/tensorflow/python/framework/dtypes.py:519: FutureWarning: Passing (type, 1) or '1type' as a synonym of type is deprecated; in a future version of numpy, it will be understood as (type, (1,)) / '(1,)type'.\n",
      "  _np_quint16 = np.dtype([(\"quint16\", np.uint16, 1)])\n",
      "/home/guest/anaconda3/lib/python3.7/site-packages/tensorflow/python/framework/dtypes.py:520: FutureWarning: Passing (type, 1) or '1type' as a synonym of type is deprecated; in a future version of numpy, it will be understood as (type, (1,)) / '(1,)type'.\n",
      "  _np_qint32 = np.dtype([(\"qint32\", np.int32, 1)])\n",
      "/home/guest/anaconda3/lib/python3.7/site-packages/tensorflow/python/framework/dtypes.py:525: FutureWarning: Passing (type, 1) or '1type' as a synonym of type is deprecated; in a future version of numpy, it will be understood as (type, (1,)) / '(1,)type'.\n",
      "  np_resource = np.dtype([(\"resource\", np.ubyte, 1)])\n",
      "/home/guest/anaconda3/lib/python3.7/site-packages/tensorboard/compat/tensorflow_stub/dtypes.py:541: FutureWarning: Passing (type, 1) or '1type' as a synonym of type is deprecated; in a future version of numpy, it will be understood as (type, (1,)) / '(1,)type'.\n",
      "  _np_qint8 = np.dtype([(\"qint8\", np.int8, 1)])\n",
      "/home/guest/anaconda3/lib/python3.7/site-packages/tensorboard/compat/tensorflow_stub/dtypes.py:542: FutureWarning: Passing (type, 1) or '1type' as a synonym of type is deprecated; in a future version of numpy, it will be understood as (type, (1,)) / '(1,)type'.\n",
      "  _np_quint8 = np.dtype([(\"quint8\", np.uint8, 1)])\n",
      "/home/guest/anaconda3/lib/python3.7/site-packages/tensorboard/compat/tensorflow_stub/dtypes.py:543: FutureWarning: Passing (type, 1) or '1type' as a synonym of type is deprecated; in a future version of numpy, it will be understood as (type, (1,)) / '(1,)type'.\n",
      "  _np_qint16 = np.dtype([(\"qint16\", np.int16, 1)])\n",
      "/home/guest/anaconda3/lib/python3.7/site-packages/tensorboard/compat/tensorflow_stub/dtypes.py:544: FutureWarning: Passing (type, 1) or '1type' as a synonym of type is deprecated; in a future version of numpy, it will be understood as (type, (1,)) / '(1,)type'.\n",
      "  _np_quint16 = np.dtype([(\"quint16\", np.uint16, 1)])\n",
      "/home/guest/anaconda3/lib/python3.7/site-packages/tensorboard/compat/tensorflow_stub/dtypes.py:545: FutureWarning: Passing (type, 1) or '1type' as a synonym of type is deprecated; in a future version of numpy, it will be understood as (type, (1,)) / '(1,)type'.\n",
      "  _np_qint32 = np.dtype([(\"qint32\", np.int32, 1)])\n",
      "/home/guest/anaconda3/lib/python3.7/site-packages/tensorboard/compat/tensorflow_stub/dtypes.py:550: FutureWarning: Passing (type, 1) or '1type' as a synonym of type is deprecated; in a future version of numpy, it will be understood as (type, (1,)) / '(1,)type'.\n",
      "  np_resource = np.dtype([(\"resource\", np.ubyte, 1)])\n",
      "/home/guest/anaconda3/lib/python3.7/site-packages/torch/cuda/__init__.py:52: UserWarning: CUDA initialization: The NVIDIA driver on your system is too old (found version 10010). Please update your GPU driver by downloading and installing a new version from the URL: http://www.nvidia.com/Download/index.aspx Alternatively, go to: https://pytorch.org to install a PyTorch version that has been compiled with your version of the CUDA driver. (Triggered internally at  /pytorch/c10/cuda/CUDAFunctions.cpp:100.)\n",
      "  return torch._C._cuda_getDeviceCount() > 0\n"
     ]
    }
   ],
   "source": [
    "import torch\n",
    "import torchtext\n",
    "from transformers.modeling_bert import BertModel\n",
    "from transformers.tokenization_bert_japanese import BertJapaneseTokenizer"
   ]
  },
  {
   "cell_type": "code",
   "execution_count": 20,
   "metadata": {},
   "outputs": [
    {
     "data": {
      "application/vnd.jupyter.widget-view+json": {
       "model_id": "bc7cd1d2e1a048cbb5873490b2b9f438",
       "version_major": 2,
       "version_minor": 0
      },
      "text/plain": [
       "HBox(children=(IntProgress(value=0, description='Downloading', max=257706, style=ProgressStyle(description_wid…"
      ]
     },
     "metadata": {},
     "output_type": "display_data"
    },
    {
     "name": "stdout",
     "output_type": "stream",
     "text": [
      "\n"
     ]
    }
   ],
   "source": [
    "tokenizer = BertJapaneseTokenizer.from_pretrained('cl-tohoku/bert-base-japanese-whole-word-masking')"
   ]
  },
  {
   "cell_type": "code",
   "execution_count": 21,
   "metadata": {
    "jupyter": {
     "outputs_hidden": true
    },
    "scrolled": true
   },
   "outputs": [
    {
     "name": "stdout",
     "output_type": "stream",
     "text": [
      "['[CLS]', '[[', 'ウェリントン', '16', '日', 'ロイ', '##ター', ']', '-', '世界', 'の', 'ラグビー', 'における', '「', 'アイ', '##ランダ', '##ー', '(', '太平洋', '島', '##しょ', '国', ')」', 'の', '存在', '感', 'は', '否定', 'でき', 'ない', '。', '何', '##しろ', '、', 'プロ', 'ラグビー', '選手', 'の', '5', '人', 'に', '1', '人', 'は', 'トンガ', '、', 'フィジー', '、', 'サモア', 'に', 'ルーツ', 'を', '持っ', 'て', 'いる', 'から', 'だ', '。', ',', 'だ', 'が', '、', '出身', '選手', 'の', '華やか', 'な', '活躍', 'と', 'は', '裏腹', 'に', '、', '太平洋', '島', '##しょ', '国', 'にとって', '日本', 'で', '開催', 'さ', 'れる', '今年', 'の', 'ワールドカップ', 'は', 'またも', '##や', '失望', 'に', '終わり', 'そう', 'に', '見える', '。', ',', '弱い', '経済', '基盤', '、', '資金', '不足', '、', '国内', 'で', 'の', '活躍', 'の', '場', 'の', '乏', '##し', 'さ', 'ー', '。', 'こうした', '慢性', '的', 'な', '問題', 'が', '島', '##しょ', '国', 'の', 'ラグビー', '強化', 'を', '阻', '##ん', 'で', 'おり', '、', '状況', 'は', 'むしろ', '以前', 'より', 'も', '悪化', 'し', 'て', 'いる', 'の', 'で', 'は', 'ない', 'か', 'という', '苛', '##立ち', 'すら', '高まっ', 'て', 'いる', '。', ',', '<', '##「', 'やる', 'べき', 'こと', 'は', 'まだ', 'ある', '」', '>', '##,', 'アイ', '##ランダ', '##ー', 'の', '出身', '選手', 'たち', 'は', '、', '誰', 'も', 'が', '[UNK]', 'パワー', 'と', 'スピード', 'で', '、', '数', '十', '年', 'に', 'も', 'わたっ', 'て', 'ラグビー', 'ファン', 'を', '魅了', 'し', '続け', 'て', 'き', 'た', '。', '世界', 'の', 'リーグ', 'の', '「', 'ティ', '##ア', '1', '(', 'トップ', 'グループ', ')」', 'に', '入る', '強豪', '国', 'の', '代表', 'チーム', 'で', '、', 'これら', 'の', '国々', 'に', 'ルーツ', 'を', '持つ', '選手', 'を', '抱え', 'て', 'い', 'ない', '国', 'は', '珍しい', '。', ',', 'それ', 'に', 'も', 'かかわら', 'ず', '、', 'アイ', '##ランダ', '##ー', '諸国', 'が', '今年', 'の', 'ワールドカップ', 'で', 'プール', '戦', 'を', '勝ち', '##抜い', 'て', '決勝', 'トーナメント', 'に', '進出', 'する', '可能', '性', 'は', '、', 'ラグビー', 'が', 'プロ', '化', 'さ', 'れる', '以前', 'に', '比べれ', 'ば', '低く', 'なり', 'そう', 'だ', '。', ',', 'その', '原', '[SEP]']\n",
      "tensor([[    2, 11146, 27036,   379,    32, 11756,    92,  4118,    61,   324,\n",
      "             5,  6252,   587,    36,  1350,  2484, 28451,    23,  2614,   637,\n",
      "          5426,    79,  1108,     5,   451,   832,     9,  3727,   203,    80,\n",
      "             8,  1037,  5755,     6,   285,  6252,   408,     5,    76,    53,\n",
      "             7,    17,    53,     9, 27618,     6, 27022,     6, 25490,     7,\n",
      "         13126,    11,  1330,    16,    33,    40,    75,     8,   228,    75,\n",
      "            14,     6,   750,   408,     5, 20272,    18,  1298,    13,     9,\n",
      "         26169,     7,     6,  2614,   637,  5426,    79,  2032,    91,    12,\n",
      "           682,    26,    62, 19241,     5,  3801,     9, 24836, 28528, 18634,\n",
      "             7,  4202,  1778,     7,  4127,     8,   228,  9519,   994,  5861,\n",
      "             6,  3278,  3800,     6,  1216,    12,     5,  1298,     5,   173,\n",
      "             5, 10642, 28454,    26,  3871,     8,  2971, 11473,    81,    18,\n",
      "           749,    14,   637,  5426,    79,     5,  6252,  2808,    11,  4269,\n",
      "         28575,    12,   206,     6,  1768,     9,  6819,  1359,   221,    28,\n",
      "          4394,    15,    16,    33,     5,    12,     9,    80,    29,   140,\n",
      "         18355,  6620,  6343,  8913,    16,    33,     8,   228,  2509, 28496,\n",
      "          9101,  1761,    45,     9,  2941,    31,    38,  2086, 28748,  1350,\n",
      "          2484, 28451,     5,   750,   408,   558,     9,     6,  3654,    28,\n",
      "            14,     1,  5068,    13,  6122,    12,     6,   276,   714,    19,\n",
      "             7,    28, 16049,    16,  6252,  2093,    11, 24812,    15,  1288,\n",
      "            16,   322,    10,     8,   324,     5,   746,     5,    36,  2281,\n",
      "         28483,    17,    23,  1993,  1091,  1108,     7,  1991, 10398,    79,\n",
      "             5,   542,   575,    12,     6,   875,     5, 12871,     7, 13126,\n",
      "            11,   830,   408,    11,  6753,    16,    21,    80,    79,     9,\n",
      "          7702,     8,   228,   218,     7,    28,  3756,   255,     6,  1350,\n",
      "          2484, 28451,  3878,    14, 19241,     5,  3801,    12,  7891,    95,\n",
      "            11,  1836, 13206,    16,  1732,  5214,     7,  1996,    34,   519,\n",
      "           245,     9,     6,  6252,    14,   285,   237,    26,    62,  1359,\n",
      "             7, 28293,   312,  6454,   297,  1778,    75,     8,   228,    59,\n",
      "           385,     3]])\n",
      "torch.Size([1, 292])\n"
     ]
    }
   ],
   "source": [
    "text = list(train_df['NEWS'])[0]\n",
    "wakati_ids = tokenizer.encode(text, return_tensors='pt')\n",
    "print(tokenizer.convert_ids_to_tokens(wakati_ids[0].tolist()))\n",
    "print(wakati_ids)\n",
    "print(wakati_ids.size())"
   ]
  },
  {
   "cell_type": "code",
   "execution_count": 22,
   "metadata": {},
   "outputs": [
    {
     "name": "stdout",
     "output_type": "stream",
     "text": [
      "375\n"
     ]
    },
    {
     "data": {
      "text/plain": [
       "<matplotlib.axes._subplots.AxesSubplot at 0x7f0425aa0650>"
      ]
     },
     "execution_count": 22,
     "metadata": {},
     "output_type": "execute_result"
    },
    {
     "data": {
      "image/png": "[encoded data removed]",
      "text/plain": [
       "<Figure size 432x288 with 1 Axes>"
      ]
     },
     "metadata": {
      "needs_background": "light"
     },
     "output_type": "display_data"
    }
   ],
   "source": [
    "# 日本語BERTで扱える文章の長さは512だけど、livedoorニュースのタイトルの長さは最大でもCLS, SEPトークン入れても76\n",
    "import seaborn as sns\n",
    "title_length = livedoor_data['NEWS'].map(tokenizer.encode).map(len)\n",
    "print(max(title_length))\n",
    "\n",
    "sns.distplot(title_length)"
   ]
  },
  {
   "cell_type": "code",
   "execution_count": 23,
   "metadata": {},
   "outputs": [],
   "source": [
    "def bert_tokenizer(text):\n",
    "    return tokenizer.encode(text, return_tensors='pt')[0]"
   ]
  },
  {
   "cell_type": "code",
   "execution_count": 24,
   "metadata": {},
   "outputs": [],
   "source": [
    "TEXT = torchtext.data.Field(sequential=True, tokenize=bert_tokenizer, use_vocab=False, lower=False,\n",
    "                            include_lengths=True, batch_first=True, pad_token=0)\n",
    "LABEL = torchtext.data.Field(sequential=False, use_vocab=False)"
   ]
  },
  {
   "cell_type": "code",
   "execution_count": 25,
   "metadata": {},
   "outputs": [],
   "source": [
    "train_data, test_data = torchtext.data.TabularDataset.splits(\n",
    "    path=drive_dir,train='train.tsv', test='test.tsv', format='tsv', fields=[('Text', TEXT), ('Label', LABEL)])"
   ]
  },
  {
   "cell_type": "code",
   "execution_count": 26,
   "metadata": {},
   "outputs": [],
   "source": [
    "BATCH_SIZE = 32\n",
    "train_iter, test_iter = torchtext.data.Iterator.splits(\n",
    "    (train_data, test_data), batch_sizes=(BATCH_SIZE, BATCH_SIZE), repeat=False, sort=False)"
   ]
  },
  {
   "cell_type": "code",
   "execution_count": 27,
   "metadata": {},
   "outputs": [
    {
     "data": {
      "application/vnd.jupyter.widget-view+json": {
       "model_id": "7d7d13c480cc491ebab6880b1d9e93e6",
       "version_major": 2,
       "version_minor": 0
      },
      "text/plain": [
       "HBox(children=(IntProgress(value=0, description='Downloading', max=479, style=ProgressStyle(description_width=…"
      ]
     },
     "metadata": {},
     "output_type": "display_data"
    },
    {
     "name": "stdout",
     "output_type": "stream",
     "text": [
      "\n"
     ]
    },
    {
     "data": {
      "application/vnd.jupyter.widget-view+json": {
       "model_id": "69a6ca4de7f44189a8a49b557573a0c3",
       "version_major": 2,
       "version_minor": 0
      },
      "text/plain": [
       "HBox(children=(IntProgress(value=0, description='Downloading', max=445021143, style=ProgressStyle(description_…"
      ]
     },
     "metadata": {},
     "output_type": "display_data"
    },
    {
     "name": "stdout",
     "output_type": "stream",
     "text": [
      "\n"
     ]
    }
   ],
   "source": [
    "model = BertModel.from_pretrained('cl-tohoku/bert-base-japanese-whole-word-masking')"
   ]
  },
  {
   "cell_type": "code",
   "execution_count": 28,
   "metadata": {},
   "outputs": [
    {
     "name": "stdout",
     "output_type": "stream",
     "text": [
      "torch.Size([32, 340])\n"
     ]
    }
   ],
   "source": [
    "# 上で作ったテストデータのイテレータから\n",
    "batch = next(iter(test_iter))\n",
    "print(batch.Text[0].size())"
   ]
  },
  {
   "cell_type": "code",
   "execution_count": 29,
   "metadata": {},
   "outputs": [
    {
     "name": "stdout",
     "output_type": "stream",
     "text": [
      "torch.Size([32, 340, 768])\n",
      "torch.Size([32, 768])\n",
      "12 torch.Size([32, 12, 340, 340])\n"
     ]
    }
   ],
   "source": [
    "# BERTの順伝搬時にoutput_attentions=TrueでAttention weightを取得できる\n",
    "last_hidden_state, pooler_output, attentions = model(batch.Text[0], output_attentions=True)\n",
    "print(last_hidden_state.size())\n",
    "print(pooler_output.size())\n",
    "print(len(attentions), attentions[-1].size())"
   ]
  },
  {
   "cell_type": "code",
   "execution_count": 30,
   "metadata": {},
   "outputs": [],
   "source": [
    "from torch import nn\n",
    "import torch.nn.functional as F"
   ]
  },
  {
   "cell_type": "code",
   "execution_count": 31,
   "metadata": {},
   "outputs": [],
   "source": [
    "class BertClassifier(nn.Module):\n",
    "    def __init__(self):\n",
    "        super(BertClassifier, self).__init__()\n",
    "        self.bert = BertModel.from_pretrained('cl-tohoku/bert-base-japanese-whole-word-masking')\n",
    "        # BERTの隠れ層の次元数は768, livedoorニュースのカテゴリ数が9\n",
    "        self.linear = nn.Linear(768, 7)\n",
    "        # 重み初期化処理\n",
    "        nn.init.normal_(self.linear.weight, std=0.02)\n",
    "        nn.init.normal_(self.linear.bias, 0)\n",
    "    \n",
    "    def forward(self, input_ids):\n",
    "        # last_hidden_stateとattentionsを受け取る\n",
    "        vec, _, attentions = self.bert(input_ids, output_attentions=True)\n",
    "        # 先頭トークンclsのベクトルだけ取得\n",
    "        vec = vec[:,0,:]\n",
    "        vec = vec.view(-1, 768)\n",
    "        # 全結合層でクラス分類用に次元を変換\n",
    "        out = self.linear(vec)\n",
    "        return F.log_softmax(out), attentions\n",
    "\n",
    "classifier = BertClassifier()"
   ]
  },
  {
   "cell_type": "code",
   "execution_count": 32,
   "metadata": {},
   "outputs": [],
   "source": [
    "# まずは全部OFF\n",
    "for param in classifier.parameters():\n",
    "    param.requires_grad = False\n",
    "\n",
    "# BERTの最後の層だけ更新ON\n",
    "for param in classifier.bert.encoder.layer[-1].parameters():\n",
    "    param.requires_grad = True\n",
    "\n",
    "# クラス分類のところもON\n",
    "for param in classifier.linear.parameters():\n",
    "    param.requires_grad = True"
   ]
  },
  {
   "cell_type": "code",
   "execution_count": 33,
   "metadata": {},
   "outputs": [],
   "source": [
    "import torch.optim as optim\n",
    "\n",
    "# 事前学習済の箇所は学習率小さめ、最後の全結合層は大きめにする。\n",
    "optimizer = optim.Adam([\n",
    "    {'params': classifier.bert.encoder.layer[-1].parameters(), 'lr': 5e-5},\n",
    "    {'params': classifier.linear.parameters(), 'lr': 1e-4}\n",
    "])"
   ]
  },
  {
   "cell_type": "code",
   "execution_count": 34,
   "metadata": {},
   "outputs": [],
   "source": [
    "# 損失関数の設定\n",
    "loss_function = nn.NLLLoss()"
   ]
  },
  {
   "cell_type": "code",
   "execution_count": 36,
   "metadata": {},
   "outputs": [
    {
     "name": "stderr",
     "output_type": "stream",
     "text": [
      "/home/guest/anaconda3/lib/python3.7/site-packages/ipykernel_launcher.py:19: UserWarning: Implicit dimension choice for log_softmax has been deprecated. Change the call to include dim=X as an argument.\n"
     ]
    },
    {
     "name": "stdout",
     "output_type": "stream",
     "text": [
      "epoch 0 \t loss 699.704464673996\n",
      "epoch 1 \t loss 517.2142637819052\n",
      "epoch 2 \t loss 466.3073783814907\n",
      "epoch 3 \t loss 422.25271241366863\n",
      "epoch 4 \t loss 383.69562666118145\n"
     ]
    }
   ],
   "source": [
    "for epoch in range(5):\n",
    "    all_loss = 0\n",
    "    for idx, batch in enumerate(train_iter):\n",
    "        batch_loss = 0\n",
    "        classifier.zero_grad()\n",
    "        input_ids = batch.Text[0]\n",
    "        label_ids = batch.Label\n",
    "        out, _ = classifier(input_ids)\n",
    "        batch_loss = loss_function(out, label_ids)\n",
    "        batch_loss.backward()\n",
    "        optimizer.step()\n",
    "        all_loss += batch_loss.item()\n",
    "    print(\"epoch\", epoch, \"\\t\" , \"loss\", all_loss)"
   ]
  },
  {
   "cell_type": "code",
   "execution_count": 37,
   "metadata": {},
   "outputs": [
    {
     "name": "stderr",
     "output_type": "stream",
     "text": [
      "/home/guest/anaconda3/lib/python3.7/site-packages/ipykernel_launcher.py:19: UserWarning: Implicit dimension choice for log_softmax has been deprecated. Change the call to include dim=X as an argument.\n"
     ]
    },
    {
     "name": "stdout",
     "output_type": "stream",
     "text": [
      "                   precision    recall  f1-score   support\n",
      "\n",
      "entertainmentNews       0.93      0.94      0.94      1260\n",
      "       sportsNews       0.97      0.96      0.96      1221\n",
      "   technologyNews       0.85      0.82      0.84      1275\n",
      "   domesticJPNews       0.82      0.78      0.80      1331\n",
      "  oddlyEnoughNews       0.89      0.89      0.89      1112\n",
      "         business       0.35      0.49      0.41       978\n",
      "        worldNews       0.65      0.54      0.59      1508\n",
      "\n",
      "         accuracy                           0.77      8685\n",
      "        macro avg       0.78      0.77      0.77      8685\n",
      "     weighted avg       0.79      0.77      0.78      8685\n",
      "\n"
     ]
    }
   ],
   "source": [
    "from sklearn.metrics import classification_report\n",
    "\n",
    "answer = []\n",
    "prediction = []\n",
    "with torch.no_grad():\n",
    "    for batch in test_iter:\n",
    "\n",
    "        text_tensor = batch.Text[0]\n",
    "        label_tensor = batch.Label\n",
    "\n",
    "        score, _ = classifier(text_tensor)\n",
    "        _, pred = torch.max(score, 1)\n",
    "\n",
    "        prediction += list(pred.numpy())\n",
    "        answer += list(label_tensor.numpy())\n",
    "print(classification_report(prediction, answer, target_names=categories))"
   ]
  },
  {
   "cell_type": "code",
   "execution_count": 43,
   "metadata": {},
   "outputs": [
    {
     "data": {
      "text/plain": [
       "tensor([3, 0, 1, 6])"
      ]
     },
     "execution_count": 43,
     "metadata": {},
     "output_type": "execute_result"
    }
   ],
   "source": [
    "batch.Label"
   ]
  },
  {
   "cell_type": "markdown",
   "metadata": {},
   "source": [
    "# labeling"
   ]
  },
  {
   "cell_type": "code",
   "execution_count": 39,
   "metadata": {},
   "outputs": [],
   "source": [
    "no_label = pd.read_csv('Reuter_data/NEWS-split2010-2019.csv')"
   ]
  },
  {
   "cell_type": "code",
   "execution_count": 40,
   "metadata": {},
   "outputs": [
    {
     "name": "stderr",
     "output_type": "stream",
     "text": [
      "/home/guest/anaconda3/lib/python3.7/site-packages/ipykernel_launcher.py:8: SettingWithCopyWarning: \n",
      "A value is trying to be set on a copy of a slice from a DataFrame\n",
      "\n",
      "See the caveats in the documentation: http://pandas.pydata.org/pandas-docs/stable/user_guide/indexing.html#returning-a-view-versus-a-copy\n",
      "  \n"
     ]
    }
   ],
   "source": [
    "for i in range(0,len(no_label)):\n",
    "    text = no_label['NEWS'][i]\n",
    "    try:\n",
    "        if len(text) > 500:\n",
    "            text = text[0:500]\n",
    "    except TypeError as t:\n",
    "        text = 'aaaaaaaaaaaaa'\n",
    "    no_label['NEWS'][i] = text"
   ]
  },
  {
   "cell_type": "code",
   "execution_count": 79,
   "metadata": {},
   "outputs": [],
   "source": [
    "no_label = no_label.drop('date', axis=1)\n",
    "no_label = no_label.drop('Unnamed: 0', axis=1)\n",
    "no_label['label'] = 0 "
   ]
  },
  {
   "cell_type": "code",
   "execution_count": 80,
   "metadata": {},
   "outputs": [],
   "source": [
    "no_label.to_csv(drive_dir+'labeling.tsv', sep='\\t', index=False, header=None)"
   ]
  },
  {
   "cell_type": "code",
   "execution_count": 81,
   "metadata": {},
   "outputs": [],
   "source": [
    "TEXT = torchtext.data.Field(sequential=True, tokenize=bert_tokenizer, use_vocab=False, lower=False,\n",
    "                            include_lengths=True, batch_first=True, pad_token=0)"
   ]
  },
  {
   "cell_type": "code",
   "execution_count": 82,
   "metadata": {},
   "outputs": [],
   "source": [
    "news_data = torchtext.data.TabularDataset(path=drive_dir+'labeling.tsv', format='tsv', fields=[('Text', TEXT), ('Label', LABEL)])"
   ]
  },
  {
   "cell_type": "code",
   "execution_count": 83,
   "metadata": {},
   "outputs": [],
   "source": [
    "BATCH_SIZE = 32\n",
    "news_iter = torchtext.data.Iterator(news_data, batch_size=BATCH_SIZE, repeat=False, sort=False)"
   ]
  },
  {
   "cell_type": "code",
   "execution_count": 85,
   "metadata": {},
   "outputs": [
    {
     "name": "stdout",
     "output_type": "stream",
     "text": [
      "torch.Size([13, 318, 768])\n",
      "torch.Size([13, 768])\n",
      "12 torch.Size([13, 12, 318, 318])\n"
     ]
    }
   ],
   "source": [
    "# BERTの順伝搬時にoutput_attentions=TrueでAttention weightを取得できる\n",
    "last_hidden_state, pooler_output, attentions = model(batch.Text[0], output_attentions=True)\n",
    "print(last_hidden_state.size())\n",
    "print(pooler_output.size())\n",
    "print(len(attentions), attentions[-1].size())"
   ]
  },
  {
   "cell_type": "code",
   "execution_count": 86,
   "metadata": {},
   "outputs": [
    {
     "name": "stderr",
     "output_type": "stream",
     "text": [
      "/home/guest/anaconda3/lib/python3.7/site-packages/ipykernel_launcher.py:19: UserWarning: Implicit dimension choice for log_softmax has been deprecated. Change the call to include dim=X as an argument.\n"
     ]
    }
   ],
   "source": [
    "prediction = []\n",
    "with torch.no_grad():\n",
    "    for batch in news_iter:\n",
    "\n",
    "        text_tensor = batch.Text[0]\n",
    "        label_tensor = batch.Label\n",
    "\n",
    "        score, _ = classifier(text_tensor)\n",
    "        _, pred = torch.max(score, 1)\n",
    "\n",
    "        prediction += list(pred.numpy())"
   ]
  },
  {
   "cell_type": "code",
   "execution_count": null,
   "metadata": {},
   "outputs": [],
   "source": [
    "no_label['label'] = prediction"
   ]
  },
  {
   "cell_type": "code",
   "execution_count": 109,
   "metadata": {},
   "outputs": [],
   "source": [
    "no_label.to_csv('on_label.csv')"
   ]
  },
  {
   "cell_type": "code",
   "execution_count": 90,
   "metadata": {
    "scrolled": true
   },
   "outputs": [
    {
     "data": {
      "text/plain": [
       "372256"
      ]
     },
     "execution_count": 90,
     "metadata": {},
     "output_type": "execute_result"
    }
   ],
   "source": [
    "len(prediction)"
   ]
  },
  {
   "cell_type": "code",
   "execution_count": 91,
   "metadata": {},
   "outputs": [
    {
     "data": {
      "text/plain": [
       "372256"
      ]
     },
     "execution_count": 91,
     "metadata": {},
     "output_type": "execute_result"
    }
   ],
   "source": [
    "len(news_data)"
   ]
  },
  {
   "cell_type": "code",
   "execution_count": null,
   "metadata": {},
   "outputs": [],
   "source": []
  }
 ],
 "metadata": {
  "kernelspec": {
   "display_name": "Python 3",
   "language": "python",
   "name": "python3"
  },
  "language_info": {
   "codemirror_mode": {
    "name": "ipython",
    "version": 3
   },
   "file_extension": ".py",
   "mimetype": "text/x-python",
   "name": "python",
   "nbconvert_exporter": "python",
   "pygments_lexer": "ipython3",
   "version": "3.7.4"
  }
 },
 "nbformat": 4,
 "nbformat_minor": 4
}
