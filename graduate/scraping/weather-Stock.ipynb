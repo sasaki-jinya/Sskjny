{
 "cells": [
  {
   "cell_type": "code",
   "execution_count": 1,
   "metadata": {},
   "outputs": [],
   "source": [
    "import pandas as pd\n",
    "import sys\n",
    "import tkinter as tk"
   ]
  },
  {
   "cell_type": "code",
   "execution_count": 2,
   "metadata": {},
   "outputs": [
    {
     "name": "stdout",
     "output_type": "stream",
     "text": [
      "C:\\home\\program\n"
     ]
    }
   ],
   "source": [
    "import os\n",
    "os.chdir('../')\n",
    "path = os.getcwd()\n",
    "print(path)"
   ]
  },
  {
   "cell_type": "markdown",
   "metadata": {},
   "source": [
    "気象庁　https://www.data.jma.go.jp/obd/stats/etrn/index.php?prec_no=44&block_no=47662&year=2020&month=11&day=&view=a1<br>"
   ]
  },
  {
   "cell_type": "code",
   "execution_count": 7,
   "metadata": {},
   "outputs": [],
   "source": [
    "def Weather():\n",
    "    Weather = pd.DataFrame()\n",
    "    \n",
    "    year_start = int(Entry1.get())\n",
    "    year_end = int(Entry2.get())\n",
    "    month_start = int(Entry3.get())\n",
    "    \n",
    "    for year in range(year_start, year_end):\n",
    "        try:\n",
    "            for month in range(month_start, 13): #月\n",
    "                weather = pd.read_html(\"https://www.data.jma.go.jp/obd/stats/etrn/view/daily_s1.php?prec_no=44&block_no=47662&year=\"+str(year)+\"&month=\"+str(month)+\"&day=&view=a1\")\n",
    "                Weather = Weather.append(weather[0][[('降水量(mm)', '降水量(mm)', '合計', '合計')]])\n",
    "        except ValueError as e:\n",
    "            print(e)\n",
    "    TimeIndex = pd.date_range(\"\"+str(year_start)+\"-\"+str(month_start)+\"-1\", periods=len(Weather), freq=\"D\")\n",
    "    Weather.index = pd.to_datetime(TimeIndex)\n",
    "    Weather = Weather.dropna(subset=[('降水量(mm)', '降水量(mm)', '合計', '合計')])\n",
    "    \n",
    "    Weather.to_csv(\"Weather/Weather\"+str(year_start)+\"---\"+str(year_end)+\"-\"+str(month_start)+\".csv\")\n",
    "    \n",
    "    print('--write CSV complet--')"
   ]
  },
  {
   "cell_type": "code",
   "execution_count": 8,
   "metadata": {},
   "outputs": [
    {
     "name": "stdout",
     "output_type": "stream",
     "text": [
      "No tables found matching pattern '.+'\n",
      "--write CSV complet--\n"
     ]
    }
   ],
   "source": [
    "root = tk.Tk()\n",
    "\n",
    "# ウインドウのタイトルを定義する\n",
    "root.title(u'期間の指定')\n",
    "\n",
    "# ここでウインドウサイズを定義する\n",
    "root.geometry('400x300')\n",
    "\n",
    "# ラベルを使って文字を画面上に出す\n",
    "Static1 = tk.Label(text='スタートする年:')\n",
    "Static1.place(x=50, y=50)\n",
    "Entry1 = tk.Entry(width=10)\n",
    "Entry1.place(x=130, y=50)\n",
    "Example1 = tk.Label(text='ex)2019,2000')\n",
    "Example1.place(x=230, y=50)\n",
    "\n",
    "Static2 = tk.Label(text='終わる年:')\n",
    "Static2.place(x=50, y=130)\n",
    "Entry2 = tk.Entry(width=10)\n",
    "Entry2.place(x=130, y=130)\n",
    "Example2 = tk.Label(text='ex)2021,2002')\n",
    "Example2.place(x=230, y=130)\n",
    "\n",
    "Static3 = tk.Label(text='スタートする月:')\n",
    "Static3.place(x=50, y=210)\n",
    "Entry3 = tk.Entry(width=10)\n",
    "Entry3.place(x=130, y=210)\n",
    "Example3 = tk.Label(text='ex)1,12')\n",
    "Example3.place(x=230, y=210)\n",
    "\n",
    "\n",
    "Button1 = tk.Button(text=u'作成', command=Weather)\n",
    "Button1.place(x=100, y=250)\n",
    "\n",
    "def close_window():\n",
    "    root.destroy()\n",
    "\n",
    "button = tk.Button(text = \"Click and Quit\", command = close_window)\n",
    "button.place(x=200, y=250)\n",
    "\n",
    "root.mainloop()"
   ]
  },
  {
   "cell_type": "code",
   "execution_count": 5,
   "metadata": {},
   "outputs": [
    {
     "name": "stdout",
     "output_type": "stream",
     "text": [
      "No tables found matching pattern '.+'\n"
     ]
    }
   ],
   "source": [
    "Weather = pd.DataFrame()\n",
    "\n",
    "year_start = 2019\n",
    "year_end = 2021\n",
    "month_start = 1\n",
    "\n",
    "for year in range(year_start, year_end):\n",
    "    try:\n",
    "        for month in range(month_start, 13): #月\n",
    "            weather = pd.read_html(\"https://www.data.jma.go.jp/obd/stats/etrn/view/daily_s1.php?prec_no=44&block_no=47662&year=\"+str(year)+\"&month=\"+str(month)+\"&day=&view=a1\")\n",
    "            Weather = Weather.append(weather[0][[('降水量(mm)', '降水量(mm)', '合計', '合計')]])\n",
    "    except ValueError as e:\n",
    "        print(e)\n",
    "TimeIndex = pd.date_range(\"\"+str(year_start)+\"-\"+str(month_start)+\"-1\", periods=len(Weather), freq=\"D\")\n",
    "Weather.index = pd.to_datetime(TimeIndex)\n",
    "Weather = Weather.dropna(subset=[('降水量(mm)', '降水量(mm)', '合計', '合計')])"
   ]
  },
  {
   "cell_type": "code",
   "execution_count": null,
   "metadata": {},
   "outputs": [],
   "source": [
    "Weather.to_csv(\"Weather/Weather\"+str(year_start)+\"---\"+str(year_end)+\"-\"+str(month_start)+\".csv\")"
   ]
  },
  {
   "cell_type": "code",
   "execution_count": null,
   "metadata": {},
   "outputs": [],
   "source": []
  }
 ],
 "metadata": {
  "kernelspec": {
   "display_name": "Python 3",
   "language": "python",
   "name": "python3"
  },
  "language_info": {
   "codemirror_mode": {
    "name": "ipython",
    "version": 3
   },
   "file_extension": ".py",
   "mimetype": "text/x-python",
   "name": "python",
   "nbconvert_exporter": "python",
   "pygments_lexer": "ipython3",
   "version": "3.7.9"
  }
 },
 "nbformat": 4,
 "nbformat_minor": 4
}
