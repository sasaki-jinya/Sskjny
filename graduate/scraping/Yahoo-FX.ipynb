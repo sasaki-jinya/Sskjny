{
 "cells": [
  {
   "cell_type": "code",
   "execution_count": 1,
   "metadata": {},
   "outputs": [],
   "source": [
    "import pandas as pd\n",
    "import sys\n",
    "import tkinter as tk"
   ]
  },
  {
   "cell_type": "code",
   "execution_count": null,
   "metadata": {},
   "outputs": [],
   "source": [
    "import os\n",
    "os.chdir('../')\n",
    "path = os.getcwd()\n",
    "print(path)"
   ]
  },
  {
   "cell_type": "markdown",
   "metadata": {},
   "source": [
    "ドル/円　 https://info.finance.yahoo.co.jp/history/?code=USDJPY%<br>"
   ]
  },
  {
   "cell_type": "code",
   "execution_count": 25,
   "metadata": {},
   "outputs": [],
   "source": [
    "def FX():\n",
    "    Yahoo = pd.DataFrame()\n",
    "    \n",
    "    year_start = int(Entry1.get())\n",
    "    year_end = int(Entry4.get())\n",
    "    month_start = int(Entry2.get())\n",
    "    month_end = int(Entry5.get())\n",
    "    day_start = int(Entry3.get())\n",
    "    day_end = int(Entry6.get())\n",
    "    name1 = Entry7.get()\n",
    "    name2 = Entry8.get()\n",
    "    if  name1 in {'円', 'ドル'} and name2 in {'円', 'ドル'}:\n",
    "        code = 'USDJPY'\n",
    "    elif name1 == 'ドル' and name2 == '円':\n",
    "        code = 8306\n",
    "    elif name1 == 'ドル' and name2 == '円':\n",
    "        code = 7321\n",
    "    elif name1 == 'ドル' and name2 == '円':\n",
    "        code = 8527\n",
    "    elif name1 == 'ドル' and name2 == '円':\n",
    "        code = 8344\n",
    "    elif name1 == 'ドル' and name2 == '円':\n",
    "        code = 8354\n",
    "    elif name1 == 'ドル' and name2 == '円':\n",
    "        code = 8343\n",
    "    elif name1 in {'埼玉', 'りそな'} and name2 in {'埼玉', 'りそな'}:\n",
    "        code = 8308\n",
    "    elif name1 == 'ドル' and name2 == '円':\n",
    "        code = 8541\n",
    "    elif name1 == 'ドル' and name2 == '円':\n",
    "        code = 8383\n",
    "    elif name1 == '*' and name2 == '*':\n",
    "        print(\"不明\")\n",
    "        code = 9999\n",
    "    \n",
    "    try:\n",
    "        for i in range(0, 999): #page数\n",
    "            yahoo = pd.read_html(\"https://info.finance.yahoo.co.jp/history/?code=\"+str(code)+\"%3DX&sy=\"+str(year_start)+\"&sm=\"+str(month_start)+\"&sd=\"+str(day_start)+\"&ey=\"+str(year_end)+\"&em=\"+str(month_end)+\"&ed=\"+str(day_end)+\"&tm=d&p=\"+str(i)+\"\")\n",
    "                                  #https://info.finance.yahoo.co.jp/history/?code=             %3DX&sy=2014               &sm=01                  &sd=01                &ey=2020             &em=11                &ed=01              &tm=d&p=0\n",
    "            Yahoo = Yahoo.append(yahoo[1][['日付', '終値']])\n",
    "    except KeyError as e:\n",
    "        print(e) \n",
    "    Yahoo['日付'] = pd.to_datetime(Yahoo['日付'], format='%Y年%m月%d日')\n",
    "    Yahoo = Yahoo.set_index('日付')\n",
    "    Yahoo = Yahoo.sort_index()\n",
    "    \n",
    "    Yahoo.to_csv(\"FX/\"+str(name1)+str(name2)+\"(\"+str(year_start)+\"-\"+str(month_start)+\"_\"+str(year_end)+\"-\"+str(month_end)+\").csv\")\n",
    "    print('--write CSV complet--')"
   ]
  },
  {
   "cell_type": "code",
   "execution_count": 26,
   "metadata": {},
   "outputs": [
    {
     "name": "stdout",
     "output_type": "stream",
     "text": [
      "\"None of [Index(['日付', '終値'], dtype='object')] are in the [columns]\"\n",
      "--write CSV complet--\n"
     ]
    }
   ],
   "source": [
    "root = tk.Tk()\n",
    "\n",
    "# ウインドウのタイトルを定義する\n",
    "root.title(u'ページの指定')\n",
    "\n",
    "# ここでウインドウサイズを定義する\n",
    "root.geometry('400x300')\n",
    "\n",
    "# ラベルを使って文字を画面上に出す\n",
    "Static1 = tk.Label(text='start:')\n",
    "Static1.place(x=50, y=50)\n",
    "Entry1 = tk.Entry(width=7)\n",
    "Entry1.place(x=100, y=50)\n",
    "Entry2 = tk.Entry(width=3)\n",
    "Entry2.place(x=160, y=50)\n",
    "Entry3 = tk.Entry(width=3)\n",
    "Entry3.place(x=200, y=50)\n",
    "Example1 = tk.Label(text='ex)2019 01 01')\n",
    "Example1.place(x=230, y=50)\n",
    "\n",
    "Static2 = tk.Label(text='end:')\n",
    "Static2.place(x=50, y=130)\n",
    "Entry4 = tk.Entry(width=7)\n",
    "Entry4.place(x=100, y=130)\n",
    "Entry5 = tk.Entry(width=3)\n",
    "Entry5.place(x=160, y=130)\n",
    "Entry6 = tk.Entry(width=3)\n",
    "Entry6.place(x=200, y=130)\n",
    "Example2 = tk.Label(text='ex)2020 11 30')\n",
    "Example2.place(x=230, y=130)\n",
    "\n",
    "Static3 = tk.Label(text='貨幣単価:')\n",
    "Static3.place(x=45, y=210)\n",
    "Entry7 = tk.Entry(width=5)\n",
    "Entry7.place(x=130, y=210)\n",
    "Entry8 = tk.Entry(width=5)\n",
    "Entry8.place(x=190, y=210)\n",
    "Example3 = tk.Label(text='ex)ドル、円')\n",
    "Example3.place(x=230, y=210)\n",
    "\n",
    "\n",
    "Button1 = tk.Button(text=u'作成', command=FX)\n",
    "Button1.place(x=100, y=250)\n",
    "\n",
    "def close_window():\n",
    "    root.destroy()\n",
    "\n",
    "button = tk.Button(text = \"Click and Quit\", command = close_window)\n",
    "button.place(x=200, y=250)\n",
    "\n",
    "root.mainloop()"
   ]
  },
  {
   "cell_type": "code",
   "execution_count": 28,
   "metadata": {},
   "outputs": [
    {
     "ename": "KeyError",
     "evalue": "\"None of [Index(['日付', '終値'], dtype='object')] are in the [columns]\"",
     "output_type": "error",
     "traceback": [
      "\u001b[1;31m---------------------------------------------------------------------------\u001b[0m",
      "\u001b[1;31mKeyError\u001b[0m                                  Traceback (most recent call last)",
      "\u001b[1;32m<ipython-input-28-0362c9b17681>\u001b[0m in \u001b[0;36m<module>\u001b[1;34m\u001b[0m\n\u001b[0;32m     10\u001b[0m \u001b[1;33m\u001b[0m\u001b[0m\n\u001b[0;32m     11\u001b[0m \u001b[0myahoo\u001b[0m \u001b[1;33m=\u001b[0m \u001b[0mpd\u001b[0m\u001b[1;33m.\u001b[0m\u001b[0mread_html\u001b[0m\u001b[1;33m(\u001b[0m\u001b[1;34m\"https://info.finance.yahoo.co.jp/history/?code=\"\u001b[0m\u001b[1;33m+\u001b[0m\u001b[0mstr\u001b[0m\u001b[1;33m(\u001b[0m\u001b[0mcode\u001b[0m\u001b[1;33m)\u001b[0m\u001b[1;33m+\u001b[0m\u001b[1;34m\".T&sy=\"\u001b[0m\u001b[1;33m+\u001b[0m\u001b[0mstr\u001b[0m\u001b[1;33m(\u001b[0m\u001b[0myear_start\u001b[0m\u001b[1;33m)\u001b[0m\u001b[1;33m+\u001b[0m\u001b[1;34m\"&sm=\"\u001b[0m\u001b[1;33m+\u001b[0m\u001b[0mstr\u001b[0m\u001b[1;33m(\u001b[0m\u001b[0mmonth_start\u001b[0m\u001b[1;33m)\u001b[0m\u001b[1;33m+\u001b[0m\u001b[1;34m\"&sd=\"\u001b[0m\u001b[1;33m+\u001b[0m\u001b[0mstr\u001b[0m\u001b[1;33m(\u001b[0m\u001b[0mday_start\u001b[0m\u001b[1;33m)\u001b[0m\u001b[1;33m+\u001b[0m\u001b[1;34m\"&ey=\"\u001b[0m\u001b[1;33m+\u001b[0m\u001b[0mstr\u001b[0m\u001b[1;33m(\u001b[0m\u001b[0myear_end\u001b[0m\u001b[1;33m)\u001b[0m\u001b[1;33m+\u001b[0m\u001b[1;34m\"&em=\"\u001b[0m\u001b[1;33m+\u001b[0m\u001b[0mstr\u001b[0m\u001b[1;33m(\u001b[0m\u001b[0mmonth_end\u001b[0m\u001b[1;33m)\u001b[0m\u001b[1;33m+\u001b[0m\u001b[1;34m\"&ed=\"\u001b[0m\u001b[1;33m+\u001b[0m\u001b[0mstr\u001b[0m\u001b[1;33m(\u001b[0m\u001b[0mday_end\u001b[0m\u001b[1;33m)\u001b[0m\u001b[1;33m+\u001b[0m\u001b[1;34m\"&tm=d&p=\"\u001b[0m\u001b[1;33m+\u001b[0m\u001b[0mstr\u001b[0m\u001b[1;33m(\u001b[0m\u001b[0mi\u001b[0m\u001b[1;33m)\u001b[0m\u001b[1;33m+\u001b[0m\u001b[1;34m\"\"\u001b[0m\u001b[1;33m)\u001b[0m\u001b[1;33m\u001b[0m\u001b[1;33m\u001b[0m\u001b[0m\n\u001b[1;32m---> 12\u001b[1;33m \u001b[0mYahoo\u001b[0m \u001b[1;33m=\u001b[0m \u001b[0mYahoo\u001b[0m\u001b[1;33m.\u001b[0m\u001b[0mappend\u001b[0m\u001b[1;33m(\u001b[0m\u001b[0myahoo\u001b[0m\u001b[1;33m[\u001b[0m\u001b[1;36m1\u001b[0m\u001b[1;33m]\u001b[0m\u001b[1;33m[\u001b[0m\u001b[1;33m[\u001b[0m\u001b[1;34m'日付'\u001b[0m\u001b[1;33m,\u001b[0m \u001b[1;34m'終値'\u001b[0m\u001b[1;33m]\u001b[0m\u001b[1;33m]\u001b[0m\u001b[1;33m)\u001b[0m\u001b[1;33m\u001b[0m\u001b[1;33m\u001b[0m\u001b[0m\n\u001b[0m\u001b[0;32m     13\u001b[0m \u001b[0mYahoo\u001b[0m\u001b[1;33m\u001b[0m\u001b[1;33m\u001b[0m\u001b[0m\n",
      "\u001b[1;32m~\\anaconda\\envs\\TF\\lib\\site-packages\\pandas\\core\\frame.py\u001b[0m in \u001b[0;36m__getitem__\u001b[1;34m(self, key)\u001b[0m\n\u001b[0;32m   2804\u001b[0m             \u001b[1;32mif\u001b[0m \u001b[0mis_iterator\u001b[0m\u001b[1;33m(\u001b[0m\u001b[0mkey\u001b[0m\u001b[1;33m)\u001b[0m\u001b[1;33m:\u001b[0m\u001b[1;33m\u001b[0m\u001b[1;33m\u001b[0m\u001b[0m\n\u001b[0;32m   2805\u001b[0m                 \u001b[0mkey\u001b[0m \u001b[1;33m=\u001b[0m \u001b[0mlist\u001b[0m\u001b[1;33m(\u001b[0m\u001b[0mkey\u001b[0m\u001b[1;33m)\u001b[0m\u001b[1;33m\u001b[0m\u001b[1;33m\u001b[0m\u001b[0m\n\u001b[1;32m-> 2806\u001b[1;33m             \u001b[0mindexer\u001b[0m \u001b[1;33m=\u001b[0m \u001b[0mself\u001b[0m\u001b[1;33m.\u001b[0m\u001b[0mloc\u001b[0m\u001b[1;33m.\u001b[0m\u001b[0m_get_listlike_indexer\u001b[0m\u001b[1;33m(\u001b[0m\u001b[0mkey\u001b[0m\u001b[1;33m,\u001b[0m \u001b[0maxis\u001b[0m\u001b[1;33m=\u001b[0m\u001b[1;36m1\u001b[0m\u001b[1;33m,\u001b[0m \u001b[0mraise_missing\u001b[0m\u001b[1;33m=\u001b[0m\u001b[1;32mTrue\u001b[0m\u001b[1;33m)\u001b[0m\u001b[1;33m[\u001b[0m\u001b[1;36m1\u001b[0m\u001b[1;33m]\u001b[0m\u001b[1;33m\u001b[0m\u001b[1;33m\u001b[0m\u001b[0m\n\u001b[0m\u001b[0;32m   2807\u001b[0m \u001b[1;33m\u001b[0m\u001b[0m\n\u001b[0;32m   2808\u001b[0m         \u001b[1;31m# take() does not accept boolean indexers\u001b[0m\u001b[1;33m\u001b[0m\u001b[1;33m\u001b[0m\u001b[1;33m\u001b[0m\u001b[0m\n",
      "\u001b[1;32m~\\anaconda\\envs\\TF\\lib\\site-packages\\pandas\\core\\indexing.py\u001b[0m in \u001b[0;36m_get_listlike_indexer\u001b[1;34m(self, key, axis, raise_missing)\u001b[0m\n\u001b[0;32m   1551\u001b[0m \u001b[1;33m\u001b[0m\u001b[0m\n\u001b[0;32m   1552\u001b[0m         self._validate_read_indexer(\n\u001b[1;32m-> 1553\u001b[1;33m             \u001b[0mkeyarr\u001b[0m\u001b[1;33m,\u001b[0m \u001b[0mindexer\u001b[0m\u001b[1;33m,\u001b[0m \u001b[0mo\u001b[0m\u001b[1;33m.\u001b[0m\u001b[0m_get_axis_number\u001b[0m\u001b[1;33m(\u001b[0m\u001b[0maxis\u001b[0m\u001b[1;33m)\u001b[0m\u001b[1;33m,\u001b[0m \u001b[0mraise_missing\u001b[0m\u001b[1;33m=\u001b[0m\u001b[0mraise_missing\u001b[0m\u001b[1;33m\u001b[0m\u001b[1;33m\u001b[0m\u001b[0m\n\u001b[0m\u001b[0;32m   1554\u001b[0m         )\n\u001b[0;32m   1555\u001b[0m         \u001b[1;32mreturn\u001b[0m \u001b[0mkeyarr\u001b[0m\u001b[1;33m,\u001b[0m \u001b[0mindexer\u001b[0m\u001b[1;33m\u001b[0m\u001b[1;33m\u001b[0m\u001b[0m\n",
      "\u001b[1;32m~\\anaconda\\envs\\TF\\lib\\site-packages\\pandas\\core\\indexing.py\u001b[0m in \u001b[0;36m_validate_read_indexer\u001b[1;34m(self, key, indexer, axis, raise_missing)\u001b[0m\n\u001b[0;32m   1638\u001b[0m             \u001b[1;32mif\u001b[0m \u001b[0mmissing\u001b[0m \u001b[1;33m==\u001b[0m \u001b[0mlen\u001b[0m\u001b[1;33m(\u001b[0m\u001b[0mindexer\u001b[0m\u001b[1;33m)\u001b[0m\u001b[1;33m:\u001b[0m\u001b[1;33m\u001b[0m\u001b[1;33m\u001b[0m\u001b[0m\n\u001b[0;32m   1639\u001b[0m                 \u001b[0maxis_name\u001b[0m \u001b[1;33m=\u001b[0m \u001b[0mself\u001b[0m\u001b[1;33m.\u001b[0m\u001b[0mobj\u001b[0m\u001b[1;33m.\u001b[0m\u001b[0m_get_axis_name\u001b[0m\u001b[1;33m(\u001b[0m\u001b[0maxis\u001b[0m\u001b[1;33m)\u001b[0m\u001b[1;33m\u001b[0m\u001b[1;33m\u001b[0m\u001b[0m\n\u001b[1;32m-> 1640\u001b[1;33m                 \u001b[1;32mraise\u001b[0m \u001b[0mKeyError\u001b[0m\u001b[1;33m(\u001b[0m\u001b[1;34mf\"None of [{key}] are in the [{axis_name}]\"\u001b[0m\u001b[1;33m)\u001b[0m\u001b[1;33m\u001b[0m\u001b[1;33m\u001b[0m\u001b[0m\n\u001b[0m\u001b[0;32m   1641\u001b[0m \u001b[1;33m\u001b[0m\u001b[0m\n\u001b[0;32m   1642\u001b[0m             \u001b[1;31m# We (temporarily) allow for some missing keys with .loc, except in\u001b[0m\u001b[1;33m\u001b[0m\u001b[1;33m\u001b[0m\u001b[1;33m\u001b[0m\u001b[0m\n",
      "\u001b[1;31mKeyError\u001b[0m: \"None of [Index(['日付', '終値'], dtype='object')] are in the [columns]\""
     ]
    }
   ],
   "source": [
    "code=8306\n",
    "year_start=2019\n",
    "month_start=1\n",
    "day_start=1\n",
    "year_end=2020\n",
    "month_end=11\n",
    "day_end=1\n",
    "i=999\n",
    "Yahoo = pd.DataFrame()\n",
    "\n",
    "yahoo = pd.read_html(\"https://info.finance.yahoo.co.jp/history/?code=\"+str(code)+\".T&sy=\"+str(year_start)+\"&sm=\"+str(month_start)+\"&sd=\"+str(day_start)+\"&ey=\"+str(year_end)+\"&em=\"+str(month_end)+\"&ed=\"+str(day_end)+\"&tm=d&p=\"+str(i)+\"\")\n",
    "Yahoo = Yahoo.append(yahoo[1][['日付', '終値']])\n",
    "Yahoo"
   ]
  },
  {
   "cell_type": "code",
   "execution_count": 21,
   "metadata": {},
   "outputs": [],
   "source": [
    "yahoo = pd.read_html(\"https://info.finance.yahoo.co.jp/history/?code=8306.T&sy=2018&sm=12&sd=1&ey=2020&em=10&ed=31&tm=d\") #URL入力\n",
    "Yahoo = yahoo[1][['日付', '終値']] \n",
    "for i in range(2, 25): #page数\n",
    "    yahoo = pd.read_html(\"https://info.finance.yahoo.co.jp/history/?code=8306.T&sy=2018&sm=12&sd=1&ey=2020&em=10&ed=31&tm=d&p=\"+str(i)+\"\")\n",
    "    Yahoo = Yahoo.append(yahoo[1][['日付', '終値']])\n",
    "Yahoo['日付'] = pd.to_datetime(Yahoo['日付'], format='%Y年%m月%d日')\n",
    "Yahoo = Yahoo.set_index('日付')\n",
    "Yahoo = Yahoo.sort_index()"
   ]
  },
  {
   "cell_type": "code",
   "execution_count": 22,
   "metadata": {},
   "outputs": [
    {
     "data": {
      "text/html": [
       "<div>\n",
       "<style scoped>\n",
       "    .dataframe tbody tr th:only-of-type {\n",
       "        vertical-align: middle;\n",
       "    }\n",
       "\n",
       "    .dataframe tbody tr th {\n",
       "        vertical-align: top;\n",
       "    }\n",
       "\n",
       "    .dataframe thead th {\n",
       "        text-align: right;\n",
       "    }\n",
       "</style>\n",
       "<table border=\"1\" class=\"dataframe\">\n",
       "  <thead>\n",
       "    <tr style=\"text-align: right;\">\n",
       "      <th></th>\n",
       "      <th>終値</th>\n",
       "    </tr>\n",
       "    <tr>\n",
       "      <th>日付</th>\n",
       "      <th></th>\n",
       "    </tr>\n",
       "  </thead>\n",
       "  <tbody>\n",
       "    <tr>\n",
       "      <th>2018-12-03</th>\n",
       "      <td>630.0</td>\n",
       "    </tr>\n",
       "    <tr>\n",
       "      <th>2018-12-04</th>\n",
       "      <td>616.3</td>\n",
       "    </tr>\n",
       "    <tr>\n",
       "      <th>2018-12-05</th>\n",
       "      <td>610.9</td>\n",
       "    </tr>\n",
       "    <tr>\n",
       "      <th>2018-12-06</th>\n",
       "      <td>604.5</td>\n",
       "    </tr>\n",
       "    <tr>\n",
       "      <th>2018-12-07</th>\n",
       "      <td>602.2</td>\n",
       "    </tr>\n",
       "    <tr>\n",
       "      <th>...</th>\n",
       "      <td>...</td>\n",
       "    </tr>\n",
       "    <tr>\n",
       "      <th>2020-10-26</th>\n",
       "      <td>423.4</td>\n",
       "    </tr>\n",
       "    <tr>\n",
       "      <th>2020-10-27</th>\n",
       "      <td>419.4</td>\n",
       "    </tr>\n",
       "    <tr>\n",
       "      <th>2020-10-28</th>\n",
       "      <td>411.9</td>\n",
       "    </tr>\n",
       "    <tr>\n",
       "      <th>2020-10-29</th>\n",
       "      <td>411.6</td>\n",
       "    </tr>\n",
       "    <tr>\n",
       "      <th>2020-10-30</th>\n",
       "      <td>410.2</td>\n",
       "    </tr>\n",
       "  </tbody>\n",
       "</table>\n",
       "<p>461 rows × 1 columns</p>\n",
       "</div>"
      ],
      "text/plain": [
       "               終値\n",
       "日付               \n",
       "2018-12-03  630.0\n",
       "2018-12-04  616.3\n",
       "2018-12-05  610.9\n",
       "2018-12-06  604.5\n",
       "2018-12-07  602.2\n",
       "...           ...\n",
       "2020-10-26  423.4\n",
       "2020-10-27  419.4\n",
       "2020-10-28  411.9\n",
       "2020-10-29  411.6\n",
       "2020-10-30  410.2\n",
       "\n",
       "[461 rows x 1 columns]"
      ]
     },
     "execution_count": 22,
     "metadata": {},
     "output_type": "execute_result"
    }
   ],
   "source": [
    "Yahoo"
   ]
  },
  {
   "cell_type": "code",
   "execution_count": 23,
   "metadata": {},
   "outputs": [],
   "source": [
    "Yahoo.to_csv(\"Stock2/tokyo.csv\")"
   ]
  },
  {
   "cell_type": "code",
   "execution_count": null,
   "metadata": {},
   "outputs": [],
   "source": []
  }
 ],
 "metadata": {
  "kernelspec": {
   "display_name": "Python 3",
   "language": "python",
   "name": "python3"
  },
  "language_info": {
   "codemirror_mode": {
    "name": "ipython",
    "version": 3
   },
   "file_extension": ".py",
   "mimetype": "text/x-python",
   "name": "python",
   "nbconvert_exporter": "python",
   "pygments_lexer": "ipython3",
   "version": "3.6.9"
  }
 },
 "nbformat": 4,
 "nbformat_minor": 4
}
