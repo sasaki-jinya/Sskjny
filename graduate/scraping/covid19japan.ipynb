{
 "cells": [
  {
   "cell_type": "code",
   "execution_count": 1,
   "metadata": {},
   "outputs": [],
   "source": [
    "import pandas as pd\n",
    "import numpy as np"
   ]
  },
  {
   "cell_type": "code",
   "execution_count": 2,
   "metadata": {},
   "outputs": [
    {
     "name": "stdout",
     "output_type": "stream",
     "text": [
      "C:\\home\\program\n"
     ]
    }
   ],
   "source": [
    "import os\n",
    "os.chdir('../')\n",
    "path = os.getcwd()\n",
    "print(path)"
   ]
  },
  {
   "cell_type": "code",
   "execution_count": 3,
   "metadata": {},
   "outputs": [
    {
     "name": "stderr",
     "output_type": "stream",
     "text": [
      "C:\\home\\anaconda\\envs\\TF\\lib\\site-packages\\IPython\\core\\interactiveshell.py:3072: DtypeWarning: Columns (1,2,3,4,16,17,23,24,25,31,32,42,43,53) have mixed types.Specify dtype option on import or set low_memory=False.\n",
      "  interactivity=interactivity, compiler=compiler, result=result)\n"
     ]
    }
   ],
   "source": [
    "data=pd.read_csv(\"scraping/COVID-19.csv\")"
   ]
  },
  {
   "cell_type": "markdown",
   "metadata": {},
   "source": [
    "データ参考\n",
    "https://gis.jag-japan.com/covid19jp/"
   ]
  },
  {
   "cell_type": "code",
   "execution_count": 4,
   "metadata": {},
   "outputs": [],
   "source": [
    "column=dict()\n",
    "for prefecture in data[\"受診都道府県\"]:\n",
    "    if prefecture in column:\n",
    "        column[prefecture]+=1\n",
    "    else:\n",
    "        column[prefecture]=1"
   ]
  },
  {
   "cell_type": "markdown",
   "metadata": {},
   "source": [
    "日付の挿入\n",
    "https://qiita.com/YuukiMiyoshi/items/42a890a95af6ab7a5348"
   ]
  },
  {
   "cell_type": "code",
   "execution_count": 5,
   "metadata": {},
   "outputs": [],
   "source": [
    "date_list=data[\"確定日\"]"
   ]
  },
  {
   "cell_type": "code",
   "execution_count": 8,
   "metadata": {},
   "outputs": [],
   "source": [
    "#date_list = date_list.dropna()\n",
    "#date_list = date_list.drop(date_list.index[[len(date_list)-1,len(date_list)-2,len(date_list)-3]])"
   ]
  },
  {
   "cell_type": "code",
   "execution_count": 9,
   "metadata": {},
   "outputs": [],
   "source": [
    "# 使用するモジュールのインポート\n",
    "from datetime import datetime as dt\n",
    "from datetime import timedelta\n",
    "\n",
    "# 日付条件の設定\n",
    "strdt = dt.strptime(date_list[0], '%m/%d/%Y')  # 開始日\n",
    "enddt = dt.strptime(date_list[len(date_list)-2], '%m/%d/%Y')  # 終了日\n",
    "\n",
    "# 日付差の日数を算出（リストに最終日も含めたいので、＋１しています）\n",
    "days_num = (enddt - strdt).days + 1  # （参考）括弧の部分はtimedelta型のオブジェクトになります"
   ]
  },
  {
   "cell_type": "code",
   "execution_count": 10,
   "metadata": {},
   "outputs": [],
   "source": [
    "date = []\n",
    "for i in range(days_num):\n",
    "    d = strdt + timedelta(days=i)\n",
    "    date.append(d.strftime(\"%m/%d/%Y\"))"
   ]
  },
  {
   "cell_type": "code",
   "execution_count": 11,
   "metadata": {},
   "outputs": [],
   "source": [
    "day=dict()\n",
    "for word in date:\n",
    "    day[word]=len(day)"
   ]
  },
  {
   "cell_type": "code",
   "execution_count": 12,
   "metadata": {},
   "outputs": [],
   "source": [
    "covid19_jp=pd.DataFrame()\n",
    "covid19_jp[\"date\"]=date\n",
    "for prefecture in column:\n",
    "    positive=np.zeros(len(date))\n",
    "    subdata=data[data[\"受診都道府県\"]==prefecture]\n",
    "    for word in subdata[\"確定日\"]:\n",
    "        if len(word)==10:\n",
    "            pass\n",
    "        else:\n",
    "            word=dt.strptime(word, '%m/%d/%Y')\n",
    "            word=word.strftime(\"%m/%d/%Y\")\n",
    "        positive[day[word]]+=1\n",
    "    covid19_jp[prefecture]=positive"
   ]
  },
  {
   "cell_type": "code",
   "execution_count": 13,
   "metadata": {},
   "outputs": [],
   "source": [
    "#positive=np.zeros(len(date))\n",
    "#covid19_jp[\"岩手県\"]=positive"
   ]
  },
  {
   "cell_type": "code",
   "execution_count": 14,
   "metadata": {},
   "outputs": [],
   "source": [
    "covid19_jp.to_csv(\"scraping/covid19_pref_20200421.csv\")"
   ]
  },
  {
   "cell_type": "code",
   "execution_count": 15,
   "metadata": {},
   "outputs": [],
   "source": [
    "#column[\"岩手県\"]=0"
   ]
  },
  {
   "cell_type": "code",
   "execution_count": 16,
   "metadata": {},
   "outputs": [],
   "source": [
    "covid19_pref_accum=pd.DataFrame()\n",
    "covid19_pref_accum[\"date\"]=covid19_jp[\"date\"]\n",
    "[word]\n",
    "for word in column:\n",
    "    values=covid19_jp[word]\n",
    "    results=np.zeros(len(values))\n",
    "    value=0\n",
    "    for i in range(len(values)):\n",
    "        value+=values[i]\n",
    "        results[i]=value\n",
    "    covid19_pref_accum[word]=results"
   ]
  },
  {
   "cell_type": "code",
   "execution_count": 17,
   "metadata": {},
   "outputs": [],
   "source": [
    "covid19_pref_accum.to_csv(\"scraping/covid19_pref_accum_20200421.csv\")"
   ]
  },
  {
   "cell_type": "code",
   "execution_count": 18,
   "metadata": {},
   "outputs": [],
   "source": [
    "region=dict()"
   ]
  },
  {
   "cell_type": "code",
   "execution_count": 19,
   "metadata": {},
   "outputs": [],
   "source": [
    "region[\"Hokkaido\"]=[\"北海道\"]\n",
    "region[\"Tohoku\"]=[\"青森県\",\"岩手県\",\"宮城県\",\"秋田県\",\"山形県\",\"福島県\"]\n",
    "region[\"Kanto\"]=[\"茨城県\",\"栃木県\",\"群馬県\",\"埼玉県\",\"千葉県\",\"東京都\",\"神奈川県\"]\n",
    "region[\"Chubu\"]=[\"新潟県\",\"富山県\",\"石川県\",\"福井県\",\"山梨県\",\"長野県\",\"岐阜県\",\"静岡県\",\"愛知県\"]\n",
    "region[\"Kinki\"]=[\"三重県\",\"滋賀県\",\"京都府\",\"大阪府\",\"兵庫県\",\"奈良県\",\"和歌山県\"]\n",
    "region[\"Chugoku\"]=[\"鳥取県\",\"島根県\",\"岡山県\",\"広島県\",\"山口県\"]\n",
    "region[\"Shikoku\"]=[\"徳島県\",\"香川県\",\"愛媛県\",\"高知県\"]\n",
    "region[\"Kyusyu\"]=[\"福岡県\",\"佐賀県\",\"長崎県\",\"熊本県\",\"大分県\",\"宮崎県\",\"鹿児島県\",\"沖縄県\"]"
   ]
  },
  {
   "cell_type": "code",
   "execution_count": 20,
   "metadata": {},
   "outputs": [],
   "source": [
    "covid19_region=pd.DataFrame()"
   ]
  },
  {
   "cell_type": "code",
   "execution_count": 21,
   "metadata": {},
   "outputs": [],
   "source": [
    "covid19_region[\"date\"]=covid19_jp[\"date\"]"
   ]
  },
  {
   "cell_type": "code",
   "execution_count": 22,
   "metadata": {},
   "outputs": [],
   "source": [
    "for word in region:\n",
    "    values=np.zeros(len(covid19_jp))\n",
    "    for word2 in region[word]:\n",
    "        values=values+covid19_jp[word2]\n",
    "    covid19_region[word]=values"
   ]
  },
  {
   "cell_type": "code",
   "execution_count": 23,
   "metadata": {},
   "outputs": [],
   "source": [
    "covid19_region.to_csv(\"scraping/covid19_region_20200421.csv\",index=False)"
   ]
  },
  {
   "cell_type": "code",
   "execution_count": 24,
   "metadata": {},
   "outputs": [
    {
     "data": {
      "text/html": [
       "<div>\n",
       "<style scoped>\n",
       "    .dataframe tbody tr th:only-of-type {\n",
       "        vertical-align: middle;\n",
       "    }\n",
       "\n",
       "    .dataframe tbody tr th {\n",
       "        vertical-align: top;\n",
       "    }\n",
       "\n",
       "    .dataframe thead th {\n",
       "        text-align: right;\n",
       "    }\n",
       "</style>\n",
       "<table border=\"1\" class=\"dataframe\">\n",
       "  <thead>\n",
       "    <tr style=\"text-align: right;\">\n",
       "      <th></th>\n",
       "      <th>date</th>\n",
       "      <th>Hokkaido</th>\n",
       "      <th>Tohoku</th>\n",
       "      <th>Kanto</th>\n",
       "      <th>Chubu</th>\n",
       "      <th>Kinki</th>\n",
       "      <th>Chugoku</th>\n",
       "      <th>Shikoku</th>\n",
       "      <th>Kyusyu</th>\n",
       "    </tr>\n",
       "  </thead>\n",
       "  <tbody>\n",
       "    <tr>\n",
       "      <th>0</th>\n",
       "      <td>01/15/2020</td>\n",
       "      <td>0.0</td>\n",
       "      <td>0.0</td>\n",
       "      <td>1.0</td>\n",
       "      <td>0.0</td>\n",
       "      <td>0.0</td>\n",
       "      <td>0.0</td>\n",
       "      <td>0.0</td>\n",
       "      <td>0.0</td>\n",
       "    </tr>\n",
       "    <tr>\n",
       "      <th>1</th>\n",
       "      <td>01/16/2020</td>\n",
       "      <td>0.0</td>\n",
       "      <td>0.0</td>\n",
       "      <td>0.0</td>\n",
       "      <td>0.0</td>\n",
       "      <td>0.0</td>\n",
       "      <td>0.0</td>\n",
       "      <td>0.0</td>\n",
       "      <td>0.0</td>\n",
       "    </tr>\n",
       "    <tr>\n",
       "      <th>2</th>\n",
       "      <td>01/17/2020</td>\n",
       "      <td>0.0</td>\n",
       "      <td>0.0</td>\n",
       "      <td>0.0</td>\n",
       "      <td>0.0</td>\n",
       "      <td>0.0</td>\n",
       "      <td>0.0</td>\n",
       "      <td>0.0</td>\n",
       "      <td>0.0</td>\n",
       "    </tr>\n",
       "    <tr>\n",
       "      <th>3</th>\n",
       "      <td>01/18/2020</td>\n",
       "      <td>0.0</td>\n",
       "      <td>0.0</td>\n",
       "      <td>0.0</td>\n",
       "      <td>0.0</td>\n",
       "      <td>0.0</td>\n",
       "      <td>0.0</td>\n",
       "      <td>0.0</td>\n",
       "      <td>0.0</td>\n",
       "    </tr>\n",
       "    <tr>\n",
       "      <th>4</th>\n",
       "      <td>01/19/2020</td>\n",
       "      <td>0.0</td>\n",
       "      <td>0.0</td>\n",
       "      <td>0.0</td>\n",
       "      <td>0.0</td>\n",
       "      <td>0.0</td>\n",
       "      <td>0.0</td>\n",
       "      <td>0.0</td>\n",
       "      <td>0.0</td>\n",
       "    </tr>\n",
       "    <tr>\n",
       "      <th>...</th>\n",
       "      <td>...</td>\n",
       "      <td>...</td>\n",
       "      <td>...</td>\n",
       "      <td>...</td>\n",
       "      <td>...</td>\n",
       "      <td>...</td>\n",
       "      <td>...</td>\n",
       "      <td>...</td>\n",
       "      <td>...</td>\n",
       "    </tr>\n",
       "    <tr>\n",
       "      <th>306</th>\n",
       "      <td>11/16/2020</td>\n",
       "      <td>0.0</td>\n",
       "      <td>0.0</td>\n",
       "      <td>180.0</td>\n",
       "      <td>0.0</td>\n",
       "      <td>0.0</td>\n",
       "      <td>0.0</td>\n",
       "      <td>0.0</td>\n",
       "      <td>0.0</td>\n",
       "    </tr>\n",
       "    <tr>\n",
       "      <th>307</th>\n",
       "      <td>11/17/2020</td>\n",
       "      <td>0.0</td>\n",
       "      <td>0.0</td>\n",
       "      <td>298.0</td>\n",
       "      <td>0.0</td>\n",
       "      <td>0.0</td>\n",
       "      <td>0.0</td>\n",
       "      <td>0.0</td>\n",
       "      <td>0.0</td>\n",
       "    </tr>\n",
       "    <tr>\n",
       "      <th>308</th>\n",
       "      <td>11/18/2020</td>\n",
       "      <td>0.0</td>\n",
       "      <td>0.0</td>\n",
       "      <td>493.0</td>\n",
       "      <td>0.0</td>\n",
       "      <td>0.0</td>\n",
       "      <td>0.0</td>\n",
       "      <td>0.0</td>\n",
       "      <td>0.0</td>\n",
       "    </tr>\n",
       "    <tr>\n",
       "      <th>309</th>\n",
       "      <td>11/19/2020</td>\n",
       "      <td>0.0</td>\n",
       "      <td>0.0</td>\n",
       "      <td>534.0</td>\n",
       "      <td>0.0</td>\n",
       "      <td>0.0</td>\n",
       "      <td>0.0</td>\n",
       "      <td>0.0</td>\n",
       "      <td>0.0</td>\n",
       "    </tr>\n",
       "    <tr>\n",
       "      <th>310</th>\n",
       "      <td>11/20/2020</td>\n",
       "      <td>0.0</td>\n",
       "      <td>0.0</td>\n",
       "      <td>522.0</td>\n",
       "      <td>0.0</td>\n",
       "      <td>0.0</td>\n",
       "      <td>0.0</td>\n",
       "      <td>0.0</td>\n",
       "      <td>0.0</td>\n",
       "    </tr>\n",
       "  </tbody>\n",
       "</table>\n",
       "<p>311 rows × 9 columns</p>\n",
       "</div>"
      ],
      "text/plain": [
       "           date  Hokkaido  Tohoku  Kanto  Chubu  Kinki  Chugoku  Shikoku  \\\n",
       "0    01/15/2020       0.0     0.0    1.0    0.0    0.0      0.0      0.0   \n",
       "1    01/16/2020       0.0     0.0    0.0    0.0    0.0      0.0      0.0   \n",
       "2    01/17/2020       0.0     0.0    0.0    0.0    0.0      0.0      0.0   \n",
       "3    01/18/2020       0.0     0.0    0.0    0.0    0.0      0.0      0.0   \n",
       "4    01/19/2020       0.0     0.0    0.0    0.0    0.0      0.0      0.0   \n",
       "..          ...       ...     ...    ...    ...    ...      ...      ...   \n",
       "306  11/16/2020       0.0     0.0  180.0    0.0    0.0      0.0      0.0   \n",
       "307  11/17/2020       0.0     0.0  298.0    0.0    0.0      0.0      0.0   \n",
       "308  11/18/2020       0.0     0.0  493.0    0.0    0.0      0.0      0.0   \n",
       "309  11/19/2020       0.0     0.0  534.0    0.0    0.0      0.0      0.0   \n",
       "310  11/20/2020       0.0     0.0  522.0    0.0    0.0      0.0      0.0   \n",
       "\n",
       "     Kyusyu  \n",
       "0       0.0  \n",
       "1       0.0  \n",
       "2       0.0  \n",
       "3       0.0  \n",
       "4       0.0  \n",
       "..      ...  \n",
       "306     0.0  \n",
       "307     0.0  \n",
       "308     0.0  \n",
       "309     0.0  \n",
       "310     0.0  \n",
       "\n",
       "[311 rows x 9 columns]"
      ]
     },
     "execution_count": 24,
     "metadata": {},
     "output_type": "execute_result"
    }
   ],
   "source": [
    "covid19_region"
   ]
  },
  {
   "cell_type": "code",
   "execution_count": 25,
   "metadata": {},
   "outputs": [],
   "source": [
    "covid19_region_accumlation=pd.DataFrame()\n",
    "covid19_region_accumlation[\"date\"]=date"
   ]
  },
  {
   "cell_type": "code",
   "execution_count": 26,
   "metadata": {},
   "outputs": [],
   "source": [
    "for word in region:\n",
    "    values=covid19_region[word]\n",
    "    results=np.zeros(len(values))\n",
    "    value=0\n",
    "    for i in range(len(values)):\n",
    "        value+=values[i]\n",
    "        results[i]=value\n",
    "    covid19_region_accumlation[word]=results"
   ]
  },
  {
   "cell_type": "code",
   "execution_count": 27,
   "metadata": {},
   "outputs": [
    {
     "data": {
      "text/html": [
       "<div>\n",
       "<style scoped>\n",
       "    .dataframe tbody tr th:only-of-type {\n",
       "        vertical-align: middle;\n",
       "    }\n",
       "\n",
       "    .dataframe tbody tr th {\n",
       "        vertical-align: top;\n",
       "    }\n",
       "\n",
       "    .dataframe thead th {\n",
       "        text-align: right;\n",
       "    }\n",
       "</style>\n",
       "<table border=\"1\" class=\"dataframe\">\n",
       "  <thead>\n",
       "    <tr style=\"text-align: right;\">\n",
       "      <th></th>\n",
       "      <th>date</th>\n",
       "      <th>Hokkaido</th>\n",
       "      <th>Tohoku</th>\n",
       "      <th>Kanto</th>\n",
       "      <th>Chubu</th>\n",
       "      <th>Kinki</th>\n",
       "      <th>Chugoku</th>\n",
       "      <th>Shikoku</th>\n",
       "      <th>Kyusyu</th>\n",
       "    </tr>\n",
       "  </thead>\n",
       "  <tbody>\n",
       "    <tr>\n",
       "      <th>0</th>\n",
       "      <td>01/15/2020</td>\n",
       "      <td>0.0</td>\n",
       "      <td>0.0</td>\n",
       "      <td>1.0</td>\n",
       "      <td>0.0</td>\n",
       "      <td>0.0</td>\n",
       "      <td>0.0</td>\n",
       "      <td>0.0</td>\n",
       "      <td>0.0</td>\n",
       "    </tr>\n",
       "    <tr>\n",
       "      <th>1</th>\n",
       "      <td>01/16/2020</td>\n",
       "      <td>0.0</td>\n",
       "      <td>0.0</td>\n",
       "      <td>1.0</td>\n",
       "      <td>0.0</td>\n",
       "      <td>0.0</td>\n",
       "      <td>0.0</td>\n",
       "      <td>0.0</td>\n",
       "      <td>0.0</td>\n",
       "    </tr>\n",
       "    <tr>\n",
       "      <th>2</th>\n",
       "      <td>01/17/2020</td>\n",
       "      <td>0.0</td>\n",
       "      <td>0.0</td>\n",
       "      <td>1.0</td>\n",
       "      <td>0.0</td>\n",
       "      <td>0.0</td>\n",
       "      <td>0.0</td>\n",
       "      <td>0.0</td>\n",
       "      <td>0.0</td>\n",
       "    </tr>\n",
       "    <tr>\n",
       "      <th>3</th>\n",
       "      <td>01/18/2020</td>\n",
       "      <td>0.0</td>\n",
       "      <td>0.0</td>\n",
       "      <td>1.0</td>\n",
       "      <td>0.0</td>\n",
       "      <td>0.0</td>\n",
       "      <td>0.0</td>\n",
       "      <td>0.0</td>\n",
       "      <td>0.0</td>\n",
       "    </tr>\n",
       "    <tr>\n",
       "      <th>4</th>\n",
       "      <td>01/19/2020</td>\n",
       "      <td>0.0</td>\n",
       "      <td>0.0</td>\n",
       "      <td>1.0</td>\n",
       "      <td>0.0</td>\n",
       "      <td>0.0</td>\n",
       "      <td>0.0</td>\n",
       "      <td>0.0</td>\n",
       "      <td>0.0</td>\n",
       "    </tr>\n",
       "    <tr>\n",
       "      <th>...</th>\n",
       "      <td>...</td>\n",
       "      <td>...</td>\n",
       "      <td>...</td>\n",
       "      <td>...</td>\n",
       "      <td>...</td>\n",
       "      <td>...</td>\n",
       "      <td>...</td>\n",
       "      <td>...</td>\n",
       "      <td>...</td>\n",
       "    </tr>\n",
       "    <tr>\n",
       "      <th>306</th>\n",
       "      <td>11/16/2020</td>\n",
       "      <td>4444.0</td>\n",
       "      <td>1502.0</td>\n",
       "      <td>58043.0</td>\n",
       "      <td>9817.0</td>\n",
       "      <td>22961.0</td>\n",
       "      <td>1291.0</td>\n",
       "      <td>529.0</td>\n",
       "      <td>11051.0</td>\n",
       "    </tr>\n",
       "    <tr>\n",
       "      <th>307</th>\n",
       "      <td>11/17/2020</td>\n",
       "      <td>4444.0</td>\n",
       "      <td>1502.0</td>\n",
       "      <td>58341.0</td>\n",
       "      <td>9817.0</td>\n",
       "      <td>22961.0</td>\n",
       "      <td>1291.0</td>\n",
       "      <td>529.0</td>\n",
       "      <td>11051.0</td>\n",
       "    </tr>\n",
       "    <tr>\n",
       "      <th>308</th>\n",
       "      <td>11/18/2020</td>\n",
       "      <td>4444.0</td>\n",
       "      <td>1502.0</td>\n",
       "      <td>58834.0</td>\n",
       "      <td>9817.0</td>\n",
       "      <td>22961.0</td>\n",
       "      <td>1291.0</td>\n",
       "      <td>529.0</td>\n",
       "      <td>11051.0</td>\n",
       "    </tr>\n",
       "    <tr>\n",
       "      <th>309</th>\n",
       "      <td>11/19/2020</td>\n",
       "      <td>4444.0</td>\n",
       "      <td>1502.0</td>\n",
       "      <td>59368.0</td>\n",
       "      <td>9817.0</td>\n",
       "      <td>22961.0</td>\n",
       "      <td>1291.0</td>\n",
       "      <td>529.0</td>\n",
       "      <td>11051.0</td>\n",
       "    </tr>\n",
       "    <tr>\n",
       "      <th>310</th>\n",
       "      <td>11/20/2020</td>\n",
       "      <td>4444.0</td>\n",
       "      <td>1502.0</td>\n",
       "      <td>59890.0</td>\n",
       "      <td>9817.0</td>\n",
       "      <td>22961.0</td>\n",
       "      <td>1291.0</td>\n",
       "      <td>529.0</td>\n",
       "      <td>11051.0</td>\n",
       "    </tr>\n",
       "  </tbody>\n",
       "</table>\n",
       "<p>311 rows × 9 columns</p>\n",
       "</div>"
      ],
      "text/plain": [
       "           date  Hokkaido  Tohoku    Kanto   Chubu    Kinki  Chugoku  Shikoku  \\\n",
       "0    01/15/2020       0.0     0.0      1.0     0.0      0.0      0.0      0.0   \n",
       "1    01/16/2020       0.0     0.0      1.0     0.0      0.0      0.0      0.0   \n",
       "2    01/17/2020       0.0     0.0      1.0     0.0      0.0      0.0      0.0   \n",
       "3    01/18/2020       0.0     0.0      1.0     0.0      0.0      0.0      0.0   \n",
       "4    01/19/2020       0.0     0.0      1.0     0.0      0.0      0.0      0.0   \n",
       "..          ...       ...     ...      ...     ...      ...      ...      ...   \n",
       "306  11/16/2020    4444.0  1502.0  58043.0  9817.0  22961.0   1291.0    529.0   \n",
       "307  11/17/2020    4444.0  1502.0  58341.0  9817.0  22961.0   1291.0    529.0   \n",
       "308  11/18/2020    4444.0  1502.0  58834.0  9817.0  22961.0   1291.0    529.0   \n",
       "309  11/19/2020    4444.0  1502.0  59368.0  9817.0  22961.0   1291.0    529.0   \n",
       "310  11/20/2020    4444.0  1502.0  59890.0  9817.0  22961.0   1291.0    529.0   \n",
       "\n",
       "      Kyusyu  \n",
       "0        0.0  \n",
       "1        0.0  \n",
       "2        0.0  \n",
       "3        0.0  \n",
       "4        0.0  \n",
       "..       ...  \n",
       "306  11051.0  \n",
       "307  11051.0  \n",
       "308  11051.0  \n",
       "309  11051.0  \n",
       "310  11051.0  \n",
       "\n",
       "[311 rows x 9 columns]"
      ]
     },
     "execution_count": 27,
     "metadata": {},
     "output_type": "execute_result"
    }
   ],
   "source": [
    "covid19_region_accumlation"
   ]
  },
  {
   "cell_type": "code",
   "execution_count": 28,
   "metadata": {},
   "outputs": [],
   "source": [
    "covid19_region_accumlation.to_csv(\"scraping/covid19_region_accum_20200421.csv\",index=False)"
   ]
  },
  {
   "cell_type": "code",
   "execution_count": null,
   "metadata": {},
   "outputs": [],
   "source": []
  },
  {
   "cell_type": "code",
   "execution_count": null,
   "metadata": {},
   "outputs": [],
   "source": []
  }
 ],
 "metadata": {
  "kernelspec": {
   "display_name": "Python 3",
   "language": "python",
   "name": "python3"
  },
  "language_info": {
   "codemirror_mode": {
    "name": "ipython",
    "version": 3
   },
   "file_extension": ".py",
   "mimetype": "text/x-python",
   "name": "python",
   "nbconvert_exporter": "python",
   "pygments_lexer": "ipython3",
   "version": "3.7.9"
  }
 },
 "nbformat": 4,
 "nbformat_minor": 4
}
