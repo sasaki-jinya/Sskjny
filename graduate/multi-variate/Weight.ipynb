{
 "cells": [
  {
   "cell_type": "code",
   "execution_count": 1,
   "metadata": {},
   "outputs": [],
   "source": [
    "import pandas as pd\n",
    "import numpy as np\n",
    "import matplotlib.pyplot as plt\n",
    "from wordcloud import WordCloud\n",
    "from collections import Counter\n",
    "import collections\n",
    "import string\n",
    "from datetime import datetime as dt\n",
    "from datetime import timedelta\n",
    "import os"
   ]
  },
  {
   "cell_type": "code",
   "execution_count": 2,
   "metadata": {},
   "outputs": [
    {
     "name": "stdout",
     "output_type": "stream",
     "text": [
      "C:\\home\\program\n"
     ]
    }
   ],
   "source": [
    "os.chdir('../')\n",
    "path = os.getcwd()\n",
    "print(path)"
   ]
  },
  {
   "cell_type": "code",
   "execution_count": 3,
   "metadata": {},
   "outputs": [],
   "source": [
    "NEWS = pd.read_csv('scraping/category2018-2019.csv')\n",
    "FX = pd.read_csv('FX/円ドル(2014-1_2020-11).csv')\n",
    "SPORT = pd.read_csv('scraping/sport2013-2020.csv')"
   ]
  },
  {
   "cell_type": "code",
   "execution_count": 4,
   "metadata": {},
   "outputs": [],
   "source": [
    "NEWS.set_index('date')\n",
    "dateTimeIndex = pd.DatetimeIndex(NEWS['date'])\n",
    "NEWS.index = dateTimeIndex\n",
    "NEWS = NEWS.drop(\"date\", axis=1)"
   ]
  },
  {
   "cell_type": "code",
   "execution_count": 5,
   "metadata": {},
   "outputs": [],
   "source": [
    "FX = FX.rename(columns={'日付': 'date'})\n",
    "FX.set_index('date')\n",
    "dateTimeIndex = pd.DatetimeIndex(FX['date'])\n",
    "FX.index = dateTimeIndex\n",
    "FX = FX.drop_duplicates()\n",
    "FX = FX.resample('D').interpolate()\n",
    "FX = FX.drop(\"date\", axis=1)"
   ]
  },
  {
   "cell_type": "code",
   "execution_count": 6,
   "metadata": {},
   "outputs": [],
   "source": [
    "FX['DIFF'] = FX.diff()\n",
    "FX = FX['2018-01-01':'2019-01-31']\n",
    "NEWS = NEWS['2018-01-01':'2019-01-31']"
   ]
  },
  {
   "cell_type": "code",
   "execution_count": 7,
   "metadata": {},
   "outputs": [],
   "source": [
    "diff = FX['DIFF']"
   ]
  },
  {
   "cell_type": "code",
   "execution_count": 8,
   "metadata": {},
   "outputs": [],
   "source": [
    "NEWS['DIIF-FX'] = diff"
   ]
  },
  {
   "cell_type": "code",
   "execution_count": 9,
   "metadata": {},
   "outputs": [
    {
     "data": {
      "text/html": [
       "<div>\n",
       "<style scoped>\n",
       "    .dataframe tbody tr th:only-of-type {\n",
       "        vertical-align: middle;\n",
       "    }\n",
       "\n",
       "    .dataframe tbody tr th {\n",
       "        vertical-align: top;\n",
       "    }\n",
       "\n",
       "    .dataframe thead th {\n",
       "        text-align: right;\n",
       "    }\n",
       "</style>\n",
       "<table border=\"1\" class=\"dataframe\">\n",
       "  <thead>\n",
       "    <tr style=\"text-align: right;\">\n",
       "      <th></th>\n",
       "      <th>1</th>\n",
       "      <th>2</th>\n",
       "      <th>3</th>\n",
       "      <th>4</th>\n",
       "      <th>5</th>\n",
       "      <th>category</th>\n",
       "      <th>DIIF-FX</th>\n",
       "    </tr>\n",
       "    <tr>\n",
       "      <th>date</th>\n",
       "      <th></th>\n",
       "      <th></th>\n",
       "      <th></th>\n",
       "      <th></th>\n",
       "      <th></th>\n",
       "      <th></th>\n",
       "      <th></th>\n",
       "    </tr>\n",
       "  </thead>\n",
       "  <tbody>\n",
       "    <tr>\n",
       "      <th>2018-01-01</th>\n",
       "      <td>派</td>\n",
       "      <td>主義</td>\n",
       "      <td>##ト</td>\n",
       "      <td>##派</td>\n",
       "      <td>##ル</td>\n",
       "      <td>0</td>\n",
       "      <td>-0.01</td>\n",
       "    </tr>\n",
       "    <tr>\n",
       "      <th>2018-01-01</th>\n",
       "      <td>・</td>\n",
       "      <td>都</td>\n",
       "      <td>の</td>\n",
       "      <td>都立</td>\n",
       "      <td>、</td>\n",
       "      <td>2</td>\n",
       "      <td>-0.01</td>\n",
       "    </tr>\n",
       "    <tr>\n",
       "      <th>2018-01-01</th>\n",
       "      <td>、</td>\n",
       "      <td>に</td>\n",
       "      <td>中</td>\n",
       "      <td>から</td>\n",
       "      <td>の</td>\n",
       "      <td>2</td>\n",
       "      <td>-0.01</td>\n",
       "    </tr>\n",
       "    <tr>\n",
       "      <th>2018-01-01</th>\n",
       "      <td>日</td>\n",
       "      <td>年</td>\n",
       "      <td>##日</td>\n",
       "      <td>月曜日</td>\n",
       "      <td>分</td>\n",
       "      <td>2</td>\n",
       "      <td>-0.01</td>\n",
       "    </tr>\n",
       "    <tr>\n",
       "      <th>2018-01-01</th>\n",
       "      <td>差別</td>\n",
       "      <td>虐殺</td>\n",
       "      <td>迫害</td>\n",
       "      <td>飢餓</td>\n",
       "      <td>暴力</td>\n",
       "      <td>2</td>\n",
       "      <td>-0.01</td>\n",
       "    </tr>\n",
       "    <tr>\n",
       "      <th>...</th>\n",
       "      <td>...</td>\n",
       "      <td>...</td>\n",
       "      <td>...</td>\n",
       "      <td>...</td>\n",
       "      <td>...</td>\n",
       "      <td>...</td>\n",
       "      <td>...</td>\n",
       "    </tr>\n",
       "    <tr>\n",
       "      <th>2019-01-31</th>\n",
       "      <td>NaN</td>\n",
       "      <td>NaN</td>\n",
       "      <td>NaN</td>\n",
       "      <td>NaN</td>\n",
       "      <td>NaN</td>\n",
       "      <td>0</td>\n",
       "      <td>-0.15</td>\n",
       "    </tr>\n",
       "    <tr>\n",
       "      <th>2019-01-31</th>\n",
       "      <td>NaN</td>\n",
       "      <td>NaN</td>\n",
       "      <td>NaN</td>\n",
       "      <td>NaN</td>\n",
       "      <td>NaN</td>\n",
       "      <td>0</td>\n",
       "      <td>-0.15</td>\n",
       "    </tr>\n",
       "    <tr>\n",
       "      <th>2019-01-31</th>\n",
       "      <td>NaN</td>\n",
       "      <td>NaN</td>\n",
       "      <td>NaN</td>\n",
       "      <td>NaN</td>\n",
       "      <td>NaN</td>\n",
       "      <td>0</td>\n",
       "      <td>-0.15</td>\n",
       "    </tr>\n",
       "    <tr>\n",
       "      <th>2019-01-31</th>\n",
       "      <td>NaN</td>\n",
       "      <td>NaN</td>\n",
       "      <td>NaN</td>\n",
       "      <td>NaN</td>\n",
       "      <td>NaN</td>\n",
       "      <td>0</td>\n",
       "      <td>-0.15</td>\n",
       "    </tr>\n",
       "    <tr>\n",
       "      <th>2019-01-31</th>\n",
       "      <td>NaN</td>\n",
       "      <td>NaN</td>\n",
       "      <td>NaN</td>\n",
       "      <td>NaN</td>\n",
       "      <td>NaN</td>\n",
       "      <td>0</td>\n",
       "      <td>-0.15</td>\n",
       "    </tr>\n",
       "  </tbody>\n",
       "</table>\n",
       "<p>83330 rows × 7 columns</p>\n",
       "</div>"
      ],
      "text/plain": [
       "              1    2    3    4    5  category  DIIF-FX\n",
       "date                                                  \n",
       "2018-01-01    派   主義  ##ト  ##派  ##ル         0    -0.01\n",
       "2018-01-01    ・    都    の   都立    、         2    -0.01\n",
       "2018-01-01    、    に    中   から    の         2    -0.01\n",
       "2018-01-01    日    年  ##日  月曜日    分         2    -0.01\n",
       "2018-01-01   差別   虐殺   迫害   飢餓   暴力         2    -0.01\n",
       "...         ...  ...  ...  ...  ...       ...      ...\n",
       "2019-01-31  NaN  NaN  NaN  NaN  NaN         0    -0.15\n",
       "2019-01-31  NaN  NaN  NaN  NaN  NaN         0    -0.15\n",
       "2019-01-31  NaN  NaN  NaN  NaN  NaN         0    -0.15\n",
       "2019-01-31  NaN  NaN  NaN  NaN  NaN         0    -0.15\n",
       "2019-01-31  NaN  NaN  NaN  NaN  NaN         0    -0.15\n",
       "\n",
       "[83330 rows x 7 columns]"
      ]
     },
     "execution_count": 9,
     "metadata": {},
     "output_type": "execute_result"
    }
   ],
   "source": [
    "NEWS"
   ]
  },
  {
   "cell_type": "code",
   "execution_count": 10,
   "metadata": {
    "collapsed": true,
    "jupyter": {
     "outputs_hidden": true
    }
   },
   "outputs": [
    {
     "name": "stderr",
     "output_type": "stream",
     "text": [
      "C:\\home\\anaconda\\envs\\Tensorflow\\lib\\site-packages\\ipykernel_launcher.py:8: SettingWithCopyWarning: \n",
      "A value is trying to be set on a copy of a slice from a DataFrame\n",
      "\n",
      "See the caveats in the documentation: https://pandas.pydata.org/pandas-docs/stable/user_guide/indexing.html#returning-a-view-versus-a-copy\n",
      "  \n",
      "C:\\home\\anaconda\\envs\\Tensorflow\\lib\\site-packages\\ipykernel_launcher.py:6: SettingWithCopyWarning: \n",
      "A value is trying to be set on a copy of a slice from a DataFrame\n",
      "\n",
      "See the caveats in the documentation: https://pandas.pydata.org/pandas-docs/stable/user_guide/indexing.html#returning-a-view-versus-a-copy\n",
      "  \n",
      "C:\\home\\anaconda\\envs\\Tensorflow\\lib\\site-packages\\ipykernel_launcher.py:4: SettingWithCopyWarning: \n",
      "A value is trying to be set on a copy of a slice from a DataFrame\n",
      "\n",
      "See the caveats in the documentation: https://pandas.pydata.org/pandas-docs/stable/user_guide/indexing.html#returning-a-view-versus-a-copy\n",
      "  after removing the cwd from sys.path.\n"
     ]
    }
   ],
   "source": [
    "NEWS['weight'] = 0\n",
    "for i in range(0,len(NEWS)):\n",
    "    if NEWS['DIIF-FX'][i] > 1:\n",
    "        NEWS['weight'][i] = 1\n",
    "    elif NEWS['DIIF-FX'][i] < -1:\n",
    "        NEWS['weight'][i] = -1\n",
    "    else:\n",
    "        NEWS['weight'][i] = 0"
   ]
  },
  {
   "cell_type": "code",
   "execution_count": 11,
   "metadata": {},
   "outputs": [
    {
     "data": {
      "text/plain": [
       "Counter({0: 80563, -1: 1918, 1: 849})"
      ]
     },
     "execution_count": 11,
     "metadata": {},
     "output_type": "execute_result"
    }
   ],
   "source": [
    "Counter(NEWS['weight'])"
   ]
  },
  {
   "cell_type": "markdown",
   "metadata": {},
   "source": [
    "# sport"
   ]
  },
  {
   "cell_type": "code",
   "execution_count": 15,
   "metadata": {},
   "outputs": [],
   "source": [
    "SPORT.set_index('Unnamed: 0')\n",
    "dateTimeIndex = pd.DatetimeIndex(SPORT['Unnamed: 0'])\n",
    "SPORT.index = dateTimeIndex\n",
    "sport = SPORT.drop('Unnamed: 0', axis=1)"
   ]
  },
  {
   "cell_type": "code",
   "execution_count": 16,
   "metadata": {},
   "outputs": [],
   "source": [
    "sport['DIFF'] = sport.diff()\n",
    "NEWS['sport'] = sport['DIFF']"
   ]
  },
  {
   "cell_type": "code",
   "execution_count": 17,
   "metadata": {},
   "outputs": [
    {
     "data": {
      "text/plain": [
       "date\n",
       "2018-01-01   -0.645161\n",
       "2018-01-01   -0.645161\n",
       "2018-01-01   -0.645161\n",
       "2018-01-01   -0.645161\n",
       "2018-01-01   -0.645161\n",
       "                ...   \n",
       "2019-01-31   -0.225806\n",
       "2019-01-31   -0.225806\n",
       "2019-01-31   -0.225806\n",
       "2019-01-31   -0.225806\n",
       "2019-01-31   -0.225806\n",
       "Name: sport, Length: 83330, dtype: float64"
      ]
     },
     "execution_count": 17,
     "metadata": {},
     "output_type": "execute_result"
    }
   ],
   "source": [
    "NEWS['sport']"
   ]
  },
  {
   "cell_type": "code",
   "execution_count": 18,
   "metadata": {
    "collapsed": true,
    "jupyter": {
     "outputs_hidden": true
    }
   },
   "outputs": [
    {
     "name": "stderr",
     "output_type": "stream",
     "text": [
      "C:\\home\\anaconda\\envs\\Tensorflow\\lib\\site-packages\\ipykernel_launcher.py:6: SettingWithCopyWarning: \n",
      "A value is trying to be set on a copy of a slice from a DataFrame\n",
      "\n",
      "See the caveats in the documentation: https://pandas.pydata.org/pandas-docs/stable/user_guide/indexing.html#returning-a-view-versus-a-copy\n",
      "  \n",
      "C:\\home\\anaconda\\envs\\Tensorflow\\lib\\site-packages\\ipykernel_launcher.py:4: SettingWithCopyWarning: \n",
      "A value is trying to be set on a copy of a slice from a DataFrame\n",
      "\n",
      "See the caveats in the documentation: https://pandas.pydata.org/pandas-docs/stable/user_guide/indexing.html#returning-a-view-versus-a-copy\n",
      "  after removing the cwd from sys.path.\n",
      "C:\\home\\anaconda\\envs\\Tensorflow\\lib\\site-packages\\ipykernel_launcher.py:8: SettingWithCopyWarning: \n",
      "A value is trying to be set on a copy of a slice from a DataFrame\n",
      "\n",
      "See the caveats in the documentation: https://pandas.pydata.org/pandas-docs/stable/user_guide/indexing.html#returning-a-view-versus-a-copy\n",
      "  \n"
     ]
    }
   ],
   "source": [
    "NEWS['weight-S'] = 0\n",
    "for i in range(0,len(NEWS)):\n",
    "    if NEWS['sport'][i] > 0.1:\n",
    "        NEWS['weight-S'][i] = 1\n",
    "    elif NEWS['sport'][i] < -0.1:\n",
    "        NEWS['weight-S'][i] = -1\n",
    "    else:\n",
    "        NEWS['weight-S'][i] = 0"
   ]
  },
  {
   "cell_type": "code",
   "execution_count": 19,
   "metadata": {},
   "outputs": [
    {
     "data": {
      "text/plain": [
       "Counter({-1: 32040, 1: 38671, 0: 12619})"
      ]
     },
     "execution_count": 19,
     "metadata": {},
     "output_type": "execute_result"
    }
   ],
   "source": [
    "Counter(NEWS['weight-S'])"
   ]
  },
  {
   "cell_type": "code",
   "execution_count": 20,
   "metadata": {
    "collapsed": true,
    "jupyter": {
     "outputs_hidden": true
    }
   },
   "outputs": [
    {
     "name": "stderr",
     "output_type": "stream",
     "text": [
      "C:\\home\\anaconda\\envs\\Tensorflow\\lib\\site-packages\\ipykernel_launcher.py:6: SettingWithCopyWarning: \n",
      "A value is trying to be set on a copy of a slice from a DataFrame\n",
      "\n",
      "See the caveats in the documentation: https://pandas.pydata.org/pandas-docs/stable/user_guide/indexing.html#returning-a-view-versus-a-copy\n",
      "  \n",
      "C:\\home\\anaconda\\envs\\Tensorflow\\lib\\site-packages\\ipykernel_launcher.py:4: SettingWithCopyWarning: \n",
      "A value is trying to be set on a copy of a slice from a DataFrame\n",
      "\n",
      "See the caveats in the documentation: https://pandas.pydata.org/pandas-docs/stable/user_guide/indexing.html#returning-a-view-versus-a-copy\n",
      "  after removing the cwd from sys.path.\n"
     ]
    }
   ],
   "source": [
    "NEWS['total'] = 0\n",
    "for i in range(0,len(NEWS)):\n",
    "    if NEWS['category'][i] == 1:\n",
    "        NEWS['total'][i] += NEWS['weight'][i]\n",
    "    elif NEWS['category'][i] == 2:\n",
    "        NEWS['total'][i] += NEWS['weight-S'][i]"
   ]
  },
  {
   "cell_type": "code",
   "execution_count": 21,
   "metadata": {},
   "outputs": [
    {
     "data": {
      "text/plain": [
       "Counter({0: 48174, -1: 15865, 1: 19291})"
      ]
     },
     "execution_count": 21,
     "metadata": {},
     "output_type": "execute_result"
    }
   ],
   "source": [
    "Counter(NEWS['total'])"
   ]
  },
  {
   "cell_type": "code",
   "execution_count": 22,
   "metadata": {},
   "outputs": [],
   "source": [
    "dateTimeIndex = FX['2018-01-01':'2019-12-09'].index\n",
    "Weight = pd.DataFrame(index=[dateTimeIndex],columns=['weight','FX'])\n",
    "Weight['weight'] = 0\n",
    "k=0\n",
    "for i in range(0,len(NEWS)):\n",
    "    try:\n",
    "        if NEWS.index[i] == NEWS.index[i+1]:\n",
    "            Weight.iat[k,0] += NEWS['total'][i]\n",
    "        else:\n",
    "            Weight.iat[k,0] += NEWS['total'][i]\n",
    "            Weight.iat[k,1] = FX.iat[k,0]\n",
    "            k+=1\n",
    "    except IndexError:\n",
    "        if (i+1) == len(NEWS):\n",
    "            Weight.iat[k,0] += NEWS['total'][i]\n",
    "            Weight.iat[k,1] = FX.iat[k,0]"
   ]
  },
  {
   "cell_type": "code",
   "execution_count": 23,
   "metadata": {
    "collapsed": true,
    "jupyter": {
     "outputs_hidden": true
    }
   },
   "outputs": [
    {
     "data": {
      "text/plain": [
       "Counter({-22: 2,\n",
       "         21: 5,\n",
       "         67: 1,\n",
       "         72: 2,\n",
       "         176: 3,\n",
       "         101: 2,\n",
       "         28: 3,\n",
       "         35: 1,\n",
       "         68: 1,\n",
       "         153: 4,\n",
       "         235: 1,\n",
       "         254: 1,\n",
       "         88: 1,\n",
       "         59: 1,\n",
       "         53: 2,\n",
       "         222: 1,\n",
       "         180: 1,\n",
       "         210: 1,\n",
       "         204: 1,\n",
       "         86: 2,\n",
       "         55: 2,\n",
       "         45: 3,\n",
       "         194: 1,\n",
       "         132: 1,\n",
       "         172: 2,\n",
       "         182: 2,\n",
       "         58: 1,\n",
       "         26: 3,\n",
       "         23: 1,\n",
       "         171: 1,\n",
       "         173: 3,\n",
       "         151: 1,\n",
       "         -163: 1,\n",
       "         -42: 6,\n",
       "         -16: 4,\n",
       "         -7: 1,\n",
       "         -149: 1,\n",
       "         -161: 3,\n",
       "         -154: 2,\n",
       "         -171: 1,\n",
       "         -27: 1,\n",
       "         -9: 2,\n",
       "         -33: 1,\n",
       "         -144: 3,\n",
       "         -147: 1,\n",
       "         -148: 4,\n",
       "         -28: 1,\n",
       "         -11: 1,\n",
       "         -13: 2,\n",
       "         -123: 1,\n",
       "         -142: 1,\n",
       "         -47: 1,\n",
       "         -8: 1,\n",
       "         -6: 1,\n",
       "         -158: 2,\n",
       "         -136: 2,\n",
       "         0: 61,\n",
       "         -166: 2,\n",
       "         -93: 1,\n",
       "         -101: 1,\n",
       "         -74: 2,\n",
       "         -54: 3,\n",
       "         -65: 1,\n",
       "         -155: 2,\n",
       "         -181: 1,\n",
       "         -162: 2,\n",
       "         -170: 2,\n",
       "         -150: 3,\n",
       "         -187: 1,\n",
       "         -175: 2,\n",
       "         -193: 1,\n",
       "         -87: 2,\n",
       "         -43: 2,\n",
       "         -117: 1,\n",
       "         -151: 2,\n",
       "         -177: 1,\n",
       "         -184: 1,\n",
       "         -53: 1,\n",
       "         -46: 2,\n",
       "         -124: 1,\n",
       "         -152: 4,\n",
       "         64: 2,\n",
       "         37: 3,\n",
       "         150: 1,\n",
       "         154: 3,\n",
       "         142: 3,\n",
       "         75: 1,\n",
       "         146: 3,\n",
       "         44: 2,\n",
       "         34: 3,\n",
       "         138: 1,\n",
       "         199: 1,\n",
       "         187: 2,\n",
       "         80: 1,\n",
       "         31: 2,\n",
       "         162: 1,\n",
       "         185: 2,\n",
       "         136: 2,\n",
       "         145: 1,\n",
       "         134: 1,\n",
       "         147: 2,\n",
       "         71: 1,\n",
       "         47: 1,\n",
       "         166: 1,\n",
       "         165: 2,\n",
       "         170: 3,\n",
       "         190: 1,\n",
       "         74: 1,\n",
       "         62: 1,\n",
       "         94: 2,\n",
       "         192: 2,\n",
       "         90: 1,\n",
       "         92: 1,\n",
       "         158: 1,\n",
       "         137: 1,\n",
       "         181: 1,\n",
       "         46: 2,\n",
       "         39: 2,\n",
       "         131: 2,\n",
       "         161: 2,\n",
       "         -157: 1,\n",
       "         -57: 1,\n",
       "         -37: 1,\n",
       "         -34: 1,\n",
       "         -182: 3,\n",
       "         -79: 1,\n",
       "         -45: 1,\n",
       "         -51: 2,\n",
       "         -201: 1,\n",
       "         -186: 2,\n",
       "         -84: 2,\n",
       "         -55: 1,\n",
       "         -66: 1,\n",
       "         -194: 1,\n",
       "         -196: 1,\n",
       "         -25: 2,\n",
       "         -137: 3,\n",
       "         -131: 3,\n",
       "         -156: 1,\n",
       "         -58: 1,\n",
       "         22: 1,\n",
       "         110: 1,\n",
       "         163: 3,\n",
       "         14: 3,\n",
       "         16: 5,\n",
       "         157: 2,\n",
       "         186: 1,\n",
       "         60: 1,\n",
       "         17: 4,\n",
       "         18: 1,\n",
       "         164: 2,\n",
       "         167: 1,\n",
       "         41: 2,\n",
       "         20: 3,\n",
       "         139: 2,\n",
       "         56: 1,\n",
       "         24: 1,\n",
       "         169: 1,\n",
       "         140: 1,\n",
       "         160: 3,\n",
       "         52: 1,\n",
       "         11: 3,\n",
       "         159: 2,\n",
       "         195: 1,\n",
       "         155: 1,\n",
       "         168: 2,\n",
       "         57: 1,\n",
       "         15: 2,\n",
       "         66: 1,\n",
       "         178: 1,\n",
       "         184: 1,\n",
       "         -179: 1,\n",
       "         -18: 1,\n",
       "         -138: 1,\n",
       "         -48: 1,\n",
       "         -141: 1,\n",
       "         -19: 1,\n",
       "         -143: 1,\n",
       "         -12: 1,\n",
       "         -15: 2,\n",
       "         -140: 1,\n",
       "         -167: 1,\n",
       "         -160: 2,\n",
       "         -192: 2,\n",
       "         -75: 1,\n",
       "         141: 1,\n",
       "         201: 1,\n",
       "         63: 1,\n",
       "         148: 1,\n",
       "         49: 2,\n",
       "         7: 1,\n",
       "         102: 1,\n",
       "         115: 1,\n",
       "         -23: 1,\n",
       "         -35: 1,\n",
       "         -70: 1,\n",
       "         -14: 2,\n",
       "         -114: 1,\n",
       "         -59: 1,\n",
       "         -188: 1,\n",
       "         -180: 1,\n",
       "         -72: 1,\n",
       "         -39: 1,\n",
       "         -89: 1,\n",
       "         -139: 1,\n",
       "         -88: 1,\n",
       "         -61: 1,\n",
       "         -128: 1,\n",
       "         -198: 1})"
      ]
     },
     "execution_count": 23,
     "metadata": {},
     "output_type": "execute_result"
    }
   ],
   "source": [
    "Counter(Weight['weight'])"
   ]
  },
  {
   "cell_type": "code",
   "execution_count": 24,
   "metadata": {},
   "outputs": [],
   "source": [
    "Weight.to_csv(\"scraping/Weight-FXandSPORT2018-2019.csv\")"
   ]
  },
  {
   "cell_type": "code",
   "execution_count": null,
   "metadata": {},
   "outputs": [],
   "source": []
  }
 ],
 "metadata": {
  "kernelspec": {
   "display_name": "Python 3",
   "language": "python",
   "name": "python3"
  },
  "language_info": {
   "codemirror_mode": {
    "name": "ipython",
    "version": 3
   },
   "file_extension": ".py",
   "mimetype": "text/x-python",
   "name": "python",
   "nbconvert_exporter": "python",
   "pygments_lexer": "ipython3",
   "version": "3.7.9"
  }
 },
 "nbformat": 4,
 "nbformat_minor": 4
}
